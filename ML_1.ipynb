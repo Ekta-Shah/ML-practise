{
  "nbformat": 4,
  "nbformat_minor": 0,
  "metadata": {
    "colab": {
      "name": "ML_1.ipynb",
      "version": "0.3.2",
      "provenance": [],
      "collapsed_sections": [],
      "include_colab_link": true
    },
    "kernelspec": {
      "name": "python3",
      "display_name": "Python 3"
    }
  },
  "cells": [
    {
      "cell_type": "markdown",
      "metadata": {
        "id": "view-in-github",
        "colab_type": "text"
      },
      "source": [
        "<a href=\"https://colab.research.google.com/github/Ekta-Shah/ML-practise/blob/master/ML_1.ipynb\" target=\"_parent\"><img src=\"https://colab.research.google.com/assets/colab-badge.svg\" alt=\"Open In Colab\"/></a>"
      ]
    },
    {
      "metadata": {
        "id": "csJzcxaKk0Lj",
        "colab_type": "code",
        "colab": {}
      },
      "cell_type": "code",
      "source": [
        "import pandas as pd"
      ],
      "execution_count": 0,
      "outputs": []
    },
    {
      "metadata": {
        "id": "ODye8ywKlnus",
        "colab_type": "code",
        "colab": {}
      },
      "cell_type": "code",
      "source": [
        "import numpy as np"
      ],
      "execution_count": 0,
      "outputs": []
    },
    {
      "metadata": {
        "id": "_rTcpO6MlrF4",
        "colab_type": "code",
        "colab": {}
      },
      "cell_type": "code",
      "source": [
        "import matplotlib.pyplot as plt"
      ],
      "execution_count": 0,
      "outputs": []
    },
    {
      "metadata": {
        "id": "7jo3_x1zltMg",
        "colab_type": "code",
        "outputId": "b8318d7c-963c-41ed-86a9-8ba230817968",
        "colab": {
          "base_uri": "https://localhost:8080/",
          "height": 34
        }
      },
      "cell_type": "code",
      "source": [
        "!pip install -U -q PyDrive\n",
        "from pydrive.auth import GoogleAuth\n",
        "from pydrive.drive import GoogleDrive\n",
        "from google.colab import auth\n",
        "from oauth2client.client import GoogleCredentials\n",
        "# Authenticate and create the PyDrive client.\n",
        "auth.authenticate_user()\n",
        "gauth = GoogleAuth()\n",
        "gauth.credentials = GoogleCredentials.get_application_default()\n",
        "drive = GoogleDrive(gauth)\n",
        "\n",
        "link = \"https://drive.google.com/open?id=1gCF1oOnmX72qwgBAsJm5qBt6hUF5dFtK\"\n",
        "fluff, id = link.split('=')\n",
        "print (id) # Verify that you have everything after '='\n",
        "downloaded = drive.CreateFile({'id':id}) \n",
        "downloaded.GetContentFile('h-1b-visa.zip')  \n",
        "#df = pd.read_csv('train.csv')"
      ],
      "execution_count": 0,
      "outputs": [
        {
          "output_type": "stream",
          "text": [
            "1gCF1oOnmX72qwgBAsJm5qBt6hUF5dFtK\n"
          ],
          "name": "stdout"
        }
      ]
    },
    {
      "metadata": {
        "id": "YdJ_PHZbmdNT",
        "colab_type": "code",
        "outputId": "2cb9242b-e646-4b51-d1da-451c50fdc5fe",
        "colab": {
          "base_uri": "https://localhost:8080/",
          "height": 51
        }
      },
      "cell_type": "code",
      "source": [
        "!unzip 'h-1b-visa.zip'"
      ],
      "execution_count": 0,
      "outputs": [
        {
          "output_type": "stream",
          "text": [
            "Archive:  h-1b-visa.zip\n",
            "replace h1b_kaggle.csv? [y]es, [n]o, [A]ll, [N]one, [r]ename: n\n"
          ],
          "name": "stdout"
        }
      ]
    },
    {
      "metadata": {
        "id": "Yxo4OxnQmpXk",
        "colab_type": "code",
        "colab": {}
      },
      "cell_type": "code",
      "source": [
        "df = pd.read_csv('h1b_kaggle.csv')"
      ],
      "execution_count": 0,
      "outputs": []
    },
    {
      "metadata": {
        "id": "yAJFbgWPmxSg",
        "colab_type": "code",
        "outputId": "e08debb4-e049-485e-9b66-f9d42be2018f",
        "colab": {
          "base_uri": "https://localhost:8080/",
          "height": 408
        }
      },
      "cell_type": "code",
      "source": [
        "df.head()"
      ],
      "execution_count": 0,
      "outputs": [
        {
          "output_type": "execute_result",
          "data": {
            "text/html": [
              "<div>\n",
              "<style scoped>\n",
              "    .dataframe tbody tr th:only-of-type {\n",
              "        vertical-align: middle;\n",
              "    }\n",
              "\n",
              "    .dataframe tbody tr th {\n",
              "        vertical-align: top;\n",
              "    }\n",
              "\n",
              "    .dataframe thead th {\n",
              "        text-align: right;\n",
              "    }\n",
              "</style>\n",
              "<table border=\"1\" class=\"dataframe\">\n",
              "  <thead>\n",
              "    <tr style=\"text-align: right;\">\n",
              "      <th></th>\n",
              "      <th>Unnamed: 0</th>\n",
              "      <th>CASE_STATUS</th>\n",
              "      <th>EMPLOYER_NAME</th>\n",
              "      <th>SOC_NAME</th>\n",
              "      <th>JOB_TITLE</th>\n",
              "      <th>FULL_TIME_POSITION</th>\n",
              "      <th>PREVAILING_WAGE</th>\n",
              "      <th>YEAR</th>\n",
              "      <th>WORKSITE</th>\n",
              "      <th>lon</th>\n",
              "      <th>lat</th>\n",
              "    </tr>\n",
              "  </thead>\n",
              "  <tbody>\n",
              "    <tr>\n",
              "      <th>0</th>\n",
              "      <td>1</td>\n",
              "      <td>CERTIFIED-WITHDRAWN</td>\n",
              "      <td>UNIVERSITY OF MICHIGAN</td>\n",
              "      <td>BIOCHEMISTS AND BIOPHYSICISTS</td>\n",
              "      <td>POSTDOCTORAL RESEARCH FELLOW</td>\n",
              "      <td>N</td>\n",
              "      <td>36067.0</td>\n",
              "      <td>2016.0</td>\n",
              "      <td>ANN ARBOR, MICHIGAN</td>\n",
              "      <td>-83.743038</td>\n",
              "      <td>42.280826</td>\n",
              "    </tr>\n",
              "    <tr>\n",
              "      <th>1</th>\n",
              "      <td>2</td>\n",
              "      <td>CERTIFIED-WITHDRAWN</td>\n",
              "      <td>GOODMAN NETWORKS, INC.</td>\n",
              "      <td>CHIEF EXECUTIVES</td>\n",
              "      <td>CHIEF OPERATING OFFICER</td>\n",
              "      <td>Y</td>\n",
              "      <td>242674.0</td>\n",
              "      <td>2016.0</td>\n",
              "      <td>PLANO, TEXAS</td>\n",
              "      <td>-96.698886</td>\n",
              "      <td>33.019843</td>\n",
              "    </tr>\n",
              "    <tr>\n",
              "      <th>2</th>\n",
              "      <td>3</td>\n",
              "      <td>CERTIFIED-WITHDRAWN</td>\n",
              "      <td>PORTS AMERICA GROUP, INC.</td>\n",
              "      <td>CHIEF EXECUTIVES</td>\n",
              "      <td>CHIEF PROCESS OFFICER</td>\n",
              "      <td>Y</td>\n",
              "      <td>193066.0</td>\n",
              "      <td>2016.0</td>\n",
              "      <td>JERSEY CITY, NEW JERSEY</td>\n",
              "      <td>-74.077642</td>\n",
              "      <td>40.728158</td>\n",
              "    </tr>\n",
              "    <tr>\n",
              "      <th>3</th>\n",
              "      <td>4</td>\n",
              "      <td>CERTIFIED-WITHDRAWN</td>\n",
              "      <td>GATES CORPORATION, A WHOLLY-OWNED SUBSIDIARY O...</td>\n",
              "      <td>CHIEF EXECUTIVES</td>\n",
              "      <td>REGIONAL PRESIDEN, AMERICAS</td>\n",
              "      <td>Y</td>\n",
              "      <td>220314.0</td>\n",
              "      <td>2016.0</td>\n",
              "      <td>DENVER, COLORADO</td>\n",
              "      <td>-104.990251</td>\n",
              "      <td>39.739236</td>\n",
              "    </tr>\n",
              "    <tr>\n",
              "      <th>4</th>\n",
              "      <td>5</td>\n",
              "      <td>WITHDRAWN</td>\n",
              "      <td>PEABODY INVESTMENTS CORP.</td>\n",
              "      <td>CHIEF EXECUTIVES</td>\n",
              "      <td>PRESIDENT MONGOLIA AND INDIA</td>\n",
              "      <td>Y</td>\n",
              "      <td>157518.4</td>\n",
              "      <td>2016.0</td>\n",
              "      <td>ST. LOUIS, MISSOURI</td>\n",
              "      <td>-90.199404</td>\n",
              "      <td>38.627003</td>\n",
              "    </tr>\n",
              "  </tbody>\n",
              "</table>\n",
              "</div>"
            ],
            "text/plain": [
              "   Unnamed: 0          CASE_STATUS  \\\n",
              "0           1  CERTIFIED-WITHDRAWN   \n",
              "1           2  CERTIFIED-WITHDRAWN   \n",
              "2           3  CERTIFIED-WITHDRAWN   \n",
              "3           4  CERTIFIED-WITHDRAWN   \n",
              "4           5            WITHDRAWN   \n",
              "\n",
              "                                       EMPLOYER_NAME  \\\n",
              "0                             UNIVERSITY OF MICHIGAN   \n",
              "1                             GOODMAN NETWORKS, INC.   \n",
              "2                          PORTS AMERICA GROUP, INC.   \n",
              "3  GATES CORPORATION, A WHOLLY-OWNED SUBSIDIARY O...   \n",
              "4                          PEABODY INVESTMENTS CORP.   \n",
              "\n",
              "                        SOC_NAME                     JOB_TITLE  \\\n",
              "0  BIOCHEMISTS AND BIOPHYSICISTS  POSTDOCTORAL RESEARCH FELLOW   \n",
              "1               CHIEF EXECUTIVES       CHIEF OPERATING OFFICER   \n",
              "2               CHIEF EXECUTIVES         CHIEF PROCESS OFFICER   \n",
              "3               CHIEF EXECUTIVES   REGIONAL PRESIDEN, AMERICAS   \n",
              "4               CHIEF EXECUTIVES  PRESIDENT MONGOLIA AND INDIA   \n",
              "\n",
              "  FULL_TIME_POSITION  PREVAILING_WAGE    YEAR                 WORKSITE  \\\n",
              "0                  N          36067.0  2016.0      ANN ARBOR, MICHIGAN   \n",
              "1                  Y         242674.0  2016.0             PLANO, TEXAS   \n",
              "2                  Y         193066.0  2016.0  JERSEY CITY, NEW JERSEY   \n",
              "3                  Y         220314.0  2016.0         DENVER, COLORADO   \n",
              "4                  Y         157518.4  2016.0      ST. LOUIS, MISSOURI   \n",
              "\n",
              "          lon        lat  \n",
              "0  -83.743038  42.280826  \n",
              "1  -96.698886  33.019843  \n",
              "2  -74.077642  40.728158  \n",
              "3 -104.990251  39.739236  \n",
              "4  -90.199404  38.627003  "
            ]
          },
          "metadata": {
            "tags": []
          },
          "execution_count": 9
        }
      ]
    },
    {
      "metadata": {
        "id": "CxeWq29xm3K0",
        "colab_type": "code",
        "outputId": "6d863249-dfd0-4fc9-c639-d7784dfea3a2",
        "colab": {
          "base_uri": "https://localhost:8080/",
          "height": 34
        }
      },
      "cell_type": "code",
      "source": [
        "df.shape"
      ],
      "execution_count": 0,
      "outputs": [
        {
          "output_type": "execute_result",
          "data": {
            "text/plain": [
              "(3002458, 11)"
            ]
          },
          "metadata": {
            "tags": []
          },
          "execution_count": 10
        }
      ]
    },
    {
      "metadata": {
        "id": "3HqPW__Qm8v0",
        "colab_type": "code",
        "outputId": "c443d158-5abd-402f-db88-a5d6c452c015",
        "colab": {
          "base_uri": "https://localhost:8080/",
          "height": 153
        }
      },
      "cell_type": "code",
      "source": [
        "df[\"CASE_STATUS\"].value_counts()"
      ],
      "execution_count": 0,
      "outputs": [
        {
          "output_type": "execute_result",
          "data": {
            "text/plain": [
              "CERTIFIED                                             2615623\n",
              "CERTIFIED-WITHDRAWN                                    202659\n",
              "DENIED                                                  94346\n",
              "WITHDRAWN                                               89799\n",
              "PENDING QUALITY AND COMPLIANCE REVIEW - UNASSIGNED         15\n",
              "REJECTED                                                    2\n",
              "INVALIDATED                                                 1\n",
              "Name: CASE_STATUS, dtype: int64"
            ]
          },
          "metadata": {
            "tags": []
          },
          "execution_count": 11
        }
      ]
    },
    {
      "metadata": {
        "id": "csqq-at6nhC8",
        "colab_type": "code",
        "outputId": "71054733-1c52-4321-fa96-2fcabaa64355",
        "colab": {
          "base_uri": "https://localhost:8080/",
          "height": 221
        }
      },
      "cell_type": "code",
      "source": [
        "df.isnull().sum()"
      ],
      "execution_count": 0,
      "outputs": [
        {
          "output_type": "execute_result",
          "data": {
            "text/plain": [
              "Unnamed: 0                 0\n",
              "CASE_STATUS               13\n",
              "EMPLOYER_NAME             59\n",
              "SOC_NAME               17734\n",
              "JOB_TITLE                 43\n",
              "FULL_TIME_POSITION        15\n",
              "PREVAILING_WAGE           85\n",
              "YEAR                      13\n",
              "WORKSITE                   0\n",
              "lon                   107242\n",
              "lat                   107242\n",
              "dtype: int64"
            ]
          },
          "metadata": {
            "tags": []
          },
          "execution_count": 12
        }
      ]
    },
    {
      "metadata": {
        "id": "RewDz6jaoRJL",
        "colab_type": "code",
        "outputId": "ba1e094b-7d96-41ba-eb9b-8cc827e78bed",
        "colab": {
          "base_uri": "https://localhost:8080/",
          "height": 34
        }
      },
      "cell_type": "code",
      "source": [
        "107242/3002458*100"
      ],
      "execution_count": 0,
      "outputs": [
        {
          "output_type": "execute_result",
          "data": {
            "text/plain": [
              "3.5718068329348815"
            ]
          },
          "metadata": {
            "tags": []
          },
          "execution_count": 12
        }
      ]
    },
    {
      "metadata": {
        "id": "w_24dcncoaVK",
        "colab_type": "code",
        "colab": {}
      },
      "cell_type": "code",
      "source": [
        "df1=df.drop([\"Unnamed: 0\"],1)"
      ],
      "execution_count": 0,
      "outputs": []
    },
    {
      "metadata": {
        "id": "915HYsPEpUy1",
        "colab_type": "code",
        "outputId": "0351d966-e109-401d-bb41-826a7aebf065",
        "colab": {
          "base_uri": "https://localhost:8080/",
          "height": 204
        }
      },
      "cell_type": "code",
      "source": [
        "df1.isnull().sum()"
      ],
      "execution_count": 0,
      "outputs": [
        {
          "output_type": "execute_result",
          "data": {
            "text/plain": [
              "CASE_STATUS               13\n",
              "EMPLOYER_NAME             59\n",
              "SOC_NAME               17734\n",
              "JOB_TITLE                 43\n",
              "FULL_TIME_POSITION        15\n",
              "PREVAILING_WAGE           85\n",
              "YEAR                      13\n",
              "WORKSITE                   0\n",
              "lon                   107242\n",
              "lat                   107242\n",
              "dtype: int64"
            ]
          },
          "metadata": {
            "tags": []
          },
          "execution_count": 14
        }
      ]
    },
    {
      "metadata": {
        "id": "Gyq_kivkpXQ0",
        "colab_type": "code",
        "outputId": "c26c1d35-cf23-4863-b257-818a9e5cee3e",
        "colab": {
          "base_uri": "https://localhost:8080/",
          "height": 2071
        }
      },
      "cell_type": "code",
      "source": [
        "numerical = df1.select_dtypes(include =  np.number)\n",
        "\n",
        "\n",
        "\n",
        "def clean_numerical(column):\n",
        "    mean=numerical[numerical[column]!=np.nan][column].astype(float).mean()\n",
        "    numerical[column] = round(numerical[column].replace(np.nan,str(mean)).astype(float))\n",
        "    return numerical\n",
        "numerical.head()\n",
        "numerical.isnull().sum()\n",
        "clean_numerical('YEAR')"
      ],
      "execution_count": 0,
      "outputs": [
        {
          "output_type": "stream",
          "text": [
            "/usr/local/lib/python3.6/dist-packages/ipykernel_launcher.py:7: SettingWithCopyWarning: \n",
            "A value is trying to be set on a copy of a slice from a DataFrame.\n",
            "Try using .loc[row_indexer,col_indexer] = value instead\n",
            "\n",
            "See the caveats in the documentation: http://pandas.pydata.org/pandas-docs/stable/indexing.html#indexing-view-versus-copy\n",
            "  import sys\n"
          ],
          "name": "stderr"
        },
        {
          "output_type": "execute_result",
          "data": {
            "text/html": [
              "<div>\n",
              "<style scoped>\n",
              "    .dataframe tbody tr th:only-of-type {\n",
              "        vertical-align: middle;\n",
              "    }\n",
              "\n",
              "    .dataframe tbody tr th {\n",
              "        vertical-align: top;\n",
              "    }\n",
              "\n",
              "    .dataframe thead th {\n",
              "        text-align: right;\n",
              "    }\n",
              "</style>\n",
              "<table border=\"1\" class=\"dataframe\">\n",
              "  <thead>\n",
              "    <tr style=\"text-align: right;\">\n",
              "      <th></th>\n",
              "      <th>PREVAILING_WAGE</th>\n",
              "      <th>YEAR</th>\n",
              "      <th>lon</th>\n",
              "      <th>lat</th>\n",
              "    </tr>\n",
              "  </thead>\n",
              "  <tbody>\n",
              "    <tr>\n",
              "      <th>0</th>\n",
              "      <td>36067.00</td>\n",
              "      <td>2016.0</td>\n",
              "      <td>-83.743038</td>\n",
              "      <td>42.280826</td>\n",
              "    </tr>\n",
              "    <tr>\n",
              "      <th>1</th>\n",
              "      <td>242674.00</td>\n",
              "      <td>2016.0</td>\n",
              "      <td>-96.698886</td>\n",
              "      <td>33.019843</td>\n",
              "    </tr>\n",
              "    <tr>\n",
              "      <th>2</th>\n",
              "      <td>193066.00</td>\n",
              "      <td>2016.0</td>\n",
              "      <td>-74.077642</td>\n",
              "      <td>40.728158</td>\n",
              "    </tr>\n",
              "    <tr>\n",
              "      <th>3</th>\n",
              "      <td>220314.00</td>\n",
              "      <td>2016.0</td>\n",
              "      <td>-104.990251</td>\n",
              "      <td>39.739236</td>\n",
              "    </tr>\n",
              "    <tr>\n",
              "      <th>4</th>\n",
              "      <td>157518.40</td>\n",
              "      <td>2016.0</td>\n",
              "      <td>-90.199404</td>\n",
              "      <td>38.627003</td>\n",
              "    </tr>\n",
              "    <tr>\n",
              "      <th>5</th>\n",
              "      <td>225000.00</td>\n",
              "      <td>2016.0</td>\n",
              "      <td>-80.191790</td>\n",
              "      <td>25.761680</td>\n",
              "    </tr>\n",
              "    <tr>\n",
              "      <th>6</th>\n",
              "      <td>91021.00</td>\n",
              "      <td>2016.0</td>\n",
              "      <td>-95.369803</td>\n",
              "      <td>29.760427</td>\n",
              "    </tr>\n",
              "    <tr>\n",
              "      <th>7</th>\n",
              "      <td>150000.00</td>\n",
              "      <td>2016.0</td>\n",
              "      <td>-121.886329</td>\n",
              "      <td>37.338208</td>\n",
              "    </tr>\n",
              "    <tr>\n",
              "      <th>8</th>\n",
              "      <td>127546.00</td>\n",
              "      <td>2016.0</td>\n",
              "      <td>NaN</td>\n",
              "      <td>NaN</td>\n",
              "    </tr>\n",
              "    <tr>\n",
              "      <th>9</th>\n",
              "      <td>154648.00</td>\n",
              "      <td>2016.0</td>\n",
              "      <td>-77.265260</td>\n",
              "      <td>38.901222</td>\n",
              "    </tr>\n",
              "    <tr>\n",
              "      <th>10</th>\n",
              "      <td>182978.00</td>\n",
              "      <td>2016.0</td>\n",
              "      <td>-79.995886</td>\n",
              "      <td>40.440625</td>\n",
              "    </tr>\n",
              "    <tr>\n",
              "      <th>11</th>\n",
              "      <td>163717.00</td>\n",
              "      <td>2016.0</td>\n",
              "      <td>-84.247212</td>\n",
              "      <td>43.615583</td>\n",
              "    </tr>\n",
              "    <tr>\n",
              "      <th>12</th>\n",
              "      <td>203860.80</td>\n",
              "      <td>2016.0</td>\n",
              "      <td>NaN</td>\n",
              "      <td>NaN</td>\n",
              "    </tr>\n",
              "    <tr>\n",
              "      <th>13</th>\n",
              "      <td>252637.00</td>\n",
              "      <td>2016.0</td>\n",
              "      <td>-80.191790</td>\n",
              "      <td>25.761680</td>\n",
              "    </tr>\n",
              "    <tr>\n",
              "      <th>14</th>\n",
              "      <td>105914.00</td>\n",
              "      <td>2016.0</td>\n",
              "      <td>-104.950814</td>\n",
              "      <td>39.617210</td>\n",
              "    </tr>\n",
              "    <tr>\n",
              "      <th>15</th>\n",
              "      <td>153046.00</td>\n",
              "      <td>2016.0</td>\n",
              "      <td>-77.429130</td>\n",
              "      <td>39.006699</td>\n",
              "    </tr>\n",
              "    <tr>\n",
              "      <th>16</th>\n",
              "      <td>90834.00</td>\n",
              "      <td>2016.0</td>\n",
              "      <td>-88.231481</td>\n",
              "      <td>43.011678</td>\n",
              "    </tr>\n",
              "    <tr>\n",
              "      <th>17</th>\n",
              "      <td>164050.00</td>\n",
              "      <td>2016.0</td>\n",
              "      <td>-118.243685</td>\n",
              "      <td>34.052234</td>\n",
              "    </tr>\n",
              "    <tr>\n",
              "      <th>18</th>\n",
              "      <td>187200.00</td>\n",
              "      <td>2016.0</td>\n",
              "      <td>-121.955236</td>\n",
              "      <td>37.354108</td>\n",
              "    </tr>\n",
              "    <tr>\n",
              "      <th>19</th>\n",
              "      <td>241842.00</td>\n",
              "      <td>2016.0</td>\n",
              "      <td>-77.046921</td>\n",
              "      <td>38.804835</td>\n",
              "    </tr>\n",
              "    <tr>\n",
              "      <th>20</th>\n",
              "      <td>117998.00</td>\n",
              "      <td>2016.0</td>\n",
              "      <td>-118.159793</td>\n",
              "      <td>34.000569</td>\n",
              "    </tr>\n",
              "    <tr>\n",
              "      <th>21</th>\n",
              "      <td>164050.00</td>\n",
              "      <td>2016.0</td>\n",
              "      <td>-118.243685</td>\n",
              "      <td>34.052234</td>\n",
              "    </tr>\n",
              "    <tr>\n",
              "      <th>22</th>\n",
              "      <td>99986.00</td>\n",
              "      <td>2016.0</td>\n",
              "      <td>-117.161084</td>\n",
              "      <td>32.715738</td>\n",
              "    </tr>\n",
              "    <tr>\n",
              "      <th>23</th>\n",
              "      <td>99986.00</td>\n",
              "      <td>2016.0</td>\n",
              "      <td>-117.084196</td>\n",
              "      <td>32.640054</td>\n",
              "    </tr>\n",
              "    <tr>\n",
              "      <th>24</th>\n",
              "      <td>159370.00</td>\n",
              "      <td>2016.0</td>\n",
              "      <td>-80.191790</td>\n",
              "      <td>25.761680</td>\n",
              "    </tr>\n",
              "    <tr>\n",
              "      <th>25</th>\n",
              "      <td>187200.00</td>\n",
              "      <td>2016.0</td>\n",
              "      <td>-121.955236</td>\n",
              "      <td>37.354108</td>\n",
              "    </tr>\n",
              "    <tr>\n",
              "      <th>26</th>\n",
              "      <td>130853.00</td>\n",
              "      <td>2016.0</td>\n",
              "      <td>-87.629798</td>\n",
              "      <td>41.878114</td>\n",
              "    </tr>\n",
              "    <tr>\n",
              "      <th>27</th>\n",
              "      <td>215862.00</td>\n",
              "      <td>2016.0</td>\n",
              "      <td>-122.419415</td>\n",
              "      <td>37.774929</td>\n",
              "    </tr>\n",
              "    <tr>\n",
              "      <th>28</th>\n",
              "      <td>192088.00</td>\n",
              "      <td>2016.0</td>\n",
              "      <td>-97.743061</td>\n",
              "      <td>30.267153</td>\n",
              "    </tr>\n",
              "    <tr>\n",
              "      <th>29</th>\n",
              "      <td>95295.98</td>\n",
              "      <td>2016.0</td>\n",
              "      <td>-80.399775</td>\n",
              "      <td>26.100365</td>\n",
              "    </tr>\n",
              "    <tr>\n",
              "      <th>...</th>\n",
              "      <td>...</td>\n",
              "      <td>...</td>\n",
              "      <td>...</td>\n",
              "      <td>...</td>\n",
              "    </tr>\n",
              "    <tr>\n",
              "      <th>3002428</th>\n",
              "      <td>53601.60</td>\n",
              "      <td>2011.0</td>\n",
              "      <td>NaN</td>\n",
              "      <td>NaN</td>\n",
              "    </tr>\n",
              "    <tr>\n",
              "      <th>3002429</th>\n",
              "      <td>53601.60</td>\n",
              "      <td>2011.0</td>\n",
              "      <td>NaN</td>\n",
              "      <td>NaN</td>\n",
              "    </tr>\n",
              "    <tr>\n",
              "      <th>3002430</th>\n",
              "      <td>55245.00</td>\n",
              "      <td>2011.0</td>\n",
              "      <td>-74.412095</td>\n",
              "      <td>40.518715</td>\n",
              "    </tr>\n",
              "    <tr>\n",
              "      <th>3002431</th>\n",
              "      <td>36837.00</td>\n",
              "      <td>2011.0</td>\n",
              "      <td>-74.056530</td>\n",
              "      <td>40.789545</td>\n",
              "    </tr>\n",
              "    <tr>\n",
              "      <th>3002432</th>\n",
              "      <td>55245.00</td>\n",
              "      <td>2011.0</td>\n",
              "      <td>-74.412095</td>\n",
              "      <td>40.518715</td>\n",
              "    </tr>\n",
              "    <tr>\n",
              "      <th>3002433</th>\n",
              "      <td>36795.00</td>\n",
              "      <td>2011.0</td>\n",
              "      <td>-96.796988</td>\n",
              "      <td>32.776664</td>\n",
              "    </tr>\n",
              "    <tr>\n",
              "      <th>3002434</th>\n",
              "      <td>55245.00</td>\n",
              "      <td>2011.0</td>\n",
              "      <td>-74.412095</td>\n",
              "      <td>40.518715</td>\n",
              "    </tr>\n",
              "    <tr>\n",
              "      <th>3002435</th>\n",
              "      <td>77730.00</td>\n",
              "      <td>2011.0</td>\n",
              "      <td>-78.898619</td>\n",
              "      <td>35.994033</td>\n",
              "    </tr>\n",
              "    <tr>\n",
              "      <th>3002436</th>\n",
              "      <td>89232.00</td>\n",
              "      <td>2011.0</td>\n",
              "      <td>-121.955236</td>\n",
              "      <td>37.354108</td>\n",
              "    </tr>\n",
              "    <tr>\n",
              "      <th>3002437</th>\n",
              "      <td>34510.00</td>\n",
              "      <td>2011.0</td>\n",
              "      <td>-90.184810</td>\n",
              "      <td>32.298757</td>\n",
              "    </tr>\n",
              "    <tr>\n",
              "      <th>3002438</th>\n",
              "      <td>53082.00</td>\n",
              "      <td>2011.0</td>\n",
              "      <td>-121.874679</td>\n",
              "      <td>37.662431</td>\n",
              "    </tr>\n",
              "    <tr>\n",
              "      <th>3002439</th>\n",
              "      <td>37336.00</td>\n",
              "      <td>2011.0</td>\n",
              "      <td>-74.005941</td>\n",
              "      <td>40.712784</td>\n",
              "    </tr>\n",
              "    <tr>\n",
              "      <th>3002440</th>\n",
              "      <td>64800.00</td>\n",
              "      <td>2011.0</td>\n",
              "      <td>-122.245536</td>\n",
              "      <td>37.536413</td>\n",
              "    </tr>\n",
              "    <tr>\n",
              "      <th>3002441</th>\n",
              "      <td>70553.60</td>\n",
              "      <td>2011.0</td>\n",
              "      <td>-112.001050</td>\n",
              "      <td>40.691613</td>\n",
              "    </tr>\n",
              "    <tr>\n",
              "      <th>3002442</th>\n",
              "      <td>33800.00</td>\n",
              "      <td>2011.0</td>\n",
              "      <td>-81.519005</td>\n",
              "      <td>41.081445</td>\n",
              "    </tr>\n",
              "    <tr>\n",
              "      <th>3002443</th>\n",
              "      <td>59800.00</td>\n",
              "      <td>2011.0</td>\n",
              "      <td>-71.367284</td>\n",
              "      <td>42.599814</td>\n",
              "    </tr>\n",
              "    <tr>\n",
              "      <th>3002444</th>\n",
              "      <td>59800.00</td>\n",
              "      <td>2011.0</td>\n",
              "      <td>-71.367284</td>\n",
              "      <td>42.599814</td>\n",
              "    </tr>\n",
              "    <tr>\n",
              "      <th>3002445</th>\n",
              "      <td>NaN</td>\n",
              "      <td>2014.0</td>\n",
              "      <td>-74.431052</td>\n",
              "      <td>40.680873</td>\n",
              "    </tr>\n",
              "    <tr>\n",
              "      <th>3002446</th>\n",
              "      <td>NaN</td>\n",
              "      <td>2014.0</td>\n",
              "      <td>-73.939569</td>\n",
              "      <td>42.814243</td>\n",
              "    </tr>\n",
              "    <tr>\n",
              "      <th>3002447</th>\n",
              "      <td>NaN</td>\n",
              "      <td>2014.0</td>\n",
              "      <td>-122.083851</td>\n",
              "      <td>37.386052</td>\n",
              "    </tr>\n",
              "    <tr>\n",
              "      <th>3002448</th>\n",
              "      <td>NaN</td>\n",
              "      <td>2014.0</td>\n",
              "      <td>-93.089958</td>\n",
              "      <td>44.953703</td>\n",
              "    </tr>\n",
              "    <tr>\n",
              "      <th>3002449</th>\n",
              "      <td>NaN</td>\n",
              "      <td>2014.0</td>\n",
              "      <td>-74.932260</td>\n",
              "      <td>40.228337</td>\n",
              "    </tr>\n",
              "    <tr>\n",
              "      <th>3002450</th>\n",
              "      <td>NaN</td>\n",
              "      <td>2014.0</td>\n",
              "      <td>-105.037205</td>\n",
              "      <td>39.836653</td>\n",
              "    </tr>\n",
              "    <tr>\n",
              "      <th>3002451</th>\n",
              "      <td>NaN</td>\n",
              "      <td>2014.0</td>\n",
              "      <td>-121.988572</td>\n",
              "      <td>37.548270</td>\n",
              "    </tr>\n",
              "    <tr>\n",
              "      <th>3002452</th>\n",
              "      <td>NaN</td>\n",
              "      <td>2014.0</td>\n",
              "      <td>-86.581939</td>\n",
              "      <td>36.015618</td>\n",
              "    </tr>\n",
              "    <tr>\n",
              "      <th>3002453</th>\n",
              "      <td>NaN</td>\n",
              "      <td>2014.0</td>\n",
              "      <td>-74.005941</td>\n",
              "      <td>40.712784</td>\n",
              "    </tr>\n",
              "    <tr>\n",
              "      <th>3002454</th>\n",
              "      <td>NaN</td>\n",
              "      <td>2014.0</td>\n",
              "      <td>-97.134178</td>\n",
              "      <td>32.941236</td>\n",
              "    </tr>\n",
              "    <tr>\n",
              "      <th>3002455</th>\n",
              "      <td>NaN</td>\n",
              "      <td>2014.0</td>\n",
              "      <td>-74.909890</td>\n",
              "      <td>40.636768</td>\n",
              "    </tr>\n",
              "    <tr>\n",
              "      <th>3002456</th>\n",
              "      <td>NaN</td>\n",
              "      <td>2014.0</td>\n",
              "      <td>-76.780253</td>\n",
              "      <td>39.419550</td>\n",
              "    </tr>\n",
              "    <tr>\n",
              "      <th>3002457</th>\n",
              "      <td>NaN</td>\n",
              "      <td>2014.0</td>\n",
              "      <td>-84.387982</td>\n",
              "      <td>33.748995</td>\n",
              "    </tr>\n",
              "  </tbody>\n",
              "</table>\n",
              "<p>3002458 rows × 4 columns</p>\n",
              "</div>"
            ],
            "text/plain": [
              "         PREVAILING_WAGE    YEAR         lon        lat\n",
              "0               36067.00  2016.0  -83.743038  42.280826\n",
              "1              242674.00  2016.0  -96.698886  33.019843\n",
              "2              193066.00  2016.0  -74.077642  40.728158\n",
              "3              220314.00  2016.0 -104.990251  39.739236\n",
              "4              157518.40  2016.0  -90.199404  38.627003\n",
              "5              225000.00  2016.0  -80.191790  25.761680\n",
              "6               91021.00  2016.0  -95.369803  29.760427\n",
              "7              150000.00  2016.0 -121.886329  37.338208\n",
              "8              127546.00  2016.0         NaN        NaN\n",
              "9              154648.00  2016.0  -77.265260  38.901222\n",
              "10             182978.00  2016.0  -79.995886  40.440625\n",
              "11             163717.00  2016.0  -84.247212  43.615583\n",
              "12             203860.80  2016.0         NaN        NaN\n",
              "13             252637.00  2016.0  -80.191790  25.761680\n",
              "14             105914.00  2016.0 -104.950814  39.617210\n",
              "15             153046.00  2016.0  -77.429130  39.006699\n",
              "16              90834.00  2016.0  -88.231481  43.011678\n",
              "17             164050.00  2016.0 -118.243685  34.052234\n",
              "18             187200.00  2016.0 -121.955236  37.354108\n",
              "19             241842.00  2016.0  -77.046921  38.804835\n",
              "20             117998.00  2016.0 -118.159793  34.000569\n",
              "21             164050.00  2016.0 -118.243685  34.052234\n",
              "22              99986.00  2016.0 -117.161084  32.715738\n",
              "23              99986.00  2016.0 -117.084196  32.640054\n",
              "24             159370.00  2016.0  -80.191790  25.761680\n",
              "25             187200.00  2016.0 -121.955236  37.354108\n",
              "26             130853.00  2016.0  -87.629798  41.878114\n",
              "27             215862.00  2016.0 -122.419415  37.774929\n",
              "28             192088.00  2016.0  -97.743061  30.267153\n",
              "29              95295.98  2016.0  -80.399775  26.100365\n",
              "...                  ...     ...         ...        ...\n",
              "3002428         53601.60  2011.0         NaN        NaN\n",
              "3002429         53601.60  2011.0         NaN        NaN\n",
              "3002430         55245.00  2011.0  -74.412095  40.518715\n",
              "3002431         36837.00  2011.0  -74.056530  40.789545\n",
              "3002432         55245.00  2011.0  -74.412095  40.518715\n",
              "3002433         36795.00  2011.0  -96.796988  32.776664\n",
              "3002434         55245.00  2011.0  -74.412095  40.518715\n",
              "3002435         77730.00  2011.0  -78.898619  35.994033\n",
              "3002436         89232.00  2011.0 -121.955236  37.354108\n",
              "3002437         34510.00  2011.0  -90.184810  32.298757\n",
              "3002438         53082.00  2011.0 -121.874679  37.662431\n",
              "3002439         37336.00  2011.0  -74.005941  40.712784\n",
              "3002440         64800.00  2011.0 -122.245536  37.536413\n",
              "3002441         70553.60  2011.0 -112.001050  40.691613\n",
              "3002442         33800.00  2011.0  -81.519005  41.081445\n",
              "3002443         59800.00  2011.0  -71.367284  42.599814\n",
              "3002444         59800.00  2011.0  -71.367284  42.599814\n",
              "3002445              NaN  2014.0  -74.431052  40.680873\n",
              "3002446              NaN  2014.0  -73.939569  42.814243\n",
              "3002447              NaN  2014.0 -122.083851  37.386052\n",
              "3002448              NaN  2014.0  -93.089958  44.953703\n",
              "3002449              NaN  2014.0  -74.932260  40.228337\n",
              "3002450              NaN  2014.0 -105.037205  39.836653\n",
              "3002451              NaN  2014.0 -121.988572  37.548270\n",
              "3002452              NaN  2014.0  -86.581939  36.015618\n",
              "3002453              NaN  2014.0  -74.005941  40.712784\n",
              "3002454              NaN  2014.0  -97.134178  32.941236\n",
              "3002455              NaN  2014.0  -74.909890  40.636768\n",
              "3002456              NaN  2014.0  -76.780253  39.419550\n",
              "3002457              NaN  2014.0  -84.387982  33.748995\n",
              "\n",
              "[3002458 rows x 4 columns]"
            ]
          },
          "metadata": {
            "tags": []
          },
          "execution_count": 15
        }
      ]
    },
    {
      "metadata": {
        "id": "fdkp3r3VphWH",
        "colab_type": "code",
        "outputId": "552a29ac-83d5-4294-ee4a-1f5f9a7bfe53",
        "colab": {
          "base_uri": "https://localhost:8080/",
          "height": 34
        }
      },
      "cell_type": "code",
      "source": [
        "numerical.columns"
      ],
      "execution_count": 0,
      "outputs": [
        {
          "output_type": "execute_result",
          "data": {
            "text/plain": [
              "Index(['PREVAILING_WAGE', 'YEAR', 'lon', 'lat'], dtype='object')"
            ]
          },
          "metadata": {
            "tags": []
          },
          "execution_count": 16
        }
      ]
    },
    {
      "metadata": {
        "id": "DLNXFt4apkWU",
        "colab_type": "code",
        "outputId": "3f008554-0be5-492a-92c8-f1951e2bb5f8",
        "colab": {
          "base_uri": "https://localhost:8080/",
          "height": 2275
        }
      },
      "cell_type": "code",
      "source": [
        "def clean_numerical_1(column):\n",
        "    mean=numerical[numerical[column]!=np.nan][column].astype(float).mean()\n",
        "    numerical[column] = numerical[column].replace(np.nan,str(mean)).astype(float)\n",
        "    return numerical\n",
        "clean_numerical_1('PREVAILING_WAGE')\n",
        "clean_numerical_1('lon')\n",
        "clean_numerical_1('lat')"
      ],
      "execution_count": 0,
      "outputs": [
        {
          "output_type": "stream",
          "text": [
            "/usr/local/lib/python3.6/dist-packages/ipykernel_launcher.py:3: SettingWithCopyWarning: \n",
            "A value is trying to be set on a copy of a slice from a DataFrame.\n",
            "Try using .loc[row_indexer,col_indexer] = value instead\n",
            "\n",
            "See the caveats in the documentation: http://pandas.pydata.org/pandas-docs/stable/indexing.html#indexing-view-versus-copy\n",
            "  This is separate from the ipykernel package so we can avoid doing imports until\n",
            "/usr/local/lib/python3.6/dist-packages/ipykernel_launcher.py:3: SettingWithCopyWarning: \n",
            "A value is trying to be set on a copy of a slice from a DataFrame.\n",
            "Try using .loc[row_indexer,col_indexer] = value instead\n",
            "\n",
            "See the caveats in the documentation: http://pandas.pydata.org/pandas-docs/stable/indexing.html#indexing-view-versus-copy\n",
            "  This is separate from the ipykernel package so we can avoid doing imports until\n",
            "/usr/local/lib/python3.6/dist-packages/ipykernel_launcher.py:3: SettingWithCopyWarning: \n",
            "A value is trying to be set on a copy of a slice from a DataFrame.\n",
            "Try using .loc[row_indexer,col_indexer] = value instead\n",
            "\n",
            "See the caveats in the documentation: http://pandas.pydata.org/pandas-docs/stable/indexing.html#indexing-view-versus-copy\n",
            "  This is separate from the ipykernel package so we can avoid doing imports until\n"
          ],
          "name": "stderr"
        },
        {
          "output_type": "execute_result",
          "data": {
            "text/html": [
              "<div>\n",
              "<style scoped>\n",
              "    .dataframe tbody tr th:only-of-type {\n",
              "        vertical-align: middle;\n",
              "    }\n",
              "\n",
              "    .dataframe tbody tr th {\n",
              "        vertical-align: top;\n",
              "    }\n",
              "\n",
              "    .dataframe thead th {\n",
              "        text-align: right;\n",
              "    }\n",
              "</style>\n",
              "<table border=\"1\" class=\"dataframe\">\n",
              "  <thead>\n",
              "    <tr style=\"text-align: right;\">\n",
              "      <th></th>\n",
              "      <th>PREVAILING_WAGE</th>\n",
              "      <th>YEAR</th>\n",
              "      <th>lon</th>\n",
              "      <th>lat</th>\n",
              "    </tr>\n",
              "  </thead>\n",
              "  <tbody>\n",
              "    <tr>\n",
              "      <th>0</th>\n",
              "      <td>36067.000000</td>\n",
              "      <td>2016.0</td>\n",
              "      <td>-83.743038</td>\n",
              "      <td>42.280826</td>\n",
              "    </tr>\n",
              "    <tr>\n",
              "      <th>1</th>\n",
              "      <td>242674.000000</td>\n",
              "      <td>2016.0</td>\n",
              "      <td>-96.698886</td>\n",
              "      <td>33.019843</td>\n",
              "    </tr>\n",
              "    <tr>\n",
              "      <th>2</th>\n",
              "      <td>193066.000000</td>\n",
              "      <td>2016.0</td>\n",
              "      <td>-74.077642</td>\n",
              "      <td>40.728158</td>\n",
              "    </tr>\n",
              "    <tr>\n",
              "      <th>3</th>\n",
              "      <td>220314.000000</td>\n",
              "      <td>2016.0</td>\n",
              "      <td>-104.990251</td>\n",
              "      <td>39.739236</td>\n",
              "    </tr>\n",
              "    <tr>\n",
              "      <th>4</th>\n",
              "      <td>157518.400000</td>\n",
              "      <td>2016.0</td>\n",
              "      <td>-90.199404</td>\n",
              "      <td>38.627003</td>\n",
              "    </tr>\n",
              "    <tr>\n",
              "      <th>5</th>\n",
              "      <td>225000.000000</td>\n",
              "      <td>2016.0</td>\n",
              "      <td>-80.191790</td>\n",
              "      <td>25.761680</td>\n",
              "    </tr>\n",
              "    <tr>\n",
              "      <th>6</th>\n",
              "      <td>91021.000000</td>\n",
              "      <td>2016.0</td>\n",
              "      <td>-95.369803</td>\n",
              "      <td>29.760427</td>\n",
              "    </tr>\n",
              "    <tr>\n",
              "      <th>7</th>\n",
              "      <td>150000.000000</td>\n",
              "      <td>2016.0</td>\n",
              "      <td>-121.886329</td>\n",
              "      <td>37.338208</td>\n",
              "    </tr>\n",
              "    <tr>\n",
              "      <th>8</th>\n",
              "      <td>127546.000000</td>\n",
              "      <td>2016.0</td>\n",
              "      <td>-92.134407</td>\n",
              "      <td>38.160538</td>\n",
              "    </tr>\n",
              "    <tr>\n",
              "      <th>9</th>\n",
              "      <td>154648.000000</td>\n",
              "      <td>2016.0</td>\n",
              "      <td>-77.265260</td>\n",
              "      <td>38.901222</td>\n",
              "    </tr>\n",
              "    <tr>\n",
              "      <th>10</th>\n",
              "      <td>182978.000000</td>\n",
              "      <td>2016.0</td>\n",
              "      <td>-79.995886</td>\n",
              "      <td>40.440625</td>\n",
              "    </tr>\n",
              "    <tr>\n",
              "      <th>11</th>\n",
              "      <td>163717.000000</td>\n",
              "      <td>2016.0</td>\n",
              "      <td>-84.247212</td>\n",
              "      <td>43.615583</td>\n",
              "    </tr>\n",
              "    <tr>\n",
              "      <th>12</th>\n",
              "      <td>203860.800000</td>\n",
              "      <td>2016.0</td>\n",
              "      <td>-92.134407</td>\n",
              "      <td>38.160538</td>\n",
              "    </tr>\n",
              "    <tr>\n",
              "      <th>13</th>\n",
              "      <td>252637.000000</td>\n",
              "      <td>2016.0</td>\n",
              "      <td>-80.191790</td>\n",
              "      <td>25.761680</td>\n",
              "    </tr>\n",
              "    <tr>\n",
              "      <th>14</th>\n",
              "      <td>105914.000000</td>\n",
              "      <td>2016.0</td>\n",
              "      <td>-104.950814</td>\n",
              "      <td>39.617210</td>\n",
              "    </tr>\n",
              "    <tr>\n",
              "      <th>15</th>\n",
              "      <td>153046.000000</td>\n",
              "      <td>2016.0</td>\n",
              "      <td>-77.429130</td>\n",
              "      <td>39.006699</td>\n",
              "    </tr>\n",
              "    <tr>\n",
              "      <th>16</th>\n",
              "      <td>90834.000000</td>\n",
              "      <td>2016.0</td>\n",
              "      <td>-88.231481</td>\n",
              "      <td>43.011678</td>\n",
              "    </tr>\n",
              "    <tr>\n",
              "      <th>17</th>\n",
              "      <td>164050.000000</td>\n",
              "      <td>2016.0</td>\n",
              "      <td>-118.243685</td>\n",
              "      <td>34.052234</td>\n",
              "    </tr>\n",
              "    <tr>\n",
              "      <th>18</th>\n",
              "      <td>187200.000000</td>\n",
              "      <td>2016.0</td>\n",
              "      <td>-121.955236</td>\n",
              "      <td>37.354108</td>\n",
              "    </tr>\n",
              "    <tr>\n",
              "      <th>19</th>\n",
              "      <td>241842.000000</td>\n",
              "      <td>2016.0</td>\n",
              "      <td>-77.046921</td>\n",
              "      <td>38.804835</td>\n",
              "    </tr>\n",
              "    <tr>\n",
              "      <th>20</th>\n",
              "      <td>117998.000000</td>\n",
              "      <td>2016.0</td>\n",
              "      <td>-118.159793</td>\n",
              "      <td>34.000569</td>\n",
              "    </tr>\n",
              "    <tr>\n",
              "      <th>21</th>\n",
              "      <td>164050.000000</td>\n",
              "      <td>2016.0</td>\n",
              "      <td>-118.243685</td>\n",
              "      <td>34.052234</td>\n",
              "    </tr>\n",
              "    <tr>\n",
              "      <th>22</th>\n",
              "      <td>99986.000000</td>\n",
              "      <td>2016.0</td>\n",
              "      <td>-117.161084</td>\n",
              "      <td>32.715738</td>\n",
              "    </tr>\n",
              "    <tr>\n",
              "      <th>23</th>\n",
              "      <td>99986.000000</td>\n",
              "      <td>2016.0</td>\n",
              "      <td>-117.084196</td>\n",
              "      <td>32.640054</td>\n",
              "    </tr>\n",
              "    <tr>\n",
              "      <th>24</th>\n",
              "      <td>159370.000000</td>\n",
              "      <td>2016.0</td>\n",
              "      <td>-80.191790</td>\n",
              "      <td>25.761680</td>\n",
              "    </tr>\n",
              "    <tr>\n",
              "      <th>25</th>\n",
              "      <td>187200.000000</td>\n",
              "      <td>2016.0</td>\n",
              "      <td>-121.955236</td>\n",
              "      <td>37.354108</td>\n",
              "    </tr>\n",
              "    <tr>\n",
              "      <th>26</th>\n",
              "      <td>130853.000000</td>\n",
              "      <td>2016.0</td>\n",
              "      <td>-87.629798</td>\n",
              "      <td>41.878114</td>\n",
              "    </tr>\n",
              "    <tr>\n",
              "      <th>27</th>\n",
              "      <td>215862.000000</td>\n",
              "      <td>2016.0</td>\n",
              "      <td>-122.419415</td>\n",
              "      <td>37.774929</td>\n",
              "    </tr>\n",
              "    <tr>\n",
              "      <th>28</th>\n",
              "      <td>192088.000000</td>\n",
              "      <td>2016.0</td>\n",
              "      <td>-97.743061</td>\n",
              "      <td>30.267153</td>\n",
              "    </tr>\n",
              "    <tr>\n",
              "      <th>29</th>\n",
              "      <td>95295.980000</td>\n",
              "      <td>2016.0</td>\n",
              "      <td>-80.399775</td>\n",
              "      <td>26.100365</td>\n",
              "    </tr>\n",
              "    <tr>\n",
              "      <th>...</th>\n",
              "      <td>...</td>\n",
              "      <td>...</td>\n",
              "      <td>...</td>\n",
              "      <td>...</td>\n",
              "    </tr>\n",
              "    <tr>\n",
              "      <th>3002428</th>\n",
              "      <td>53601.600000</td>\n",
              "      <td>2011.0</td>\n",
              "      <td>-92.134407</td>\n",
              "      <td>38.160538</td>\n",
              "    </tr>\n",
              "    <tr>\n",
              "      <th>3002429</th>\n",
              "      <td>53601.600000</td>\n",
              "      <td>2011.0</td>\n",
              "      <td>-92.134407</td>\n",
              "      <td>38.160538</td>\n",
              "    </tr>\n",
              "    <tr>\n",
              "      <th>3002430</th>\n",
              "      <td>55245.000000</td>\n",
              "      <td>2011.0</td>\n",
              "      <td>-74.412095</td>\n",
              "      <td>40.518715</td>\n",
              "    </tr>\n",
              "    <tr>\n",
              "      <th>3002431</th>\n",
              "      <td>36837.000000</td>\n",
              "      <td>2011.0</td>\n",
              "      <td>-74.056530</td>\n",
              "      <td>40.789545</td>\n",
              "    </tr>\n",
              "    <tr>\n",
              "      <th>3002432</th>\n",
              "      <td>55245.000000</td>\n",
              "      <td>2011.0</td>\n",
              "      <td>-74.412095</td>\n",
              "      <td>40.518715</td>\n",
              "    </tr>\n",
              "    <tr>\n",
              "      <th>3002433</th>\n",
              "      <td>36795.000000</td>\n",
              "      <td>2011.0</td>\n",
              "      <td>-96.796988</td>\n",
              "      <td>32.776664</td>\n",
              "    </tr>\n",
              "    <tr>\n",
              "      <th>3002434</th>\n",
              "      <td>55245.000000</td>\n",
              "      <td>2011.0</td>\n",
              "      <td>-74.412095</td>\n",
              "      <td>40.518715</td>\n",
              "    </tr>\n",
              "    <tr>\n",
              "      <th>3002435</th>\n",
              "      <td>77730.000000</td>\n",
              "      <td>2011.0</td>\n",
              "      <td>-78.898619</td>\n",
              "      <td>35.994033</td>\n",
              "    </tr>\n",
              "    <tr>\n",
              "      <th>3002436</th>\n",
              "      <td>89232.000000</td>\n",
              "      <td>2011.0</td>\n",
              "      <td>-121.955236</td>\n",
              "      <td>37.354108</td>\n",
              "    </tr>\n",
              "    <tr>\n",
              "      <th>3002437</th>\n",
              "      <td>34510.000000</td>\n",
              "      <td>2011.0</td>\n",
              "      <td>-90.184810</td>\n",
              "      <td>32.298757</td>\n",
              "    </tr>\n",
              "    <tr>\n",
              "      <th>3002438</th>\n",
              "      <td>53082.000000</td>\n",
              "      <td>2011.0</td>\n",
              "      <td>-121.874679</td>\n",
              "      <td>37.662431</td>\n",
              "    </tr>\n",
              "    <tr>\n",
              "      <th>3002439</th>\n",
              "      <td>37336.000000</td>\n",
              "      <td>2011.0</td>\n",
              "      <td>-74.005941</td>\n",
              "      <td>40.712784</td>\n",
              "    </tr>\n",
              "    <tr>\n",
              "      <th>3002440</th>\n",
              "      <td>64800.000000</td>\n",
              "      <td>2011.0</td>\n",
              "      <td>-122.245536</td>\n",
              "      <td>37.536413</td>\n",
              "    </tr>\n",
              "    <tr>\n",
              "      <th>3002441</th>\n",
              "      <td>70553.600000</td>\n",
              "      <td>2011.0</td>\n",
              "      <td>-112.001050</td>\n",
              "      <td>40.691613</td>\n",
              "    </tr>\n",
              "    <tr>\n",
              "      <th>3002442</th>\n",
              "      <td>33800.000000</td>\n",
              "      <td>2011.0</td>\n",
              "      <td>-81.519005</td>\n",
              "      <td>41.081445</td>\n",
              "    </tr>\n",
              "    <tr>\n",
              "      <th>3002443</th>\n",
              "      <td>59800.000000</td>\n",
              "      <td>2011.0</td>\n",
              "      <td>-71.367284</td>\n",
              "      <td>42.599814</td>\n",
              "    </tr>\n",
              "    <tr>\n",
              "      <th>3002444</th>\n",
              "      <td>59800.000000</td>\n",
              "      <td>2011.0</td>\n",
              "      <td>-71.367284</td>\n",
              "      <td>42.599814</td>\n",
              "    </tr>\n",
              "    <tr>\n",
              "      <th>3002445</th>\n",
              "      <td>146998.431915</td>\n",
              "      <td>2014.0</td>\n",
              "      <td>-74.431052</td>\n",
              "      <td>40.680873</td>\n",
              "    </tr>\n",
              "    <tr>\n",
              "      <th>3002446</th>\n",
              "      <td>146998.431915</td>\n",
              "      <td>2014.0</td>\n",
              "      <td>-73.939569</td>\n",
              "      <td>42.814243</td>\n",
              "    </tr>\n",
              "    <tr>\n",
              "      <th>3002447</th>\n",
              "      <td>146998.431915</td>\n",
              "      <td>2014.0</td>\n",
              "      <td>-122.083851</td>\n",
              "      <td>37.386052</td>\n",
              "    </tr>\n",
              "    <tr>\n",
              "      <th>3002448</th>\n",
              "      <td>146998.431915</td>\n",
              "      <td>2014.0</td>\n",
              "      <td>-93.089958</td>\n",
              "      <td>44.953703</td>\n",
              "    </tr>\n",
              "    <tr>\n",
              "      <th>3002449</th>\n",
              "      <td>146998.431915</td>\n",
              "      <td>2014.0</td>\n",
              "      <td>-74.932260</td>\n",
              "      <td>40.228337</td>\n",
              "    </tr>\n",
              "    <tr>\n",
              "      <th>3002450</th>\n",
              "      <td>146998.431915</td>\n",
              "      <td>2014.0</td>\n",
              "      <td>-105.037205</td>\n",
              "      <td>39.836653</td>\n",
              "    </tr>\n",
              "    <tr>\n",
              "      <th>3002451</th>\n",
              "      <td>146998.431915</td>\n",
              "      <td>2014.0</td>\n",
              "      <td>-121.988572</td>\n",
              "      <td>37.548270</td>\n",
              "    </tr>\n",
              "    <tr>\n",
              "      <th>3002452</th>\n",
              "      <td>146998.431915</td>\n",
              "      <td>2014.0</td>\n",
              "      <td>-86.581939</td>\n",
              "      <td>36.015618</td>\n",
              "    </tr>\n",
              "    <tr>\n",
              "      <th>3002453</th>\n",
              "      <td>146998.431915</td>\n",
              "      <td>2014.0</td>\n",
              "      <td>-74.005941</td>\n",
              "      <td>40.712784</td>\n",
              "    </tr>\n",
              "    <tr>\n",
              "      <th>3002454</th>\n",
              "      <td>146998.431915</td>\n",
              "      <td>2014.0</td>\n",
              "      <td>-97.134178</td>\n",
              "      <td>32.941236</td>\n",
              "    </tr>\n",
              "    <tr>\n",
              "      <th>3002455</th>\n",
              "      <td>146998.431915</td>\n",
              "      <td>2014.0</td>\n",
              "      <td>-74.909890</td>\n",
              "      <td>40.636768</td>\n",
              "    </tr>\n",
              "    <tr>\n",
              "      <th>3002456</th>\n",
              "      <td>146998.431915</td>\n",
              "      <td>2014.0</td>\n",
              "      <td>-76.780253</td>\n",
              "      <td>39.419550</td>\n",
              "    </tr>\n",
              "    <tr>\n",
              "      <th>3002457</th>\n",
              "      <td>146998.431915</td>\n",
              "      <td>2014.0</td>\n",
              "      <td>-84.387982</td>\n",
              "      <td>33.748995</td>\n",
              "    </tr>\n",
              "  </tbody>\n",
              "</table>\n",
              "<p>3002458 rows × 4 columns</p>\n",
              "</div>"
            ],
            "text/plain": [
              "         PREVAILING_WAGE    YEAR         lon        lat\n",
              "0           36067.000000  2016.0  -83.743038  42.280826\n",
              "1          242674.000000  2016.0  -96.698886  33.019843\n",
              "2          193066.000000  2016.0  -74.077642  40.728158\n",
              "3          220314.000000  2016.0 -104.990251  39.739236\n",
              "4          157518.400000  2016.0  -90.199404  38.627003\n",
              "5          225000.000000  2016.0  -80.191790  25.761680\n",
              "6           91021.000000  2016.0  -95.369803  29.760427\n",
              "7          150000.000000  2016.0 -121.886329  37.338208\n",
              "8          127546.000000  2016.0  -92.134407  38.160538\n",
              "9          154648.000000  2016.0  -77.265260  38.901222\n",
              "10         182978.000000  2016.0  -79.995886  40.440625\n",
              "11         163717.000000  2016.0  -84.247212  43.615583\n",
              "12         203860.800000  2016.0  -92.134407  38.160538\n",
              "13         252637.000000  2016.0  -80.191790  25.761680\n",
              "14         105914.000000  2016.0 -104.950814  39.617210\n",
              "15         153046.000000  2016.0  -77.429130  39.006699\n",
              "16          90834.000000  2016.0  -88.231481  43.011678\n",
              "17         164050.000000  2016.0 -118.243685  34.052234\n",
              "18         187200.000000  2016.0 -121.955236  37.354108\n",
              "19         241842.000000  2016.0  -77.046921  38.804835\n",
              "20         117998.000000  2016.0 -118.159793  34.000569\n",
              "21         164050.000000  2016.0 -118.243685  34.052234\n",
              "22          99986.000000  2016.0 -117.161084  32.715738\n",
              "23          99986.000000  2016.0 -117.084196  32.640054\n",
              "24         159370.000000  2016.0  -80.191790  25.761680\n",
              "25         187200.000000  2016.0 -121.955236  37.354108\n",
              "26         130853.000000  2016.0  -87.629798  41.878114\n",
              "27         215862.000000  2016.0 -122.419415  37.774929\n",
              "28         192088.000000  2016.0  -97.743061  30.267153\n",
              "29          95295.980000  2016.0  -80.399775  26.100365\n",
              "...                  ...     ...         ...        ...\n",
              "3002428     53601.600000  2011.0  -92.134407  38.160538\n",
              "3002429     53601.600000  2011.0  -92.134407  38.160538\n",
              "3002430     55245.000000  2011.0  -74.412095  40.518715\n",
              "3002431     36837.000000  2011.0  -74.056530  40.789545\n",
              "3002432     55245.000000  2011.0  -74.412095  40.518715\n",
              "3002433     36795.000000  2011.0  -96.796988  32.776664\n",
              "3002434     55245.000000  2011.0  -74.412095  40.518715\n",
              "3002435     77730.000000  2011.0  -78.898619  35.994033\n",
              "3002436     89232.000000  2011.0 -121.955236  37.354108\n",
              "3002437     34510.000000  2011.0  -90.184810  32.298757\n",
              "3002438     53082.000000  2011.0 -121.874679  37.662431\n",
              "3002439     37336.000000  2011.0  -74.005941  40.712784\n",
              "3002440     64800.000000  2011.0 -122.245536  37.536413\n",
              "3002441     70553.600000  2011.0 -112.001050  40.691613\n",
              "3002442     33800.000000  2011.0  -81.519005  41.081445\n",
              "3002443     59800.000000  2011.0  -71.367284  42.599814\n",
              "3002444     59800.000000  2011.0  -71.367284  42.599814\n",
              "3002445    146998.431915  2014.0  -74.431052  40.680873\n",
              "3002446    146998.431915  2014.0  -73.939569  42.814243\n",
              "3002447    146998.431915  2014.0 -122.083851  37.386052\n",
              "3002448    146998.431915  2014.0  -93.089958  44.953703\n",
              "3002449    146998.431915  2014.0  -74.932260  40.228337\n",
              "3002450    146998.431915  2014.0 -105.037205  39.836653\n",
              "3002451    146998.431915  2014.0 -121.988572  37.548270\n",
              "3002452    146998.431915  2014.0  -86.581939  36.015618\n",
              "3002453    146998.431915  2014.0  -74.005941  40.712784\n",
              "3002454    146998.431915  2014.0  -97.134178  32.941236\n",
              "3002455    146998.431915  2014.0  -74.909890  40.636768\n",
              "3002456    146998.431915  2014.0  -76.780253  39.419550\n",
              "3002457    146998.431915  2014.0  -84.387982  33.748995\n",
              "\n",
              "[3002458 rows x 4 columns]"
            ]
          },
          "metadata": {
            "tags": []
          },
          "execution_count": 17
        }
      ]
    },
    {
      "metadata": {
        "id": "BT4n3YFSEfTi",
        "colab_type": "code",
        "outputId": "1e636b38-2247-41ef-dbb6-be1084f22471",
        "colab": {
          "base_uri": "https://localhost:8080/",
          "height": 102
        }
      },
      "cell_type": "code",
      "source": [
        "numerical.isnull().sum()"
      ],
      "execution_count": 0,
      "outputs": [
        {
          "output_type": "execute_result",
          "data": {
            "text/plain": [
              "PREVAILING_WAGE    0\n",
              "YEAR               0\n",
              "lon                0\n",
              "lat                0\n",
              "dtype: int64"
            ]
          },
          "metadata": {
            "tags": []
          },
          "execution_count": 18
        }
      ]
    },
    {
      "metadata": {
        "id": "_dwkAeU3F15c",
        "colab_type": "code",
        "colab": {}
      },
      "cell_type": "code",
      "source": [
        "categorical = df1.select_dtypes(exclude=np.number)\n",
        "lis = categorical.columns"
      ],
      "execution_count": 0,
      "outputs": []
    },
    {
      "metadata": {
        "id": "YX0YyaKWGAcm",
        "colab_type": "code",
        "outputId": "b0f361a4-ca4e-42e4-c4d6-56004feed2e2",
        "colab": {
          "base_uri": "https://localhost:8080/",
          "height": 68
        }
      },
      "cell_type": "code",
      "source": [
        "categorical.isnull().sum()\n",
        "print(lis)\n",
        "#type(categorical)\n",
        "#cat1=categorical.iloc[:,0:7].values\n",
        "#cat1"
      ],
      "execution_count": 0,
      "outputs": [
        {
          "output_type": "stream",
          "text": [
            "Index(['CASE_STATUS', 'EMPLOYER_NAME', 'SOC_NAME', 'JOB_TITLE',\n",
            "       'FULL_TIME_POSITION', 'WORKSITE'],\n",
            "      dtype='object')\n"
          ],
          "name": "stdout"
        }
      ]
    },
    {
      "metadata": {
        "id": "JzEWgql6kK-a",
        "colab_type": "code",
        "colab": {}
      },
      "cell_type": "code",
      "source": [
        "# from sklearn.preprocessing import Imputer\n",
        "# imp = Imputer(missing_values='NaN',strategy=\"most_frequent\",axis=0)\n",
        "# imp = imp.fit(cat1[:,0:6])\n",
        "# imp.fit_transform(cat1[:,0:6])\n"
      ],
      "execution_count": 0,
      "outputs": []
    },
    {
      "metadata": {
        "id": "RtHSvt92XTma",
        "colab_type": "code",
        "colab": {}
      },
      "cell_type": "code",
      "source": [
        "def clean_categorical(column):\n",
        "    mode=categorical[categorical[column]!=np.nan][column].mode()[0]\n",
        "    categorical[column] = categorical[column].replace(np.nan,str(mode))\n",
        "    return categorical"
      ],
      "execution_count": 0,
      "outputs": []
    },
    {
      "metadata": {
        "id": "guXHL9b3Xga8",
        "colab_type": "code",
        "outputId": "59e81827-9939-46c9-91c3-2755830db030",
        "colab": {
          "base_uri": "https://localhost:8080/",
          "height": 3108
        }
      },
      "cell_type": "code",
      "source": [
        "#for i in lis:\n",
        "# clean_categorical(i)\n",
        "#clean_categorical('CASE_STATUS')\n",
        "mode = categorical[categorical['JOB_TITLE']!=np.nan]['JOB_TITLE'].mode()[0]\n",
        "print(type(mode))\n",
        "clean_categorical('JOB_TITLE')\n",
        "clean_categorical('EMPLOYER_NAME')\n",
        "clean_categorical('CASE_STATUS')\n",
        "clean_categorical('SOC_NAME')\n",
        "clean_categorical('FULL_TIME_POSITION')\n",
        "#mode =mode.to_string()\n",
        "#mode = mode[5:]\n"
      ],
      "execution_count": 0,
      "outputs": [
        {
          "output_type": "stream",
          "text": [
            "<class 'str'>\n"
          ],
          "name": "stdout"
        },
        {
          "output_type": "stream",
          "text": [
            "/usr/local/lib/python3.6/dist-packages/ipykernel_launcher.py:3: SettingWithCopyWarning: \n",
            "A value is trying to be set on a copy of a slice from a DataFrame.\n",
            "Try using .loc[row_indexer,col_indexer] = value instead\n",
            "\n",
            "See the caveats in the documentation: http://pandas.pydata.org/pandas-docs/stable/indexing.html#indexing-view-versus-copy\n",
            "  This is separate from the ipykernel package so we can avoid doing imports until\n"
          ],
          "name": "stderr"
        },
        {
          "output_type": "execute_result",
          "data": {
            "text/html": [
              "<div>\n",
              "<style scoped>\n",
              "    .dataframe tbody tr th:only-of-type {\n",
              "        vertical-align: middle;\n",
              "    }\n",
              "\n",
              "    .dataframe tbody tr th {\n",
              "        vertical-align: top;\n",
              "    }\n",
              "\n",
              "    .dataframe thead th {\n",
              "        text-align: right;\n",
              "    }\n",
              "</style>\n",
              "<table border=\"1\" class=\"dataframe\">\n",
              "  <thead>\n",
              "    <tr style=\"text-align: right;\">\n",
              "      <th></th>\n",
              "      <th>CASE_STATUS</th>\n",
              "      <th>EMPLOYER_NAME</th>\n",
              "      <th>SOC_NAME</th>\n",
              "      <th>JOB_TITLE</th>\n",
              "      <th>FULL_TIME_POSITION</th>\n",
              "      <th>WORKSITE</th>\n",
              "    </tr>\n",
              "  </thead>\n",
              "  <tbody>\n",
              "    <tr>\n",
              "      <th>0</th>\n",
              "      <td>CERTIFIED-WITHDRAWN</td>\n",
              "      <td>UNIVERSITY OF MICHIGAN</td>\n",
              "      <td>BIOCHEMISTS AND BIOPHYSICISTS</td>\n",
              "      <td>POSTDOCTORAL RESEARCH FELLOW</td>\n",
              "      <td>N</td>\n",
              "      <td>ANN ARBOR, MICHIGAN</td>\n",
              "    </tr>\n",
              "    <tr>\n",
              "      <th>1</th>\n",
              "      <td>CERTIFIED-WITHDRAWN</td>\n",
              "      <td>GOODMAN NETWORKS, INC.</td>\n",
              "      <td>CHIEF EXECUTIVES</td>\n",
              "      <td>CHIEF OPERATING OFFICER</td>\n",
              "      <td>Y</td>\n",
              "      <td>PLANO, TEXAS</td>\n",
              "    </tr>\n",
              "    <tr>\n",
              "      <th>2</th>\n",
              "      <td>CERTIFIED-WITHDRAWN</td>\n",
              "      <td>PORTS AMERICA GROUP, INC.</td>\n",
              "      <td>CHIEF EXECUTIVES</td>\n",
              "      <td>CHIEF PROCESS OFFICER</td>\n",
              "      <td>Y</td>\n",
              "      <td>JERSEY CITY, NEW JERSEY</td>\n",
              "    </tr>\n",
              "    <tr>\n",
              "      <th>3</th>\n",
              "      <td>CERTIFIED-WITHDRAWN</td>\n",
              "      <td>GATES CORPORATION, A WHOLLY-OWNED SUBSIDIARY O...</td>\n",
              "      <td>CHIEF EXECUTIVES</td>\n",
              "      <td>REGIONAL PRESIDEN, AMERICAS</td>\n",
              "      <td>Y</td>\n",
              "      <td>DENVER, COLORADO</td>\n",
              "    </tr>\n",
              "    <tr>\n",
              "      <th>4</th>\n",
              "      <td>WITHDRAWN</td>\n",
              "      <td>PEABODY INVESTMENTS CORP.</td>\n",
              "      <td>CHIEF EXECUTIVES</td>\n",
              "      <td>PRESIDENT MONGOLIA AND INDIA</td>\n",
              "      <td>Y</td>\n",
              "      <td>ST. LOUIS, MISSOURI</td>\n",
              "    </tr>\n",
              "    <tr>\n",
              "      <th>5</th>\n",
              "      <td>CERTIFIED-WITHDRAWN</td>\n",
              "      <td>BURGER KING CORPORATION</td>\n",
              "      <td>CHIEF EXECUTIVES</td>\n",
              "      <td>EXECUTIVE V P, GLOBAL DEVELOPMENT AND PRESIDEN...</td>\n",
              "      <td>Y</td>\n",
              "      <td>MIAMI, FLORIDA</td>\n",
              "    </tr>\n",
              "    <tr>\n",
              "      <th>6</th>\n",
              "      <td>CERTIFIED-WITHDRAWN</td>\n",
              "      <td>BT AND MK ENERGY AND COMMODITIES</td>\n",
              "      <td>CHIEF EXECUTIVES</td>\n",
              "      <td>CHIEF OPERATING OFFICER</td>\n",
              "      <td>Y</td>\n",
              "      <td>HOUSTON, TEXAS</td>\n",
              "    </tr>\n",
              "    <tr>\n",
              "      <th>7</th>\n",
              "      <td>CERTIFIED-WITHDRAWN</td>\n",
              "      <td>GLOBO MOBILE TECHNOLOGIES, INC.</td>\n",
              "      <td>CHIEF EXECUTIVES</td>\n",
              "      <td>CHIEF OPERATIONS OFFICER</td>\n",
              "      <td>Y</td>\n",
              "      <td>SAN JOSE, CALIFORNIA</td>\n",
              "    </tr>\n",
              "    <tr>\n",
              "      <th>8</th>\n",
              "      <td>CERTIFIED-WITHDRAWN</td>\n",
              "      <td>ESI COMPANIES INC.</td>\n",
              "      <td>CHIEF EXECUTIVES</td>\n",
              "      <td>PRESIDENT</td>\n",
              "      <td>Y</td>\n",
              "      <td>MEMPHIS, TEXAS</td>\n",
              "    </tr>\n",
              "    <tr>\n",
              "      <th>9</th>\n",
              "      <td>WITHDRAWN</td>\n",
              "      <td>LESSARD INTERNATIONAL LLC</td>\n",
              "      <td>CHIEF EXECUTIVES</td>\n",
              "      <td>PRESIDENT</td>\n",
              "      <td>Y</td>\n",
              "      <td>VIENNA, VIRGINIA</td>\n",
              "    </tr>\n",
              "    <tr>\n",
              "      <th>10</th>\n",
              "      <td>CERTIFIED-WITHDRAWN</td>\n",
              "      <td>H.J. HEINZ COMPANY</td>\n",
              "      <td>CHIEF EXECUTIVES</td>\n",
              "      <td>CHIEF INFORMATION OFFICER, HEINZ NORTH AMERICA</td>\n",
              "      <td>Y</td>\n",
              "      <td>PITTSBURGH, PENNSYLVANIA</td>\n",
              "    </tr>\n",
              "    <tr>\n",
              "      <th>11</th>\n",
              "      <td>CERTIFIED-WITHDRAWN</td>\n",
              "      <td>DOW CORNING CORPORATION</td>\n",
              "      <td>CHIEF EXECUTIVES</td>\n",
              "      <td>VICE PRESIDENT AND CHIEF HUMAN RESOURCES OFFICER</td>\n",
              "      <td>Y</td>\n",
              "      <td>MIDLAND, MICHIGAN</td>\n",
              "    </tr>\n",
              "    <tr>\n",
              "      <th>12</th>\n",
              "      <td>CERTIFIED-WITHDRAWN</td>\n",
              "      <td>ACUSHNET COMPANY</td>\n",
              "      <td>CHIEF EXECUTIVES</td>\n",
              "      <td>TREASURER AND COO</td>\n",
              "      <td>Y</td>\n",
              "      <td>FAIRHAVEN, MASSACHUSETTS</td>\n",
              "    </tr>\n",
              "    <tr>\n",
              "      <th>13</th>\n",
              "      <td>CERTIFIED-WITHDRAWN</td>\n",
              "      <td>BIOCAIR, INC.</td>\n",
              "      <td>CHIEF EXECUTIVES</td>\n",
              "      <td>CHIEF COMMERCIAL OFFICER</td>\n",
              "      <td>Y</td>\n",
              "      <td>MIAMI, FLORIDA</td>\n",
              "    </tr>\n",
              "    <tr>\n",
              "      <th>14</th>\n",
              "      <td>CERTIFIED-WITHDRAWN</td>\n",
              "      <td>NEWMONT MINING CORPORATION</td>\n",
              "      <td>CHIEF EXECUTIVES</td>\n",
              "      <td>BOARD MEMBER</td>\n",
              "      <td>Y</td>\n",
              "      <td>GREENWOOD VILLAGE, COLORADO</td>\n",
              "    </tr>\n",
              "    <tr>\n",
              "      <th>15</th>\n",
              "      <td>CERTIFIED-WITHDRAWN</td>\n",
              "      <td>VRICON, INC.</td>\n",
              "      <td>CHIEF EXECUTIVES</td>\n",
              "      <td>CHIEF FINANCIAL OFFICER</td>\n",
              "      <td>Y</td>\n",
              "      <td>STERLING, VIRGINIA</td>\n",
              "    </tr>\n",
              "    <tr>\n",
              "      <th>16</th>\n",
              "      <td>CERTIFIED-WITHDRAWN</td>\n",
              "      <td>CARDIAC SCIENCE CORPORATION</td>\n",
              "      <td>FINANCIAL MANAGERS</td>\n",
              "      <td>VICE PRESIDENT OF FINANCE</td>\n",
              "      <td>Y</td>\n",
              "      <td>WAUKESHA, WISCONSIN</td>\n",
              "    </tr>\n",
              "    <tr>\n",
              "      <th>17</th>\n",
              "      <td>CERTIFIED-WITHDRAWN</td>\n",
              "      <td>WESTFIELD CORPORATION</td>\n",
              "      <td>CHIEF EXECUTIVES</td>\n",
              "      <td>GENERAL MANAGER, OPERATIONS</td>\n",
              "      <td>Y</td>\n",
              "      <td>LOS ANGELES, CALIFORNIA</td>\n",
              "    </tr>\n",
              "    <tr>\n",
              "      <th>18</th>\n",
              "      <td>CERTIFIED</td>\n",
              "      <td>QUICKLOGIX LLC</td>\n",
              "      <td>CHIEF EXECUTIVES</td>\n",
              "      <td>CEO</td>\n",
              "      <td>Y</td>\n",
              "      <td>SANTA CLARA, CALIFORNIA</td>\n",
              "    </tr>\n",
              "    <tr>\n",
              "      <th>19</th>\n",
              "      <td>CERTIFIED</td>\n",
              "      <td>MCCHRYSTAL GROUP, LLC</td>\n",
              "      <td>CHIEF EXECUTIVES</td>\n",
              "      <td>PRESIDENT, NORTHEAST REGION</td>\n",
              "      <td>Y</td>\n",
              "      <td>ALEXANDRIA, VIRGINIA</td>\n",
              "    </tr>\n",
              "    <tr>\n",
              "      <th>20</th>\n",
              "      <td>CERTIFIED-WITHDRAWN</td>\n",
              "      <td>CUDDLE BARN, INC.</td>\n",
              "      <td>CHIEF EXECUTIVES</td>\n",
              "      <td>CHIEF OPERATING OFFICER (COO)</td>\n",
              "      <td>Y</td>\n",
              "      <td>COMMERCE, CALIFORNIA</td>\n",
              "    </tr>\n",
              "    <tr>\n",
              "      <th>21</th>\n",
              "      <td>CERTIFIED-WITHDRAWN</td>\n",
              "      <td>WESTFIELD CORPORATION</td>\n",
              "      <td>CHIEF EXECUTIVES</td>\n",
              "      <td>GENERAL MANAGER, OPERATIONS</td>\n",
              "      <td>Y</td>\n",
              "      <td>LOS ANGELES, CALIFORNIA</td>\n",
              "    </tr>\n",
              "    <tr>\n",
              "      <th>22</th>\n",
              "      <td>CERTIFIED</td>\n",
              "      <td>LOMICS, LLC</td>\n",
              "      <td>CHIEF EXECUTIVES</td>\n",
              "      <td>CEO</td>\n",
              "      <td>Y</td>\n",
              "      <td>SAN DIEGO, CALIFORNIA</td>\n",
              "    </tr>\n",
              "    <tr>\n",
              "      <th>23</th>\n",
              "      <td>CERTIFIED</td>\n",
              "      <td>UC UNIVERSITY HIGH SCHOOL EDUCATION INC.</td>\n",
              "      <td>CHIEF EXECUTIVES</td>\n",
              "      <td>CHIEF FINANCIAL OFFICER</td>\n",
              "      <td>Y</td>\n",
              "      <td>CHULA VISTA, CALIFORNIA</td>\n",
              "    </tr>\n",
              "    <tr>\n",
              "      <th>24</th>\n",
              "      <td>CERTIFIED-WITHDRAWN</td>\n",
              "      <td>VMS COMMUNICATIONS LLC</td>\n",
              "      <td>CHIEF EXECUTIVES</td>\n",
              "      <td>CHIEF OPERATING OFFICER</td>\n",
              "      <td>Y</td>\n",
              "      <td>MIAMI, FLORIDA</td>\n",
              "    </tr>\n",
              "    <tr>\n",
              "      <th>25</th>\n",
              "      <td>CERTIFIED</td>\n",
              "      <td>QUICKLOGIX, INC.</td>\n",
              "      <td>CHIEF EXECUTIVES</td>\n",
              "      <td>CEO</td>\n",
              "      <td>Y</td>\n",
              "      <td>SANTA CLARA, CALIFORNIA</td>\n",
              "    </tr>\n",
              "    <tr>\n",
              "      <th>26</th>\n",
              "      <td>CERTIFIED-WITHDRAWN</td>\n",
              "      <td>FOODESSENTIALS CORPORATION</td>\n",
              "      <td>CHIEF EXECUTIVES</td>\n",
              "      <td>CHIEF EXECUTIVE OFFICER</td>\n",
              "      <td>Y</td>\n",
              "      <td>CHICAGO, ILLINOIS</td>\n",
              "    </tr>\n",
              "    <tr>\n",
              "      <th>27</th>\n",
              "      <td>CERTIFIED</td>\n",
              "      <td>HELLO INC.</td>\n",
              "      <td>CHIEF EXECUTIVES</td>\n",
              "      <td>CHIEF BUSINESS OFFICER</td>\n",
              "      <td>Y</td>\n",
              "      <td>SAN FRANCISCO, CALIFORNIA</td>\n",
              "    </tr>\n",
              "    <tr>\n",
              "      <th>28</th>\n",
              "      <td>CERTIFIED</td>\n",
              "      <td>UMBEL CORP</td>\n",
              "      <td>CHIEF EXECUTIVES</td>\n",
              "      <td>VICE PRESIDENT OF ENGINEERING</td>\n",
              "      <td>Y</td>\n",
              "      <td>AUSTIN, TEXAS</td>\n",
              "    </tr>\n",
              "    <tr>\n",
              "      <th>29</th>\n",
              "      <td>CERTIFIED</td>\n",
              "      <td>PERSPECTIVES OF FREEDOM FOUNDATION, INC</td>\n",
              "      <td>CHIEF EXECUTIVES</td>\n",
              "      <td>EXECUTIVE DIRECTOR</td>\n",
              "      <td>Y</td>\n",
              "      <td>WESTON, FLORIDA</td>\n",
              "    </tr>\n",
              "    <tr>\n",
              "      <th>...</th>\n",
              "      <td>...</td>\n",
              "      <td>...</td>\n",
              "      <td>...</td>\n",
              "      <td>...</td>\n",
              "      <td>...</td>\n",
              "      <td>...</td>\n",
              "    </tr>\n",
              "    <tr>\n",
              "      <th>3002428</th>\n",
              "      <td>WITHDRAWN</td>\n",
              "      <td>AVANT HEALTHCARE PROFESSIONALS</td>\n",
              "      <td>Physical Therapists</td>\n",
              "      <td>PHYSICAL THERAPIST</td>\n",
              "      <td>Y</td>\n",
              "      <td>LEBANON, PENNSYLVANIA</td>\n",
              "    </tr>\n",
              "    <tr>\n",
              "      <th>3002429</th>\n",
              "      <td>WITHDRAWN</td>\n",
              "      <td>AVANT HEALTHCARE PROFESSIONALS</td>\n",
              "      <td>Physical Therapists</td>\n",
              "      <td>PHYSICAL THERAPIST</td>\n",
              "      <td>Y</td>\n",
              "      <td>LEBANON, PENNSYLVANIA</td>\n",
              "    </tr>\n",
              "    <tr>\n",
              "      <th>3002430</th>\n",
              "      <td>WITHDRAWN</td>\n",
              "      <td>TRISYNC TECHNOLOGIES, INC.</td>\n",
              "      <td>Computer Systems Analysts</td>\n",
              "      <td>COMPUTER SYSTEM ANALYST</td>\n",
              "      <td>Y</td>\n",
              "      <td>EDISON, NEW JERSEY</td>\n",
              "    </tr>\n",
              "    <tr>\n",
              "      <th>3002431</th>\n",
              "      <td>WITHDRAWN</td>\n",
              "      <td>AT LAST SPORTSWEAR INC.</td>\n",
              "      <td>Computer Support Specialists</td>\n",
              "      <td>COMPUTER SUPPORT SPECIALIST</td>\n",
              "      <td>Y</td>\n",
              "      <td>SECAUCUS, NEW JERSEY</td>\n",
              "    </tr>\n",
              "    <tr>\n",
              "      <th>3002432</th>\n",
              "      <td>WITHDRAWN</td>\n",
              "      <td>TRISYNC TECHNOLOGIES, INC.</td>\n",
              "      <td>Computer Systems Analysts</td>\n",
              "      <td>COMPUTER SYSTEM ANALYST</td>\n",
              "      <td>Y</td>\n",
              "      <td>EDISON, NEW JERSEY</td>\n",
              "    </tr>\n",
              "    <tr>\n",
              "      <th>3002433</th>\n",
              "      <td>WITHDRAWN</td>\n",
              "      <td>THE UNIVERSITY OF TEXAS SOUTHWESTERN MEDICAL C...</td>\n",
              "      <td>Biochemists and Biophysicists</td>\n",
              "      <td>INSTRUCTOR</td>\n",
              "      <td>Y</td>\n",
              "      <td>DALLAS, TEXAS</td>\n",
              "    </tr>\n",
              "    <tr>\n",
              "      <th>3002434</th>\n",
              "      <td>WITHDRAWN</td>\n",
              "      <td>TRISYNC TECHNOLOGIES, INC.</td>\n",
              "      <td>Computer Systems Analysts</td>\n",
              "      <td>COMPUTER SYSTEM ANALYST</td>\n",
              "      <td>Y</td>\n",
              "      <td>EDISON, NEW JERSEY</td>\n",
              "    </tr>\n",
              "    <tr>\n",
              "      <th>3002435</th>\n",
              "      <td>WITHDRAWN</td>\n",
              "      <td>MARLABS, INC</td>\n",
              "      <td>Computer Programmers</td>\n",
              "      <td>PROGRAMMER/ANALYST</td>\n",
              "      <td>Y</td>\n",
              "      <td>DURHAM, NORTH CAROLINA</td>\n",
              "    </tr>\n",
              "    <tr>\n",
              "      <th>3002436</th>\n",
              "      <td>WITHDRAWN</td>\n",
              "      <td>XTRON SOFTWARE SERVICES, INC.</td>\n",
              "      <td>Computer Programmers</td>\n",
              "      <td>COMPUTER PROGRAMMERS</td>\n",
              "      <td>Y</td>\n",
              "      <td>SANTA CLARA, CALIFORNIA</td>\n",
              "    </tr>\n",
              "    <tr>\n",
              "      <th>3002437</th>\n",
              "      <td>WITHDRAWN</td>\n",
              "      <td>UNIVERSITY OF MISSISSIPPI MEDICAL CENTER</td>\n",
              "      <td>Health Specialties Teachers, Postsecondary</td>\n",
              "      <td>ASSISTANT PROFESSOR OF ANESTHESIOLOGY</td>\n",
              "      <td>Y</td>\n",
              "      <td>JACKSON, MISSISSIPPI</td>\n",
              "    </tr>\n",
              "    <tr>\n",
              "      <th>3002438</th>\n",
              "      <td>WITHDRAWN</td>\n",
              "      <td>CANVAS INFOTECH, INC.</td>\n",
              "      <td>Database Administrators</td>\n",
              "      <td>DATA ANALYST</td>\n",
              "      <td>Y</td>\n",
              "      <td>PLEASANTON, CALIFORNIA</td>\n",
              "    </tr>\n",
              "    <tr>\n",
              "      <th>3002439</th>\n",
              "      <td>WITHDRAWN</td>\n",
              "      <td>NEW YORK UNIVERSITY</td>\n",
              "      <td>Biological Scientists, All Other</td>\n",
              "      <td>ADJUNCT ASSOCIATE PROFESSOR</td>\n",
              "      <td>Y</td>\n",
              "      <td>NEW YORK, NEW YORK</td>\n",
              "    </tr>\n",
              "    <tr>\n",
              "      <th>3002440</th>\n",
              "      <td>WITHDRAWN</td>\n",
              "      <td>ORACLE AMERICA, INC.</td>\n",
              "      <td>Software Developers, Applications</td>\n",
              "      <td>SOFTWARE ENGINEER (SOFTWARE DEVELOPER 2)</td>\n",
              "      <td>Y</td>\n",
              "      <td>REDWOOD SHORES, CALIFORNIA</td>\n",
              "    </tr>\n",
              "    <tr>\n",
              "      <th>3002441</th>\n",
              "      <td>WITHDRAWN</td>\n",
              "      <td>B &amp; D DENTAL CORP.</td>\n",
              "      <td>Materials Scientists</td>\n",
              "      <td>MATERIALS SCIENTIST</td>\n",
              "      <td>N</td>\n",
              "      <td>WEST VALLEY, UTAH</td>\n",
              "    </tr>\n",
              "    <tr>\n",
              "      <th>3002442</th>\n",
              "      <td>WITHDRAWN</td>\n",
              "      <td>MEDTECH STAFFING &amp; SOLUTIONS, INC</td>\n",
              "      <td>Market Research Analysts and Marketing Special...</td>\n",
              "      <td>MARKET RESEARCH ANALYST</td>\n",
              "      <td>Y</td>\n",
              "      <td>AKRON, OHIO</td>\n",
              "    </tr>\n",
              "    <tr>\n",
              "      <th>3002443</th>\n",
              "      <td>WITHDRAWN</td>\n",
              "      <td>LARSEN &amp; TOUBRO LIMITED</td>\n",
              "      <td>Commercial and Industrial Designers</td>\n",
              "      <td>DESIGN ENGINEER</td>\n",
              "      <td>Y</td>\n",
              "      <td>CHELMSFORD, MASSACHUSETTS</td>\n",
              "    </tr>\n",
              "    <tr>\n",
              "      <th>3002444</th>\n",
              "      <td>WITHDRAWN</td>\n",
              "      <td>LARSEN &amp; TOUBRO LIMITED</td>\n",
              "      <td>Commercial and Industrial Designers</td>\n",
              "      <td>DESIGN ENGINEER</td>\n",
              "      <td>Y</td>\n",
              "      <td>CHELMSFORD, MASSACHUSETTS</td>\n",
              "    </tr>\n",
              "    <tr>\n",
              "      <th>3002445</th>\n",
              "      <td>CERTIFIED</td>\n",
              "      <td>INFOSYS LIMITED</td>\n",
              "      <td>Computer Systems Analysts</td>\n",
              "      <td>PROGRAMMER ANALYST</td>\n",
              "      <td>Y</td>\n",
              "      <td>BERKLEY HEIGHTS, NEW JERSEY</td>\n",
              "    </tr>\n",
              "    <tr>\n",
              "      <th>3002446</th>\n",
              "      <td>CERTIFIED</td>\n",
              "      <td>INFOSYS LIMITED</td>\n",
              "      <td>Computer Systems Analysts</td>\n",
              "      <td>PROGRAMMER ANALYST</td>\n",
              "      <td>Y</td>\n",
              "      <td>SCHENECTADY , NEW YORK</td>\n",
              "    </tr>\n",
              "    <tr>\n",
              "      <th>3002447</th>\n",
              "      <td>CERTIFIED</td>\n",
              "      <td>INFOSYS LIMITED</td>\n",
              "      <td>Computer Systems Analysts</td>\n",
              "      <td>PROGRAMMER ANALYST</td>\n",
              "      <td>Y</td>\n",
              "      <td>MOUTAIN VIEW, CALIFORNIA</td>\n",
              "    </tr>\n",
              "    <tr>\n",
              "      <th>3002448</th>\n",
              "      <td>CERTIFIED</td>\n",
              "      <td>INFOSYS LIMITED</td>\n",
              "      <td>Computer Systems Analysts</td>\n",
              "      <td>PROGRAMMER ANALYST</td>\n",
              "      <td>Y</td>\n",
              "      <td>ST.PAUL, MINNESOTA</td>\n",
              "    </tr>\n",
              "    <tr>\n",
              "      <th>3002449</th>\n",
              "      <td>CERTIFIED</td>\n",
              "      <td>INFOSYS LIMITED</td>\n",
              "      <td>Computer Systems Analysts</td>\n",
              "      <td>PROGRAMMER ANALYST</td>\n",
              "      <td>Y</td>\n",
              "      <td>NEW TOWN, PENNSYLVANIA</td>\n",
              "    </tr>\n",
              "    <tr>\n",
              "      <th>3002450</th>\n",
              "      <td>CERTIFIED</td>\n",
              "      <td>INFOSYS LIMITED</td>\n",
              "      <td>Computer Systems Analysts</td>\n",
              "      <td>PROGRAMMER ANALYST</td>\n",
              "      <td>Y</td>\n",
              "      <td>WESTMINISTER, COLORADO</td>\n",
              "    </tr>\n",
              "    <tr>\n",
              "      <th>3002451</th>\n",
              "      <td>CERTIFIED</td>\n",
              "      <td>INFOSYS LIMITED</td>\n",
              "      <td>Computer Systems Analysts</td>\n",
              "      <td>PROGRAMMER ANALYST</td>\n",
              "      <td>Y</td>\n",
              "      <td>FREEMONT, CALIFORNIA</td>\n",
              "    </tr>\n",
              "    <tr>\n",
              "      <th>3002452</th>\n",
              "      <td>CERTIFIED</td>\n",
              "      <td>INFOSYS LIMITED</td>\n",
              "      <td>Computer Systems Analysts</td>\n",
              "      <td>PROGRAMMER ANALYST</td>\n",
              "      <td>Y</td>\n",
              "      <td>LAVERGNE, TENNESSEE</td>\n",
              "    </tr>\n",
              "    <tr>\n",
              "      <th>3002453</th>\n",
              "      <td>CERTIFIED</td>\n",
              "      <td>INFOSYS LIMITED</td>\n",
              "      <td>Computer Systems Analysts</td>\n",
              "      <td>PROGRAMMER ANALYST</td>\n",
              "      <td>Y</td>\n",
              "      <td>NYC, NEW YORK</td>\n",
              "    </tr>\n",
              "    <tr>\n",
              "      <th>3002454</th>\n",
              "      <td>CERTIFIED</td>\n",
              "      <td>INFOSYS LIMITED</td>\n",
              "      <td>Computer Systems Analysts</td>\n",
              "      <td>PROGRAMMER ANALYST</td>\n",
              "      <td>Y</td>\n",
              "      <td>SOUTH LAKE, TEXAS</td>\n",
              "    </tr>\n",
              "    <tr>\n",
              "      <th>3002455</th>\n",
              "      <td>CERTIFIED</td>\n",
              "      <td>INFOSYS LIMITED</td>\n",
              "      <td>Computer Systems Analysts</td>\n",
              "      <td>PROGRAMMER ANALYST</td>\n",
              "      <td>Y</td>\n",
              "      <td>CLINTON, NEW JERSEY</td>\n",
              "    </tr>\n",
              "    <tr>\n",
              "      <th>3002456</th>\n",
              "      <td>CERTIFIED</td>\n",
              "      <td>INFOSYS LIMITED</td>\n",
              "      <td>Computer Systems Analysts</td>\n",
              "      <td>PROGRAMMER ANALYST</td>\n",
              "      <td>Y</td>\n",
              "      <td>OWINGS MILL, MARYLAND</td>\n",
              "    </tr>\n",
              "    <tr>\n",
              "      <th>3002457</th>\n",
              "      <td>CERTIFIED</td>\n",
              "      <td>INFOSYS LIMITED</td>\n",
              "      <td>Computer Systems Analysts</td>\n",
              "      <td>PROGRAMMER ANALYST</td>\n",
              "      <td>Y</td>\n",
              "      <td>ALTANTA, GEORGIA</td>\n",
              "    </tr>\n",
              "  </tbody>\n",
              "</table>\n",
              "<p>3002458 rows × 6 columns</p>\n",
              "</div>"
            ],
            "text/plain": [
              "                 CASE_STATUS  \\\n",
              "0        CERTIFIED-WITHDRAWN   \n",
              "1        CERTIFIED-WITHDRAWN   \n",
              "2        CERTIFIED-WITHDRAWN   \n",
              "3        CERTIFIED-WITHDRAWN   \n",
              "4                  WITHDRAWN   \n",
              "5        CERTIFIED-WITHDRAWN   \n",
              "6        CERTIFIED-WITHDRAWN   \n",
              "7        CERTIFIED-WITHDRAWN   \n",
              "8        CERTIFIED-WITHDRAWN   \n",
              "9                  WITHDRAWN   \n",
              "10       CERTIFIED-WITHDRAWN   \n",
              "11       CERTIFIED-WITHDRAWN   \n",
              "12       CERTIFIED-WITHDRAWN   \n",
              "13       CERTIFIED-WITHDRAWN   \n",
              "14       CERTIFIED-WITHDRAWN   \n",
              "15       CERTIFIED-WITHDRAWN   \n",
              "16       CERTIFIED-WITHDRAWN   \n",
              "17       CERTIFIED-WITHDRAWN   \n",
              "18                 CERTIFIED   \n",
              "19                 CERTIFIED   \n",
              "20       CERTIFIED-WITHDRAWN   \n",
              "21       CERTIFIED-WITHDRAWN   \n",
              "22                 CERTIFIED   \n",
              "23                 CERTIFIED   \n",
              "24       CERTIFIED-WITHDRAWN   \n",
              "25                 CERTIFIED   \n",
              "26       CERTIFIED-WITHDRAWN   \n",
              "27                 CERTIFIED   \n",
              "28                 CERTIFIED   \n",
              "29                 CERTIFIED   \n",
              "...                      ...   \n",
              "3002428            WITHDRAWN   \n",
              "3002429            WITHDRAWN   \n",
              "3002430            WITHDRAWN   \n",
              "3002431            WITHDRAWN   \n",
              "3002432            WITHDRAWN   \n",
              "3002433            WITHDRAWN   \n",
              "3002434            WITHDRAWN   \n",
              "3002435            WITHDRAWN   \n",
              "3002436            WITHDRAWN   \n",
              "3002437            WITHDRAWN   \n",
              "3002438            WITHDRAWN   \n",
              "3002439            WITHDRAWN   \n",
              "3002440            WITHDRAWN   \n",
              "3002441            WITHDRAWN   \n",
              "3002442            WITHDRAWN   \n",
              "3002443            WITHDRAWN   \n",
              "3002444            WITHDRAWN   \n",
              "3002445            CERTIFIED   \n",
              "3002446            CERTIFIED   \n",
              "3002447            CERTIFIED   \n",
              "3002448            CERTIFIED   \n",
              "3002449            CERTIFIED   \n",
              "3002450            CERTIFIED   \n",
              "3002451            CERTIFIED   \n",
              "3002452            CERTIFIED   \n",
              "3002453            CERTIFIED   \n",
              "3002454            CERTIFIED   \n",
              "3002455            CERTIFIED   \n",
              "3002456            CERTIFIED   \n",
              "3002457            CERTIFIED   \n",
              "\n",
              "                                             EMPLOYER_NAME  \\\n",
              "0                                   UNIVERSITY OF MICHIGAN   \n",
              "1                                   GOODMAN NETWORKS, INC.   \n",
              "2                                PORTS AMERICA GROUP, INC.   \n",
              "3        GATES CORPORATION, A WHOLLY-OWNED SUBSIDIARY O...   \n",
              "4                                PEABODY INVESTMENTS CORP.   \n",
              "5                                  BURGER KING CORPORATION   \n",
              "6                         BT AND MK ENERGY AND COMMODITIES   \n",
              "7                          GLOBO MOBILE TECHNOLOGIES, INC.   \n",
              "8                                       ESI COMPANIES INC.   \n",
              "9                                LESSARD INTERNATIONAL LLC   \n",
              "10                                      H.J. HEINZ COMPANY   \n",
              "11                                 DOW CORNING CORPORATION   \n",
              "12                                        ACUSHNET COMPANY   \n",
              "13                                           BIOCAIR, INC.   \n",
              "14                              NEWMONT MINING CORPORATION   \n",
              "15                                            VRICON, INC.   \n",
              "16                             CARDIAC SCIENCE CORPORATION   \n",
              "17                                   WESTFIELD CORPORATION   \n",
              "18                                          QUICKLOGIX LLC   \n",
              "19                                   MCCHRYSTAL GROUP, LLC   \n",
              "20                                       CUDDLE BARN, INC.   \n",
              "21                                   WESTFIELD CORPORATION   \n",
              "22                                             LOMICS, LLC   \n",
              "23                UC UNIVERSITY HIGH SCHOOL EDUCATION INC.   \n",
              "24                                  VMS COMMUNICATIONS LLC   \n",
              "25                                        QUICKLOGIX, INC.   \n",
              "26                              FOODESSENTIALS CORPORATION   \n",
              "27                                              HELLO INC.   \n",
              "28                                              UMBEL CORP   \n",
              "29                 PERSPECTIVES OF FREEDOM FOUNDATION, INC   \n",
              "...                                                    ...   \n",
              "3002428                     AVANT HEALTHCARE PROFESSIONALS   \n",
              "3002429                     AVANT HEALTHCARE PROFESSIONALS   \n",
              "3002430                         TRISYNC TECHNOLOGIES, INC.   \n",
              "3002431                            AT LAST SPORTSWEAR INC.   \n",
              "3002432                         TRISYNC TECHNOLOGIES, INC.   \n",
              "3002433  THE UNIVERSITY OF TEXAS SOUTHWESTERN MEDICAL C...   \n",
              "3002434                         TRISYNC TECHNOLOGIES, INC.   \n",
              "3002435                                       MARLABS, INC   \n",
              "3002436                      XTRON SOFTWARE SERVICES, INC.   \n",
              "3002437           UNIVERSITY OF MISSISSIPPI MEDICAL CENTER   \n",
              "3002438                              CANVAS INFOTECH, INC.   \n",
              "3002439                                NEW YORK UNIVERSITY   \n",
              "3002440                               ORACLE AMERICA, INC.   \n",
              "3002441                                 B & D DENTAL CORP.   \n",
              "3002442                  MEDTECH STAFFING & SOLUTIONS, INC   \n",
              "3002443                            LARSEN & TOUBRO LIMITED   \n",
              "3002444                            LARSEN & TOUBRO LIMITED   \n",
              "3002445                                    INFOSYS LIMITED   \n",
              "3002446                                    INFOSYS LIMITED   \n",
              "3002447                                    INFOSYS LIMITED   \n",
              "3002448                                    INFOSYS LIMITED   \n",
              "3002449                                    INFOSYS LIMITED   \n",
              "3002450                                    INFOSYS LIMITED   \n",
              "3002451                                    INFOSYS LIMITED   \n",
              "3002452                                    INFOSYS LIMITED   \n",
              "3002453                                    INFOSYS LIMITED   \n",
              "3002454                                    INFOSYS LIMITED   \n",
              "3002455                                    INFOSYS LIMITED   \n",
              "3002456                                    INFOSYS LIMITED   \n",
              "3002457                                    INFOSYS LIMITED   \n",
              "\n",
              "                                                  SOC_NAME  \\\n",
              "0                            BIOCHEMISTS AND BIOPHYSICISTS   \n",
              "1                                         CHIEF EXECUTIVES   \n",
              "2                                         CHIEF EXECUTIVES   \n",
              "3                                         CHIEF EXECUTIVES   \n",
              "4                                         CHIEF EXECUTIVES   \n",
              "5                                         CHIEF EXECUTIVES   \n",
              "6                                         CHIEF EXECUTIVES   \n",
              "7                                         CHIEF EXECUTIVES   \n",
              "8                                         CHIEF EXECUTIVES   \n",
              "9                                         CHIEF EXECUTIVES   \n",
              "10                                        CHIEF EXECUTIVES   \n",
              "11                                        CHIEF EXECUTIVES   \n",
              "12                                        CHIEF EXECUTIVES   \n",
              "13                                        CHIEF EXECUTIVES   \n",
              "14                                        CHIEF EXECUTIVES   \n",
              "15                                        CHIEF EXECUTIVES   \n",
              "16                                      FINANCIAL MANAGERS   \n",
              "17                                        CHIEF EXECUTIVES   \n",
              "18                                        CHIEF EXECUTIVES   \n",
              "19                                        CHIEF EXECUTIVES   \n",
              "20                                        CHIEF EXECUTIVES   \n",
              "21                                        CHIEF EXECUTIVES   \n",
              "22                                        CHIEF EXECUTIVES   \n",
              "23                                        CHIEF EXECUTIVES   \n",
              "24                                        CHIEF EXECUTIVES   \n",
              "25                                        CHIEF EXECUTIVES   \n",
              "26                                        CHIEF EXECUTIVES   \n",
              "27                                        CHIEF EXECUTIVES   \n",
              "28                                        CHIEF EXECUTIVES   \n",
              "29                                        CHIEF EXECUTIVES   \n",
              "...                                                    ...   \n",
              "3002428                                Physical Therapists   \n",
              "3002429                                Physical Therapists   \n",
              "3002430                          Computer Systems Analysts   \n",
              "3002431                       Computer Support Specialists   \n",
              "3002432                          Computer Systems Analysts   \n",
              "3002433                      Biochemists and Biophysicists   \n",
              "3002434                          Computer Systems Analysts   \n",
              "3002435                               Computer Programmers   \n",
              "3002436                               Computer Programmers   \n",
              "3002437         Health Specialties Teachers, Postsecondary   \n",
              "3002438                            Database Administrators   \n",
              "3002439                   Biological Scientists, All Other   \n",
              "3002440                  Software Developers, Applications   \n",
              "3002441                               Materials Scientists   \n",
              "3002442  Market Research Analysts and Marketing Special...   \n",
              "3002443                Commercial and Industrial Designers   \n",
              "3002444                Commercial and Industrial Designers   \n",
              "3002445                          Computer Systems Analysts   \n",
              "3002446                          Computer Systems Analysts   \n",
              "3002447                          Computer Systems Analysts   \n",
              "3002448                          Computer Systems Analysts   \n",
              "3002449                          Computer Systems Analysts   \n",
              "3002450                          Computer Systems Analysts   \n",
              "3002451                          Computer Systems Analysts   \n",
              "3002452                          Computer Systems Analysts   \n",
              "3002453                          Computer Systems Analysts   \n",
              "3002454                          Computer Systems Analysts   \n",
              "3002455                          Computer Systems Analysts   \n",
              "3002456                          Computer Systems Analysts   \n",
              "3002457                          Computer Systems Analysts   \n",
              "\n",
              "                                                 JOB_TITLE FULL_TIME_POSITION  \\\n",
              "0                             POSTDOCTORAL RESEARCH FELLOW                  N   \n",
              "1                                  CHIEF OPERATING OFFICER                  Y   \n",
              "2                                    CHIEF PROCESS OFFICER                  Y   \n",
              "3                              REGIONAL PRESIDEN, AMERICAS                  Y   \n",
              "4                             PRESIDENT MONGOLIA AND INDIA                  Y   \n",
              "5        EXECUTIVE V P, GLOBAL DEVELOPMENT AND PRESIDEN...                  Y   \n",
              "6                                  CHIEF OPERATING OFFICER                  Y   \n",
              "7                                 CHIEF OPERATIONS OFFICER                  Y   \n",
              "8                                                PRESIDENT                  Y   \n",
              "9                                                PRESIDENT                  Y   \n",
              "10          CHIEF INFORMATION OFFICER, HEINZ NORTH AMERICA                  Y   \n",
              "11        VICE PRESIDENT AND CHIEF HUMAN RESOURCES OFFICER                  Y   \n",
              "12                                       TREASURER AND COO                  Y   \n",
              "13                                CHIEF COMMERCIAL OFFICER                  Y   \n",
              "14                                            BOARD MEMBER                  Y   \n",
              "15                                 CHIEF FINANCIAL OFFICER                  Y   \n",
              "16                               VICE PRESIDENT OF FINANCE                  Y   \n",
              "17                             GENERAL MANAGER, OPERATIONS                  Y   \n",
              "18                                                     CEO                  Y   \n",
              "19                             PRESIDENT, NORTHEAST REGION                  Y   \n",
              "20                           CHIEF OPERATING OFFICER (COO)                  Y   \n",
              "21                             GENERAL MANAGER, OPERATIONS                  Y   \n",
              "22                                                     CEO                  Y   \n",
              "23                                 CHIEF FINANCIAL OFFICER                  Y   \n",
              "24                                 CHIEF OPERATING OFFICER                  Y   \n",
              "25                                                     CEO                  Y   \n",
              "26                                 CHIEF EXECUTIVE OFFICER                  Y   \n",
              "27                                  CHIEF BUSINESS OFFICER                  Y   \n",
              "28                           VICE PRESIDENT OF ENGINEERING                  Y   \n",
              "29                                      EXECUTIVE DIRECTOR                  Y   \n",
              "...                                                    ...                ...   \n",
              "3002428                                 PHYSICAL THERAPIST                  Y   \n",
              "3002429                                 PHYSICAL THERAPIST                  Y   \n",
              "3002430                            COMPUTER SYSTEM ANALYST                  Y   \n",
              "3002431                        COMPUTER SUPPORT SPECIALIST                  Y   \n",
              "3002432                            COMPUTER SYSTEM ANALYST                  Y   \n",
              "3002433                                         INSTRUCTOR                  Y   \n",
              "3002434                            COMPUTER SYSTEM ANALYST                  Y   \n",
              "3002435                                 PROGRAMMER/ANALYST                  Y   \n",
              "3002436                               COMPUTER PROGRAMMERS                  Y   \n",
              "3002437              ASSISTANT PROFESSOR OF ANESTHESIOLOGY                  Y   \n",
              "3002438                                       DATA ANALYST                  Y   \n",
              "3002439                        ADJUNCT ASSOCIATE PROFESSOR                  Y   \n",
              "3002440           SOFTWARE ENGINEER (SOFTWARE DEVELOPER 2)                  Y   \n",
              "3002441                                MATERIALS SCIENTIST                  N   \n",
              "3002442                            MARKET RESEARCH ANALYST                  Y   \n",
              "3002443                                    DESIGN ENGINEER                  Y   \n",
              "3002444                                    DESIGN ENGINEER                  Y   \n",
              "3002445                                 PROGRAMMER ANALYST                  Y   \n",
              "3002446                                 PROGRAMMER ANALYST                  Y   \n",
              "3002447                                 PROGRAMMER ANALYST                  Y   \n",
              "3002448                                 PROGRAMMER ANALYST                  Y   \n",
              "3002449                                 PROGRAMMER ANALYST                  Y   \n",
              "3002450                                 PROGRAMMER ANALYST                  Y   \n",
              "3002451                                 PROGRAMMER ANALYST                  Y   \n",
              "3002452                                 PROGRAMMER ANALYST                  Y   \n",
              "3002453                                 PROGRAMMER ANALYST                  Y   \n",
              "3002454                                 PROGRAMMER ANALYST                  Y   \n",
              "3002455                                 PROGRAMMER ANALYST                  Y   \n",
              "3002456                                 PROGRAMMER ANALYST                  Y   \n",
              "3002457                                 PROGRAMMER ANALYST                  Y   \n",
              "\n",
              "                            WORKSITE  \n",
              "0                ANN ARBOR, MICHIGAN  \n",
              "1                       PLANO, TEXAS  \n",
              "2            JERSEY CITY, NEW JERSEY  \n",
              "3                   DENVER, COLORADO  \n",
              "4                ST. LOUIS, MISSOURI  \n",
              "5                     MIAMI, FLORIDA  \n",
              "6                     HOUSTON, TEXAS  \n",
              "7               SAN JOSE, CALIFORNIA  \n",
              "8                     MEMPHIS, TEXAS  \n",
              "9                   VIENNA, VIRGINIA  \n",
              "10          PITTSBURGH, PENNSYLVANIA  \n",
              "11                 MIDLAND, MICHIGAN  \n",
              "12          FAIRHAVEN, MASSACHUSETTS  \n",
              "13                    MIAMI, FLORIDA  \n",
              "14       GREENWOOD VILLAGE, COLORADO  \n",
              "15                STERLING, VIRGINIA  \n",
              "16               WAUKESHA, WISCONSIN  \n",
              "17           LOS ANGELES, CALIFORNIA  \n",
              "18           SANTA CLARA, CALIFORNIA  \n",
              "19              ALEXANDRIA, VIRGINIA  \n",
              "20              COMMERCE, CALIFORNIA  \n",
              "21           LOS ANGELES, CALIFORNIA  \n",
              "22             SAN DIEGO, CALIFORNIA  \n",
              "23           CHULA VISTA, CALIFORNIA  \n",
              "24                    MIAMI, FLORIDA  \n",
              "25           SANTA CLARA, CALIFORNIA  \n",
              "26                 CHICAGO, ILLINOIS  \n",
              "27         SAN FRANCISCO, CALIFORNIA  \n",
              "28                     AUSTIN, TEXAS  \n",
              "29                   WESTON, FLORIDA  \n",
              "...                              ...  \n",
              "3002428        LEBANON, PENNSYLVANIA  \n",
              "3002429        LEBANON, PENNSYLVANIA  \n",
              "3002430           EDISON, NEW JERSEY  \n",
              "3002431         SECAUCUS, NEW JERSEY  \n",
              "3002432           EDISON, NEW JERSEY  \n",
              "3002433                DALLAS, TEXAS  \n",
              "3002434           EDISON, NEW JERSEY  \n",
              "3002435       DURHAM, NORTH CAROLINA  \n",
              "3002436      SANTA CLARA, CALIFORNIA  \n",
              "3002437         JACKSON, MISSISSIPPI  \n",
              "3002438       PLEASANTON, CALIFORNIA  \n",
              "3002439           NEW YORK, NEW YORK  \n",
              "3002440   REDWOOD SHORES, CALIFORNIA  \n",
              "3002441            WEST VALLEY, UTAH  \n",
              "3002442                  AKRON, OHIO  \n",
              "3002443    CHELMSFORD, MASSACHUSETTS  \n",
              "3002444    CHELMSFORD, MASSACHUSETTS  \n",
              "3002445  BERKLEY HEIGHTS, NEW JERSEY  \n",
              "3002446       SCHENECTADY , NEW YORK  \n",
              "3002447     MOUTAIN VIEW, CALIFORNIA  \n",
              "3002448           ST.PAUL, MINNESOTA  \n",
              "3002449       NEW TOWN, PENNSYLVANIA  \n",
              "3002450       WESTMINISTER, COLORADO  \n",
              "3002451         FREEMONT, CALIFORNIA  \n",
              "3002452          LAVERGNE, TENNESSEE  \n",
              "3002453                NYC, NEW YORK  \n",
              "3002454            SOUTH LAKE, TEXAS  \n",
              "3002455          CLINTON, NEW JERSEY  \n",
              "3002456        OWINGS MILL, MARYLAND  \n",
              "3002457             ALTANTA, GEORGIA  \n",
              "\n",
              "[3002458 rows x 6 columns]"
            ]
          },
          "metadata": {
            "tags": []
          },
          "execution_count": 22
        }
      ]
    },
    {
      "metadata": {
        "id": "97IOQXhRXwsp",
        "colab_type": "code",
        "outputId": "47f6df4d-d868-48f4-a165-de557a2cc13c",
        "colab": {
          "base_uri": "https://localhost:8080/",
          "height": 136
        }
      },
      "cell_type": "code",
      "source": [
        "categorical.isnull().sum()"
      ],
      "execution_count": 0,
      "outputs": [
        {
          "output_type": "execute_result",
          "data": {
            "text/plain": [
              "CASE_STATUS           0\n",
              "EMPLOYER_NAME         0\n",
              "SOC_NAME              0\n",
              "JOB_TITLE             0\n",
              "FULL_TIME_POSITION    0\n",
              "WORKSITE              0\n",
              "dtype: int64"
            ]
          },
          "metadata": {
            "tags": []
          },
          "execution_count": 23
        }
      ]
    },
    {
      "metadata": {
        "id": "5hO0de5xX7m3",
        "colab_type": "code",
        "outputId": "58f9643a-24a5-4e7a-cc82-d42ca403cb42",
        "colab": {
          "base_uri": "https://localhost:8080/",
          "height": 153
        }
      },
      "cell_type": "code",
      "source": [
        "categorical[\"CASE_STATUS\"].value_counts()"
      ],
      "execution_count": 0,
      "outputs": [
        {
          "output_type": "execute_result",
          "data": {
            "text/plain": [
              "CERTIFIED                                             2615636\n",
              "CERTIFIED-WITHDRAWN                                    202659\n",
              "DENIED                                                  94346\n",
              "WITHDRAWN                                               89799\n",
              "PENDING QUALITY AND COMPLIANCE REVIEW - UNASSIGNED         15\n",
              "REJECTED                                                    2\n",
              "INVALIDATED                                                 1\n",
              "Name: CASE_STATUS, dtype: int64"
            ]
          },
          "metadata": {
            "tags": []
          },
          "execution_count": 24
        }
      ]
    },
    {
      "metadata": {
        "id": "um99QzOIYf_m",
        "colab_type": "code",
        "outputId": "a2d61e85-f691-4012-cbe2-8b6e4ced1223",
        "colab": {
          "base_uri": "https://localhost:8080/",
          "height": 731
        }
      },
      "cell_type": "code",
      "source": [
        "categorical.loc[categorical.CASE_STATUS==\"CERTIFIED-WITHDRAWN\",'case_status_now'] = \"CERTIFIED\"\n",
        "categorical.loc[categorical.CASE_STATUS==\"PENDING QUALITY AND COMPLIANCE REVIEW - UNASSIGNED\",'case_status_now'] = \"DENIED\"\n",
        "categorical.loc[categorical.CASE_STATUS==\"REJECTED\",'case_status_now'] = \"DENIED\"\n",
        "categorical.loc[categorical.CASE_STATUS==\"INVALIDATED\",'case_status_now'] = \"DENIED\"\n",
        "categorical.loc[categorical.CASE_STATUS==\"DENIED\",'case_status_now'] = \"DENIED\"\n",
        "categorical.loc[categorical.CASE_STATUS==\"CERTIFIED\",'case_status_now'] = \"CERTIFIED\""
      ],
      "execution_count": 0,
      "outputs": [
        {
          "output_type": "stream",
          "text": [
            "/usr/local/lib/python3.6/dist-packages/pandas/core/indexing.py:362: SettingWithCopyWarning: \n",
            "A value is trying to be set on a copy of a slice from a DataFrame.\n",
            "Try using .loc[row_indexer,col_indexer] = value instead\n",
            "\n",
            "See the caveats in the documentation: http://pandas.pydata.org/pandas-docs/stable/indexing.html#indexing-view-versus-copy\n",
            "  self.obj[key] = _infer_fill_value(value)\n",
            "/usr/local/lib/python3.6/dist-packages/pandas/core/indexing.py:543: SettingWithCopyWarning: \n",
            "A value is trying to be set on a copy of a slice from a DataFrame.\n",
            "Try using .loc[row_indexer,col_indexer] = value instead\n",
            "\n",
            "See the caveats in the documentation: http://pandas.pydata.org/pandas-docs/stable/indexing.html#indexing-view-versus-copy\n",
            "  self.obj[item] = s\n",
            "/usr/local/lib/python3.6/dist-packages/pandas/core/indexing.py:189: SettingWithCopyWarning: \n",
            "A value is trying to be set on a copy of a slice from a DataFrame\n",
            "\n",
            "See the caveats in the documentation: http://pandas.pydata.org/pandas-docs/stable/indexing.html#indexing-view-versus-copy\n",
            "  self._setitem_with_indexer(indexer, value)\n",
            "/usr/local/lib/python3.6/dist-packages/ipykernel_launcher.py:2: SettingWithCopyWarning: \n",
            "A value is trying to be set on a copy of a slice from a DataFrame\n",
            "\n",
            "See the caveats in the documentation: http://pandas.pydata.org/pandas-docs/stable/indexing.html#indexing-view-versus-copy\n",
            "  \n",
            "/usr/local/lib/python3.6/dist-packages/ipykernel_launcher.py:3: SettingWithCopyWarning: \n",
            "A value is trying to be set on a copy of a slice from a DataFrame\n",
            "\n",
            "See the caveats in the documentation: http://pandas.pydata.org/pandas-docs/stable/indexing.html#indexing-view-versus-copy\n",
            "  This is separate from the ipykernel package so we can avoid doing imports until\n",
            "/usr/local/lib/python3.6/dist-packages/ipykernel_launcher.py:4: SettingWithCopyWarning: \n",
            "A value is trying to be set on a copy of a slice from a DataFrame\n",
            "\n",
            "See the caveats in the documentation: http://pandas.pydata.org/pandas-docs/stable/indexing.html#indexing-view-versus-copy\n",
            "  after removing the cwd from sys.path.\n",
            "/usr/local/lib/python3.6/dist-packages/ipykernel_launcher.py:5: SettingWithCopyWarning: \n",
            "A value is trying to be set on a copy of a slice from a DataFrame\n",
            "\n",
            "See the caveats in the documentation: http://pandas.pydata.org/pandas-docs/stable/indexing.html#indexing-view-versus-copy\n",
            "  \"\"\"\n",
            "/usr/local/lib/python3.6/dist-packages/ipykernel_launcher.py:6: SettingWithCopyWarning: \n",
            "A value is trying to be set on a copy of a slice from a DataFrame\n",
            "\n",
            "See the caveats in the documentation: http://pandas.pydata.org/pandas-docs/stable/indexing.html#indexing-view-versus-copy\n",
            "  \n"
          ],
          "name": "stderr"
        }
      ]
    },
    {
      "metadata": {
        "id": "hmtnI3RSMZIU",
        "colab_type": "code",
        "outputId": "b640b095-8c1d-48f2-8494-2ac10ac46394",
        "colab": {
          "base_uri": "https://localhost:8080/",
          "height": 1071
        }
      },
      "cell_type": "code",
      "source": [
        "categorical[\"case_status_now\"]"
      ],
      "execution_count": 0,
      "outputs": [
        {
          "output_type": "execute_result",
          "data": {
            "text/plain": [
              "0          CERTIFIED\n",
              "1          CERTIFIED\n",
              "2          CERTIFIED\n",
              "3          CERTIFIED\n",
              "4                NaN\n",
              "5          CERTIFIED\n",
              "6          CERTIFIED\n",
              "7          CERTIFIED\n",
              "8          CERTIFIED\n",
              "9                NaN\n",
              "10         CERTIFIED\n",
              "11         CERTIFIED\n",
              "12         CERTIFIED\n",
              "13         CERTIFIED\n",
              "14         CERTIFIED\n",
              "15         CERTIFIED\n",
              "16         CERTIFIED\n",
              "17         CERTIFIED\n",
              "18         CERTIFIED\n",
              "19         CERTIFIED\n",
              "20         CERTIFIED\n",
              "21         CERTIFIED\n",
              "22         CERTIFIED\n",
              "23         CERTIFIED\n",
              "24         CERTIFIED\n",
              "25         CERTIFIED\n",
              "26         CERTIFIED\n",
              "27         CERTIFIED\n",
              "28         CERTIFIED\n",
              "29         CERTIFIED\n",
              "             ...    \n",
              "3002428          NaN\n",
              "3002429          NaN\n",
              "3002430          NaN\n",
              "3002431          NaN\n",
              "3002432          NaN\n",
              "3002433          NaN\n",
              "3002434          NaN\n",
              "3002435          NaN\n",
              "3002436          NaN\n",
              "3002437          NaN\n",
              "3002438          NaN\n",
              "3002439          NaN\n",
              "3002440          NaN\n",
              "3002441          NaN\n",
              "3002442          NaN\n",
              "3002443          NaN\n",
              "3002444          NaN\n",
              "3002445    CERTIFIED\n",
              "3002446    CERTIFIED\n",
              "3002447    CERTIFIED\n",
              "3002448    CERTIFIED\n",
              "3002449    CERTIFIED\n",
              "3002450    CERTIFIED\n",
              "3002451    CERTIFIED\n",
              "3002452    CERTIFIED\n",
              "3002453    CERTIFIED\n",
              "3002454    CERTIFIED\n",
              "3002455    CERTIFIED\n",
              "3002456    CERTIFIED\n",
              "3002457    CERTIFIED\n",
              "Name: case_status_now, Length: 3002458, dtype: object"
            ]
          },
          "metadata": {
            "tags": []
          },
          "execution_count": 26
        }
      ]
    },
    {
      "metadata": {
        "id": "ezku3yhqPfyE",
        "colab_type": "code",
        "colab": {}
      },
      "cell_type": "code",
      "source": [
        "df2=pd.concat([numerical,categorical],1)"
      ],
      "execution_count": 0,
      "outputs": []
    },
    {
      "metadata": {
        "id": "p5sWNaOjQMlA",
        "colab_type": "code",
        "outputId": "f7c004c3-3768-42fb-b52f-dd14a4511d20",
        "colab": {
          "base_uri": "https://localhost:8080/",
          "height": 221
        }
      },
      "cell_type": "code",
      "source": [
        "df2.isnull().sum()"
      ],
      "execution_count": 0,
      "outputs": [
        {
          "output_type": "execute_result",
          "data": {
            "text/plain": [
              "PREVAILING_WAGE           0\n",
              "YEAR                      0\n",
              "lon                       0\n",
              "lat                       0\n",
              "CASE_STATUS               0\n",
              "EMPLOYER_NAME             0\n",
              "SOC_NAME                  0\n",
              "JOB_TITLE                 0\n",
              "FULL_TIME_POSITION        0\n",
              "WORKSITE                  0\n",
              "case_status_now       89799\n",
              "dtype: int64"
            ]
          },
          "metadata": {
            "tags": []
          },
          "execution_count": 28
        }
      ]
    },
    {
      "metadata": {
        "id": "gAwRXJxjQZL0",
        "colab_type": "code",
        "outputId": "95d5fbef-bc2b-46e7-ddf8-c7f0bb6cb29c",
        "colab": {
          "base_uri": "https://localhost:8080/",
          "height": 153
        }
      },
      "cell_type": "code",
      "source": [
        "df2[\"CASE_STATUS\"].value_counts()"
      ],
      "execution_count": 0,
      "outputs": [
        {
          "output_type": "execute_result",
          "data": {
            "text/plain": [
              "CERTIFIED                                             2615636\n",
              "CERTIFIED-WITHDRAWN                                    202659\n",
              "DENIED                                                  94346\n",
              "WITHDRAWN                                               89799\n",
              "PENDING QUALITY AND COMPLIANCE REVIEW - UNASSIGNED         15\n",
              "REJECTED                                                    2\n",
              "INVALIDATED                                                 1\n",
              "Name: CASE_STATUS, dtype: int64"
            ]
          },
          "metadata": {
            "tags": []
          },
          "execution_count": 29
        }
      ]
    },
    {
      "metadata": {
        "id": "wi0PG-BbQe5L",
        "colab_type": "code",
        "colab": {}
      },
      "cell_type": "code",
      "source": [
        "df2 = df2.drop(df2[df2.CASE_STATUS == 'WITHDRAWN'].index)"
      ],
      "execution_count": 0,
      "outputs": []
    },
    {
      "metadata": {
        "id": "W-Wtuci4REZQ",
        "colab_type": "code",
        "outputId": "38caada4-e645-49a0-8f9e-cf1d908255c1",
        "colab": {
          "base_uri": "https://localhost:8080/",
          "height": 68
        }
      },
      "cell_type": "code",
      "source": [
        "df2[\"case_status_now\"].value_counts()"
      ],
      "execution_count": 0,
      "outputs": [
        {
          "output_type": "execute_result",
          "data": {
            "text/plain": [
              "CERTIFIED    2818295\n",
              "DENIED         94364\n",
              "Name: case_status_now, dtype: int64"
            ]
          },
          "metadata": {
            "tags": []
          },
          "execution_count": 31
        }
      ]
    },
    {
      "metadata": {
        "id": "EijkVvqWRURV",
        "colab_type": "code",
        "colab": {}
      },
      "cell_type": "code",
      "source": [
        "df2.loc[df2.case_status_now==\"CERTIFIED\",'case_status_now']=1"
      ],
      "execution_count": 0,
      "outputs": []
    },
    {
      "metadata": {
        "id": "Y9dO7nukR3Kn",
        "colab_type": "code",
        "colab": {}
      },
      "cell_type": "code",
      "source": [
        "df2.loc[df2.case_status_now==\"DENIED\",'case_status_now']=0"
      ],
      "execution_count": 0,
      "outputs": []
    },
    {
      "metadata": {
        "id": "gGX5nwL1R9XF",
        "colab_type": "code",
        "outputId": "7fee00a6-f019-416e-e5d2-c00466a361f9",
        "colab": {
          "base_uri": "https://localhost:8080/",
          "height": 34
        }
      },
      "cell_type": "code",
      "source": [
        "df2.shape"
      ],
      "execution_count": 0,
      "outputs": [
        {
          "output_type": "execute_result",
          "data": {
            "text/plain": [
              "(2912659, 11)"
            ]
          },
          "metadata": {
            "tags": []
          },
          "execution_count": 34
        }
      ]
    },
    {
      "metadata": {
        "id": "jfl3PRLHSOCl",
        "colab_type": "code",
        "outputId": "fcf2487b-82ee-45bf-db65-21014b7132cc",
        "colab": {
          "base_uri": "https://localhost:8080/",
          "height": 34
        }
      },
      "cell_type": "code",
      "source": [
        "94364/(94364+2912659)*100"
      ],
      "execution_count": 0,
      "outputs": [
        {
          "output_type": "execute_result",
          "data": {
            "text/plain": [
              "3.1381203269812037"
            ]
          },
          "metadata": {
            "tags": []
          },
          "execution_count": 35
        }
      ]
    },
    {
      "metadata": {
        "id": "FMtu0qHOSSMS",
        "colab_type": "code",
        "colab": {}
      },
      "cell_type": "code",
      "source": [
        "categorical_2=df2.select_dtypes(exclude=np.number)\n",
        "numerical_2=df2.select_dtypes(include=np.number)\n",
        "categorical_2.head()\n",
        "categorical_2=categorical_2.drop([\"CASE_STATUS\"],1)"
      ],
      "execution_count": 0,
      "outputs": []
    },
    {
      "metadata": {
        "id": "eOZ2J0qPWHPz",
        "colab_type": "code",
        "outputId": "e9af861b-58fd-4474-c93f-0601735db711",
        "colab": {
          "base_uri": "https://localhost:8080/",
          "height": 34
        }
      },
      "cell_type": "code",
      "source": [
        "numerical_2.columns"
      ],
      "execution_count": 0,
      "outputs": [
        {
          "output_type": "execute_result",
          "data": {
            "text/plain": [
              "Index(['PREVAILING_WAGE', 'YEAR', 'lon', 'lat', 'case_status_now'], dtype='object')"
            ]
          },
          "metadata": {
            "tags": []
          },
          "execution_count": 37
        }
      ]
    },
    {
      "metadata": {
        "id": "TQEb9JayWKVw",
        "colab_type": "code",
        "outputId": "fa2712ef-eedb-4141-c450-6016d42cc94c",
        "colab": {
          "base_uri": "https://localhost:8080/",
          "height": 68
        }
      },
      "cell_type": "code",
      "source": [
        "categorical_2.columns"
      ],
      "execution_count": 0,
      "outputs": [
        {
          "output_type": "execute_result",
          "data": {
            "text/plain": [
              "Index(['EMPLOYER_NAME', 'SOC_NAME', 'JOB_TITLE', 'FULL_TIME_POSITION',\n",
              "       'WORKSITE'],\n",
              "      dtype='object')"
            ]
          },
          "metadata": {
            "tags": []
          },
          "execution_count": 38
        }
      ]
    },
    {
      "metadata": {
        "id": "AHR04e9DW0gE",
        "colab_type": "code",
        "outputId": "ed5ea7e3-bc40-4d3b-c5d1-a135b8b3ece6",
        "colab": {
          "base_uri": "https://localhost:8080/",
          "height": 1071
        }
      },
      "cell_type": "code",
      "source": [
        "categorical_2[\"SOC_NAME\"].value_counts()"
      ],
      "execution_count": 0,
      "outputs": [
        {
          "output_type": "execute_result",
          "data": {
            "text/plain": [
              "Computer Systems Analysts                               302073\n",
              "Computer Programmers                                    220768\n",
              "SOFTWARE DEVELOPERS, APPLICATIONS                       214739\n",
              "COMPUTER SYSTEMS ANALYSTS                               209179\n",
              "Software Developers, Applications                       187546\n",
              "COMPUTER PROGRAMMERS                                    166008\n",
              "COMPUTER OCCUPATIONS, ALL OTHER                         105562\n",
              "Computer Occupations, All Other                          67992\n",
              "Software Developers, Systems Software                    43184\n",
              "SOFTWARE DEVELOPERS, SYSTEMS SOFTWARE                    37998\n",
              "Management Analysts                                      37689\n",
              "Financial Analysts                                       33057\n",
              "Computer Software Engineers, Applications                32323\n",
              "Accountants and Auditors                                 29946\n",
              "MANAGEMENT ANALYSTS                                      27355\n",
              "Mechanical Engineers                                     25474\n",
              "Computer Occupations, All Other*                         25063\n",
              "Electronics Engineers, Except Computer                   22468\n",
              "ACCOUNTANTS AND AUDITORS                                 21502\n",
              "Electrical Engineers                                     21447\n",
              "Market Research Analysts and Marketing Specialists       21423\n",
              "Database Administrators                                  21367\n",
              "Physicians and Surgeons, All Other                       21213\n",
              "NETWORK AND COMPUTER SYSTEMS ADMINISTRATORS              20994\n",
              "FINANCIAL ANALYSTS                                       18638\n",
              "Operations Research Analysts                             18634\n",
              "Network and Computer Systems Administrators              17958\n",
              "COMPUTER SYSTEMS ANALYST                                 17313\n",
              "MECHANICAL ENGINEERS                                     17242\n",
              "DATABASE ADMINISTRATORS                                  16535\n",
              "                                                         ...  \n",
              "MEDICAL SCIENTIST, EXCEPT EPIDEMIOLOGIST                     1\n",
              "OCCUPATIONAL THERAPY ASSISTANTS                              1\n",
              "FOOD AND TOBACCO ROASTING, BAKING, AND DRYING                1\n",
              "MEDICAL TRANSCRIPTIONISTS                                    1\n",
              "VETERINARY ASSISTANTS AND LABORATORY ANIMAL CARETA           1\n",
              "FIRST-LINE SUPERVISORS OF PERSONAL SERVICE WORKERS           1\n",
              "SOFTWARE ENGINEER                                            1\n",
              "SECURITIES COMMODITIES FINANCIAL SERVS SALES AGENT           1\n",
              "SOFTWARE DEVELOPERS, APPLICATIONS R&D                        1\n",
              "HEARING AID SPECIALISTS                                      1\n",
              "MARKET RESEARCH ANALYSTS AND MARKETING  SPECIALIST           1\n",
              "CHEMICAL ENGINEERING                                         1\n",
              "SEPTIC TANK SERVICERS AND SEWER PIPE CLEANERS                1\n",
              "Medical Transcriptionists                                    1\n",
              "DATEBASE ADMINISTRATORS                                      1\n",
              "MARKET RESEARCH ANALYTICS AND MARKETING SPECIALIST           1\n",
              "SYSTEMS ENGINEERS/ARCHITECTS                                 1\n",
              "NURSE PRACTITIONER                                           1\n",
              "ELEMENTARY SCHOOL TEACHERS, EXCEPT SPECIAL EDUCATION         1\n",
              "MECHANICAL ENGINEERS, R&D (ACWIA ONLY)                       1\n",
              "SALES AND RELATED WORKERS, ALL OTHER*                        1\n",
              "GENERAL AND OPERATIONS MANAGERSE                             1\n",
              "SHIP ENGINEERS                                               1\n",
              "FOREIGN LANGUAGE LITERATURE TEACHERS, POSTSECOND             1\n",
              "PEDIATRICIAN                                                 1\n",
              "TILE AND MARBLE SETTERS                                      1\n",
              "Metal Workers and Plastic Workers, All Other                 1\n",
              "ELEMENTARY SCHOOL TEACHERS, EXEPT SPECIAL                    1\n",
              "COMPUTER PROGRAMMER ANALYST                                  1\n",
              "SOLAR PHOTOVOLTAIC INSTALLERS                                1\n",
              "Name: SOC_NAME, Length: 2108, dtype: int64"
            ]
          },
          "metadata": {
            "tags": []
          },
          "execution_count": 39
        }
      ]
    },
    {
      "metadata": {
        "id": "yFnwlHCMW64w",
        "colab_type": "code",
        "colab": {}
      },
      "cell_type": "code",
      "source": [
        "c2=categorical_2"
      ],
      "execution_count": 0,
      "outputs": []
    },
    {
      "metadata": {
        "id": "TFuhmgRnXneL",
        "colab_type": "code",
        "colab": {}
      },
      "cell_type": "code",
      "source": [
        "c2[\"NEW_EMPLOYER\"]=np.nan"
      ],
      "execution_count": 0,
      "outputs": []
    },
    {
      "metadata": {
        "id": "vadhaoezXwdF",
        "colab_type": "code",
        "outputId": "53b72fa1-6636-4a66-f789-a6167e1f29a9",
        "colab": {
          "base_uri": "https://localhost:8080/",
          "height": 102
        }
      },
      "cell_type": "code",
      "source": [
        "c2[\"EMPLOYER_NAME\"]=c2.EMPLOYER_NAME.str.lower()\n",
        "c2.NEW_EMPLOYER[c2[\"EMPLOYER_NAME\"].str.contains('university')]='university'\n",
        "c2['NEW_EMPLOYER']=c2.NEW_EMPLOYER.replace(np.nan,'non-university',regex=True)"
      ],
      "execution_count": 0,
      "outputs": [
        {
          "output_type": "stream",
          "text": [
            "/usr/local/lib/python3.6/dist-packages/ipykernel_launcher.py:2: SettingWithCopyWarning: \n",
            "A value is trying to be set on a copy of a slice from a DataFrame\n",
            "\n",
            "See the caveats in the documentation: http://pandas.pydata.org/pandas-docs/stable/indexing.html#indexing-view-versus-copy\n",
            "  \n"
          ],
          "name": "stderr"
        }
      ]
    },
    {
      "metadata": {
        "id": "7Sadj1JHYLWA",
        "colab_type": "code",
        "outputId": "1f0cef11-12d3-4a2c-e45d-64ddf102aa93",
        "colab": {
          "base_uri": "https://localhost:8080/",
          "height": 68
        }
      },
      "cell_type": "code",
      "source": [
        "c2['NEW_EMPLOYER'].value_counts()"
      ],
      "execution_count": 0,
      "outputs": [
        {
          "output_type": "execute_result",
          "data": {
            "text/plain": [
              "non-university    2775822\n",
              "university         136837\n",
              "Name: NEW_EMPLOYER, dtype: int64"
            ]
          },
          "metadata": {
            "tags": []
          },
          "execution_count": 43
        }
      ]
    },
    {
      "metadata": {
        "id": "PYsWdacFZNKt",
        "colab_type": "code",
        "colab": {}
      },
      "cell_type": "code",
      "source": [
        "c2=c2.drop([\"EMPLOYER_NAME\"],1)"
      ],
      "execution_count": 0,
      "outputs": []
    },
    {
      "metadata": {
        "id": "500zcYC6ZlK4",
        "colab_type": "code",
        "outputId": "c92fc058-37c4-4f52-ae05-efe20a5cba01",
        "colab": {
          "base_uri": "https://localhost:8080/",
          "height": 68
        }
      },
      "cell_type": "code",
      "source": [
        "c2.columns"
      ],
      "execution_count": 0,
      "outputs": [
        {
          "output_type": "execute_result",
          "data": {
            "text/plain": [
              "Index(['SOC_NAME', 'JOB_TITLE', 'FULL_TIME_POSITION', 'WORKSITE',\n",
              "       'NEW_EMPLOYER'],\n",
              "      dtype='object')"
            ]
          },
          "metadata": {
            "tags": []
          },
          "execution_count": 45
        }
      ]
    },
    {
      "metadata": {
        "id": "8nUwoOIKZntd",
        "colab_type": "code",
        "outputId": "0a4d18f4-3be8-482f-d68b-2ee480c2710d",
        "colab": {
          "base_uri": "https://localhost:8080/",
          "height": 68
        }
      },
      "cell_type": "code",
      "source": [
        "c2[\"FULL_TIME_POSITION\"].value_counts()"
      ],
      "execution_count": 0,
      "outputs": [
        {
          "output_type": "execute_result",
          "data": {
            "text/plain": [
              "Y    2501114\n",
              "N     411545\n",
              "Name: FULL_TIME_POSITION, dtype: int64"
            ]
          },
          "metadata": {
            "tags": []
          },
          "execution_count": 46
        }
      ]
    },
    {
      "metadata": {
        "id": "su1VYPMtZtK_",
        "colab_type": "code",
        "outputId": "89a95a19-827d-4f2b-97f6-d4b935641a8d",
        "colab": {
          "base_uri": "https://localhost:8080/",
          "height": 1071
        }
      },
      "cell_type": "code",
      "source": [
        "c2[\"WORKSITE\"].value_counts()"
      ],
      "execution_count": 0,
      "outputs": [
        {
          "output_type": "execute_result",
          "data": {
            "text/plain": [
              "NEW YORK, NEW YORK                        185817\n",
              "HOUSTON, TEXAS                             81205\n",
              "SAN FRANCISCO, CALIFORNIA                  61041\n",
              "ATLANTA, GEORGIA                           50675\n",
              "CHICAGO, ILLINOIS                          49975\n",
              "SAN JOSE, CALIFORNIA                       48786\n",
              "SUNNYVALE, CALIFORNIA                      34032\n",
              "BOSTON, MASSACHUSETTS                      30657\n",
              "DALLAS, TEXAS                              30640\n",
              "REDMOND, WASHINGTON                        30057\n",
              "CHARLOTTE, NORTH CAROLINA                  29627\n",
              "MOUNTAIN VIEW, CALIFORNIA                  28709\n",
              "IRVING, TEXAS                              28495\n",
              "SAN DIEGO, CALIFORNIA                      27827\n",
              "SANTA CLARA, CALIFORNIA                    26959\n",
              "JERSEY CITY, NEW JERSEY                    26365\n",
              "AUSTIN, TEXAS                              26095\n",
              "SEATTLE, WASHINGTON                        26042\n",
              "LOS ANGELES, CALIFORNIA                    25694\n",
              "PHILADELPHIA, PENNSYLVANIA                 23747\n",
              "PHOENIX, ARIZONA                           20945\n",
              "BELLEVUE, WASHINGTON                       20738\n",
              "PLANO, TEXAS                               20218\n",
              "WASHINGTON, DISTRICT OF COLUMBIA           19748\n",
              "ALPHARETTA, GEORGIA                        17796\n",
              "IRVINE, CALIFORNIA                         16499\n",
              "COLUMBUS, OHIO                             16126\n",
              "MIAMI, FLORIDA                             16106\n",
              "PALO ALTO, CALIFORNIA                      16095\n",
              "TAMPA, FLORIDA                             15226\n",
              "                                           ...  \n",
              "RHODE ISLAND, RHODE ISLAND                     1\n",
              "SUITE 399, MINNESOTA                           1\n",
              "WAWATOSA, FLORIDA                              1\n",
              "DUNDEE, MISSISSIPPI                            1\n",
              "APARTMENT G, INDIANA                           1\n",
              "SUNSET BEACH, NORTH CAROLINA                   1\n",
              "BAUXITE, ARKANSAS                              1\n",
              "SUITE 280, CALIFORNIA                          1\n",
              "FARMINGDALE, ARIZONA                           1\n",
              "FT. LAUDERDALEFT. LAUDERDALE, FLORIDA          1\n",
              "CHICKAMAUGA, GEORGIA                           1\n",
              "GLENDALE MILWAUKEE, WISCONSIN                  1\n",
              "77 MASSACHUSETTS AVENUE, MASSACHUSETTS         1\n",
              "BELTSVILLE, MICHIGAN                           1\n",
              "SUITE 3870, FLORIDA                            1\n",
              "BEVERLY HILLS, TEXAS                           1\n",
              "KALONA, IOWA                                   1\n",
              "LIVINGSTON, INDIANA                            1\n",
              "NEW YORK CITY, MICHIGAN                        1\n",
              "TRAIL WILLOW PARK, TEXAS                       1\n",
              "LINDEN, TENNESSEE                              1\n",
              "GEORGETOWN, GEORGIA                            1\n",
              "JARRELL, TEXAS                                 1\n",
              "BRENTWOOD NJ, NEW YORK                         1\n",
              "FAIRMOUNT CITY, PENNSYLVANIA                   1\n",
              "NASHUA, OHIO                                   1\n",
              "COBB, GEORGIA                                  1\n",
              "PLAINFIELD, WISCONSIN                          1\n",
              "CARYCARY, NORTH CAROLINA                       1\n",
              "ELGIN, NORTH DAKOTA                            1\n",
              "Name: WORKSITE, Length: 18189, dtype: int64"
            ]
          },
          "metadata": {
            "tags": []
          },
          "execution_count": 47
        }
      ]
    },
    {
      "metadata": {
        "id": "KI_gUdlwZycr",
        "colab_type": "code",
        "outputId": "f2764119-331e-4821-a856-cbbbef211df7",
        "colab": {
          "base_uri": "https://localhost:8080/",
          "height": 102
        }
      },
      "cell_type": "code",
      "source": [
        "c2['OCCUPATION'] = np.nan\n",
        "c2['SOC_NAME'] = c2['SOC_NAME'].str.lower()\n",
        "c2.OCCUPATION[c2['SOC_NAME'].str.contains('computer','programmer')] = 'computer occupations'\n",
        "c2.OCCUPATION[c2['SOC_NAME'].str.contains('software','web developer')] = 'computer occupations'\n",
        "c2.OCCUPATION[c2['SOC_NAME'].str.contains('database')] = 'computer occupations'\n",
        "c2.OCCUPATION[c2['SOC_NAME'].str.contains('math','statistic')] = 'Mathematical Occupations'\n",
        "c2.OCCUPATION[c2['SOC_NAME'].str.contains('predictive model','stats')] = 'Mathematical Occupations'\n",
        "c2.OCCUPATION[c2['SOC_NAME'].str.contains('teacher','linguist')] = 'Education Occupations'\n",
        "c2.OCCUPATION[c2['SOC_NAME'].str.contains('professor','Teach')] = 'Education Occupations'\n",
        "c2.OCCUPATION[c2['SOC_NAME'].str.contains('school principal')] = 'Education Occupations'\n",
        "c2.OCCUPATION[c2['SOC_NAME'].str.contains('medical','doctor')] = 'Medical Occupations'\n",
        "c2.OCCUPATION[c2['SOC_NAME'].str.contains('physician','dentist')] = 'Medical Occupations'\n",
        "c2.OCCUPATION[c2['SOC_NAME'].str.contains('Health','Physical Therapists')] = 'Medical Occupations'\n",
        "c2.OCCUPATION[c2['SOC_NAME'].str.contains('surgeon','nurse')] = 'Medical Occupations'\n",
        "c2.OCCUPATION[c2['SOC_NAME'].str.contains('psychiatr')] = 'Medical Occupations'\n",
        "c2.OCCUPATION[c2['SOC_NAME'].str.contains('chemist','physicist')] = 'Advance Sciences'\n",
        "c2.OCCUPATION[c2['SOC_NAME'].str.contains('biology','scientist')] = 'Advance Sciences'\n",
        "c2.OCCUPATION[c2['SOC_NAME'].str.contains('biologi','clinical research')] = 'Advance Sciences'\n",
        "c2.OCCUPATION[c2['SOC_NAME'].str.contains('public relation','manage')] = 'Management Occupation'\n",
        "c2.OCCUPATION[c2['SOC_NAME'].str.contains('management','operation')] = 'Management Occupation'\n",
        "c2.OCCUPATION[c2['SOC_NAME'].str.contains('chief','plan')] = 'Management Occupation'\n",
        "c2.OCCUPATION[c2['SOC_NAME'].str.contains('executive')] = 'Management Occupation'\n",
        "c2.OCCUPATION[c2['SOC_NAME'].str.contains('advertis','marketing')] = 'Marketing Occupation'\n",
        "c2.OCCUPATION[c2['SOC_NAME'].str.contains('promotion','market research')] = 'Marketing Occupation'\n",
        "c2.OCCUPATION[c2['SOC_NAME'].str.contains('business','business analyst')] = 'Business Occupation'\n",
        "c2.OCCUPATION[c2['SOC_NAME'].str.contains('business systems analyst')] = 'Business Occupation'\n",
        "c2.OCCUPATION[c2['SOC_NAME'].str.contains('accountant','finance')] = 'Financial Occupation'\n",
        "c2.OCCUPATION[c2['SOC_NAME'].str.contains('financial')] = 'Financial Occupation'\n",
        "c2.OCCUPATION[c2['SOC_NAME'].str.contains('engineer','architect')] = 'Architecture & Engineering'\n",
        "c2.OCCUPATION[c2['SOC_NAME'].str.contains('surveyor','carto')] = 'Architecture & Engineering'\n",
        "c2.OCCUPATION[c2['SOC_NAME'].str.contains('technician','drafter')] = 'Architecture & Engineering'\n",
        "c2.OCCUPATION[c2['SOC_NAME'].str.contains('information security','information tech')] = 'Architecture & Engineering'\n",
        "c2['OCCUPATION']= c2.OCCUPATION.replace(np.nan, 'Others', regex=True)"
      ],
      "execution_count": 0,
      "outputs": [
        {
          "output_type": "stream",
          "text": [
            "/usr/local/lib/python3.6/dist-packages/ipykernel_launcher.py:3: SettingWithCopyWarning: \n",
            "A value is trying to be set on a copy of a slice from a DataFrame\n",
            "\n",
            "See the caveats in the documentation: http://pandas.pydata.org/pandas-docs/stable/indexing.html#indexing-view-versus-copy\n",
            "  This is separate from the ipykernel package so we can avoid doing imports until\n"
          ],
          "name": "stderr"
        }
      ]
    },
    {
      "metadata": {
        "id": "YLiAc17ncQ5S",
        "colab_type": "code",
        "colab": {}
      },
      "cell_type": "code",
      "source": [
        "c2['state'] = c2.WORKSITE.str.split('\\s+').str[-1]"
      ],
      "execution_count": 0,
      "outputs": []
    },
    {
      "metadata": {
        "id": "hbS04sLhchaW",
        "colab_type": "code",
        "outputId": "e3b5521b-d65f-45ab-9217-95d47fce972f",
        "colab": {
          "base_uri": "https://localhost:8080/",
          "height": 221
        }
      },
      "cell_type": "code",
      "source": [
        "c2[\"OCCUPATION\"].value_counts()"
      ],
      "execution_count": 0,
      "outputs": [
        {
          "output_type": "execute_result",
          "data": {
            "text/plain": [
              "computer occupations          1738086\n",
              "Others                         440328\n",
              "Architecture & Engineering     305998\n",
              "Financial Occupation           127271\n",
              "Management Occupation           78545\n",
              "Medical Occupations             73348\n",
              "Education Occupations           70955\n",
              "Advance Sciences                57345\n",
              "Business Occupation             15685\n",
              "Marketing Occupation             3019\n",
              "Mathematical Occupations         2079\n",
              "Name: OCCUPATION, dtype: int64"
            ]
          },
          "metadata": {
            "tags": []
          },
          "execution_count": 50
        }
      ]
    },
    {
      "metadata": {
        "id": "ARM_toX-ck6k",
        "colab_type": "code",
        "outputId": "57b6c6b9-efe0-4b2b-9a1e-35961eed1fab",
        "colab": {
          "base_uri": "https://localhost:8080/",
          "height": 884
        }
      },
      "cell_type": "code",
      "source": [
        "c2['state'].value_counts()"
      ],
      "execution_count": 0,
      "outputs": [
        {
          "output_type": "execute_result",
          "data": {
            "text/plain": [
              "CALIFORNIA       542670\n",
              "TEXAS            285418\n",
              "YORK             282273\n",
              "JERSEY           207650\n",
              "ILLINOIS         156236\n",
              "MASSACHUSETTS    113033\n",
              "PENNSYLVANIA     107262\n",
              "FLORIDA          102703\n",
              "WASHINGTON       100127\n",
              "GEORGIA          100029\n",
              "VIRGINIA          90466\n",
              "CAROLINA          90050\n",
              "MICHIGAN          80525\n",
              "OHIO              74489\n",
              "MARYLAND          54457\n",
              "CONNECTICUT       48918\n",
              "MINNESOTA         47419\n",
              "ARIZONA           40798\n",
              "MISSOURI          33718\n",
              "WISCONSIN         31772\n",
              "COLORADO          30972\n",
              "INDIANA           29321\n",
              "TENNESSEE         26881\n",
              "OREGON            23000\n",
              "COLUMBIA          22008\n",
              "DELAWARE          17708\n",
              "IOWA              16234\n",
              "ARKANSAS          14342\n",
              "KANSAS            13311\n",
              "UTAH              12656\n",
              "KENTUCKY          12296\n",
              "ISLAND            11457\n",
              "LOUISIANA         11060\n",
              "OKLAHOMA          10237\n",
              "ALABAMA            9910\n",
              "HAMPSHIRE          9603\n",
              "NEBRASKA           9009\n",
              "NEVADA             7152\n",
              "MEXICO             5330\n",
              "DAKOTA             4644\n",
              "MISSISSIPPI        4099\n",
              "IDAHO              4038\n",
              "MAINE              3812\n",
              "HAWAII             3645\n",
              "NA                 3451\n",
              "VERMONT            1877\n",
              "RICO               1419\n",
              "ALASKA             1363\n",
              "MONTANA             951\n",
              "WYOMING             860\n",
              "Name: state, dtype: int64"
            ]
          },
          "metadata": {
            "tags": []
          },
          "execution_count": 51
        }
      ]
    },
    {
      "metadata": {
        "id": "S3N9DLNjcwdi",
        "colab_type": "code",
        "outputId": "dd45196b-930a-4abe-8ba4-f2be2a2bc783",
        "colab": {
          "base_uri": "https://localhost:8080/",
          "height": 68
        }
      },
      "cell_type": "code",
      "source": [
        "c2.columns"
      ],
      "execution_count": 0,
      "outputs": [
        {
          "output_type": "execute_result",
          "data": {
            "text/plain": [
              "Index(['SOC_NAME', 'JOB_TITLE', 'FULL_TIME_POSITION', 'WORKSITE',\n",
              "       'NEW_EMPLOYER', 'OCCUPATION', 'state'],\n",
              "      dtype='object')"
            ]
          },
          "metadata": {
            "tags": []
          },
          "execution_count": 52
        }
      ]
    },
    {
      "metadata": {
        "id": "UmyEIgDBc0nW",
        "colab_type": "code",
        "colab": {}
      },
      "cell_type": "code",
      "source": [
        "c2=c2.drop([\"JOB_TITLE\"],1)"
      ],
      "execution_count": 0,
      "outputs": []
    },
    {
      "metadata": {
        "id": "Mq3F_JaUdF91",
        "colab_type": "code",
        "colab": {}
      },
      "cell_type": "code",
      "source": [
        "c2=c2.drop([\"SOC_NAME\",\"WORKSITE\"],1)"
      ],
      "execution_count": 0,
      "outputs": []
    },
    {
      "metadata": {
        "id": "gkb0lbLTd8yp",
        "colab_type": "code",
        "colab": {}
      },
      "cell_type": "code",
      "source": [
        "c2=pd.get_dummies(c2)"
      ],
      "execution_count": 0,
      "outputs": []
    },
    {
      "metadata": {
        "id": "xKtGRIrIeEX7",
        "colab_type": "code",
        "outputId": "724037e8-fcca-4739-ccd6-2d33048324a0",
        "colab": {
          "base_uri": "https://localhost:8080/",
          "height": 270
        }
      },
      "cell_type": "code",
      "source": [
        "c2.head()"
      ],
      "execution_count": 0,
      "outputs": [
        {
          "output_type": "execute_result",
          "data": {
            "text/html": [
              "<div>\n",
              "<style scoped>\n",
              "    .dataframe tbody tr th:only-of-type {\n",
              "        vertical-align: middle;\n",
              "    }\n",
              "\n",
              "    .dataframe tbody tr th {\n",
              "        vertical-align: top;\n",
              "    }\n",
              "\n",
              "    .dataframe thead th {\n",
              "        text-align: right;\n",
              "    }\n",
              "</style>\n",
              "<table border=\"1\" class=\"dataframe\">\n",
              "  <thead>\n",
              "    <tr style=\"text-align: right;\">\n",
              "      <th></th>\n",
              "      <th>FULL_TIME_POSITION_N</th>\n",
              "      <th>FULL_TIME_POSITION_Y</th>\n",
              "      <th>NEW_EMPLOYER_non-university</th>\n",
              "      <th>NEW_EMPLOYER_university</th>\n",
              "      <th>OCCUPATION_Advance Sciences</th>\n",
              "      <th>OCCUPATION_Architecture &amp; Engineering</th>\n",
              "      <th>OCCUPATION_Business Occupation</th>\n",
              "      <th>OCCUPATION_Education Occupations</th>\n",
              "      <th>OCCUPATION_Financial Occupation</th>\n",
              "      <th>OCCUPATION_Management Occupation</th>\n",
              "      <th>...</th>\n",
              "      <th>state_RICO</th>\n",
              "      <th>state_TENNESSEE</th>\n",
              "      <th>state_TEXAS</th>\n",
              "      <th>state_UTAH</th>\n",
              "      <th>state_VERMONT</th>\n",
              "      <th>state_VIRGINIA</th>\n",
              "      <th>state_WASHINGTON</th>\n",
              "      <th>state_WISCONSIN</th>\n",
              "      <th>state_WYOMING</th>\n",
              "      <th>state_YORK</th>\n",
              "    </tr>\n",
              "  </thead>\n",
              "  <tbody>\n",
              "    <tr>\n",
              "      <th>0</th>\n",
              "      <td>1</td>\n",
              "      <td>0</td>\n",
              "      <td>0</td>\n",
              "      <td>1</td>\n",
              "      <td>1</td>\n",
              "      <td>0</td>\n",
              "      <td>0</td>\n",
              "      <td>0</td>\n",
              "      <td>0</td>\n",
              "      <td>0</td>\n",
              "      <td>...</td>\n",
              "      <td>0</td>\n",
              "      <td>0</td>\n",
              "      <td>0</td>\n",
              "      <td>0</td>\n",
              "      <td>0</td>\n",
              "      <td>0</td>\n",
              "      <td>0</td>\n",
              "      <td>0</td>\n",
              "      <td>0</td>\n",
              "      <td>0</td>\n",
              "    </tr>\n",
              "    <tr>\n",
              "      <th>1</th>\n",
              "      <td>0</td>\n",
              "      <td>1</td>\n",
              "      <td>1</td>\n",
              "      <td>0</td>\n",
              "      <td>0</td>\n",
              "      <td>0</td>\n",
              "      <td>0</td>\n",
              "      <td>0</td>\n",
              "      <td>0</td>\n",
              "      <td>1</td>\n",
              "      <td>...</td>\n",
              "      <td>0</td>\n",
              "      <td>0</td>\n",
              "      <td>1</td>\n",
              "      <td>0</td>\n",
              "      <td>0</td>\n",
              "      <td>0</td>\n",
              "      <td>0</td>\n",
              "      <td>0</td>\n",
              "      <td>0</td>\n",
              "      <td>0</td>\n",
              "    </tr>\n",
              "    <tr>\n",
              "      <th>2</th>\n",
              "      <td>0</td>\n",
              "      <td>1</td>\n",
              "      <td>1</td>\n",
              "      <td>0</td>\n",
              "      <td>0</td>\n",
              "      <td>0</td>\n",
              "      <td>0</td>\n",
              "      <td>0</td>\n",
              "      <td>0</td>\n",
              "      <td>1</td>\n",
              "      <td>...</td>\n",
              "      <td>0</td>\n",
              "      <td>0</td>\n",
              "      <td>0</td>\n",
              "      <td>0</td>\n",
              "      <td>0</td>\n",
              "      <td>0</td>\n",
              "      <td>0</td>\n",
              "      <td>0</td>\n",
              "      <td>0</td>\n",
              "      <td>0</td>\n",
              "    </tr>\n",
              "    <tr>\n",
              "      <th>3</th>\n",
              "      <td>0</td>\n",
              "      <td>1</td>\n",
              "      <td>1</td>\n",
              "      <td>0</td>\n",
              "      <td>0</td>\n",
              "      <td>0</td>\n",
              "      <td>0</td>\n",
              "      <td>0</td>\n",
              "      <td>0</td>\n",
              "      <td>1</td>\n",
              "      <td>...</td>\n",
              "      <td>0</td>\n",
              "      <td>0</td>\n",
              "      <td>0</td>\n",
              "      <td>0</td>\n",
              "      <td>0</td>\n",
              "      <td>0</td>\n",
              "      <td>0</td>\n",
              "      <td>0</td>\n",
              "      <td>0</td>\n",
              "      <td>0</td>\n",
              "    </tr>\n",
              "    <tr>\n",
              "      <th>5</th>\n",
              "      <td>0</td>\n",
              "      <td>1</td>\n",
              "      <td>1</td>\n",
              "      <td>0</td>\n",
              "      <td>0</td>\n",
              "      <td>0</td>\n",
              "      <td>0</td>\n",
              "      <td>0</td>\n",
              "      <td>0</td>\n",
              "      <td>1</td>\n",
              "      <td>...</td>\n",
              "      <td>0</td>\n",
              "      <td>0</td>\n",
              "      <td>0</td>\n",
              "      <td>0</td>\n",
              "      <td>0</td>\n",
              "      <td>0</td>\n",
              "      <td>0</td>\n",
              "      <td>0</td>\n",
              "      <td>0</td>\n",
              "      <td>0</td>\n",
              "    </tr>\n",
              "  </tbody>\n",
              "</table>\n",
              "<p>5 rows × 65 columns</p>\n",
              "</div>"
            ],
            "text/plain": [
              "   FULL_TIME_POSITION_N  FULL_TIME_POSITION_Y  NEW_EMPLOYER_non-university  \\\n",
              "0                     1                     0                            0   \n",
              "1                     0                     1                            1   \n",
              "2                     0                     1                            1   \n",
              "3                     0                     1                            1   \n",
              "5                     0                     1                            1   \n",
              "\n",
              "   NEW_EMPLOYER_university  OCCUPATION_Advance Sciences  \\\n",
              "0                        1                            1   \n",
              "1                        0                            0   \n",
              "2                        0                            0   \n",
              "3                        0                            0   \n",
              "5                        0                            0   \n",
              "\n",
              "   OCCUPATION_Architecture & Engineering  OCCUPATION_Business Occupation  \\\n",
              "0                                      0                               0   \n",
              "1                                      0                               0   \n",
              "2                                      0                               0   \n",
              "3                                      0                               0   \n",
              "5                                      0                               0   \n",
              "\n",
              "   OCCUPATION_Education Occupations  OCCUPATION_Financial Occupation  \\\n",
              "0                                 0                                0   \n",
              "1                                 0                                0   \n",
              "2                                 0                                0   \n",
              "3                                 0                                0   \n",
              "5                                 0                                0   \n",
              "\n",
              "   OCCUPATION_Management Occupation     ...      state_RICO  state_TENNESSEE  \\\n",
              "0                                 0     ...               0                0   \n",
              "1                                 1     ...               0                0   \n",
              "2                                 1     ...               0                0   \n",
              "3                                 1     ...               0                0   \n",
              "5                                 1     ...               0                0   \n",
              "\n",
              "   state_TEXAS  state_UTAH  state_VERMONT  state_VIRGINIA  state_WASHINGTON  \\\n",
              "0            0           0              0               0                 0   \n",
              "1            1           0              0               0                 0   \n",
              "2            0           0              0               0                 0   \n",
              "3            0           0              0               0                 0   \n",
              "5            0           0              0               0                 0   \n",
              "\n",
              "   state_WISCONSIN  state_WYOMING  state_YORK  \n",
              "0                0              0           0  \n",
              "1                0              0           0  \n",
              "2                0              0           0  \n",
              "3                0              0           0  \n",
              "5                0              0           0  \n",
              "\n",
              "[5 rows x 65 columns]"
            ]
          },
          "metadata": {
            "tags": []
          },
          "execution_count": 56
        }
      ]
    },
    {
      "metadata": {
        "id": "PQzLMvqbeGfq",
        "colab_type": "code",
        "colab": {}
      },
      "cell_type": "code",
      "source": [
        "df3=pd.concat([numerical_2,c2],1)"
      ],
      "execution_count": 0,
      "outputs": []
    },
    {
      "metadata": {
        "id": "ofVx92XfePqf",
        "colab_type": "code",
        "outputId": "fcfb97a8-34b7-4fc2-e0cd-07ac89ebfd4f",
        "colab": {
          "base_uri": "https://localhost:8080/",
          "height": 34
        }
      },
      "cell_type": "code",
      "source": [
        "df3.shape"
      ],
      "execution_count": 0,
      "outputs": [
        {
          "output_type": "execute_result",
          "data": {
            "text/plain": [
              "(2912659, 70)"
            ]
          },
          "metadata": {
            "tags": []
          },
          "execution_count": 70
        }
      ]
    },
    {
      "metadata": {
        "id": "BV6K6TnFeQ_9",
        "colab_type": "code",
        "colab": {}
      },
      "cell_type": "code",
      "source": [
        "X=df3.drop([\"case_status_now\",\"lon\",\"lat\"],1)\n",
        "y=df3[\"case_status_now\"]"
      ],
      "execution_count": 0,
      "outputs": []
    },
    {
      "metadata": {
        "id": "97IKQvRKfM1y",
        "colab_type": "code",
        "outputId": "3f5c59f0-cf48-4fd4-e465-dddd15bd2bce",
        "colab": {
          "base_uri": "https://localhost:8080/",
          "height": 71
        }
      },
      "cell_type": "code",
      "source": [
        "from sklearn.preprocessing import MinMaxScaler\n",
        "mms=MinMaxScaler()\n",
        "cols=list(X)\n",
        "X=mms.fit_transform(X)\n",
        "X=pd.DataFrame(X,columns=cols)"
      ],
      "execution_count": 0,
      "outputs": [
        {
          "output_type": "stream",
          "text": [
            "/usr/local/lib/python3.6/dist-packages/sklearn/preprocessing/data.py:334: DataConversionWarning: Data with input dtype uint8, float64 were all converted to float64 by MinMaxScaler.\n",
            "  return self.partial_fit(X, y)\n"
          ],
          "name": "stderr"
        }
      ]
    },
    {
      "metadata": {
        "colab_type": "code",
        "id": "xQKbQPxQp1S7",
        "colab": {}
      },
      "cell_type": "code",
      "source": [
        "from sklearn.model_selection import train_test_split as tts\n",
        "x_train,x_test,y_train,y_test=tts(X,y,test_size=0.25,random_state=0)"
      ],
      "execution_count": 0,
      "outputs": []
    },
    {
      "metadata": {
        "id": "CQiqEVAhgPJH",
        "colab_type": "code",
        "colab": {}
      },
      "cell_type": "code",
      "source": [
        "from sklearn.linear_model import LogisticRegression\n",
        "logreg=LogisticRegression()"
      ],
      "execution_count": 0,
      "outputs": []
    },
    {
      "metadata": {
        "id": "sdu8v9_hgcc2",
        "colab_type": "code",
        "outputId": "ca7e04fc-1f12-4b37-b618-bd690513b889",
        "colab": {
          "base_uri": "https://localhost:8080/",
          "height": 139
        }
      },
      "cell_type": "code",
      "source": [
        "logreg.fit(x_train,y_train)"
      ],
      "execution_count": 0,
      "outputs": [
        {
          "output_type": "stream",
          "text": [
            "/usr/local/lib/python3.6/dist-packages/sklearn/linear_model/logistic.py:433: FutureWarning: Default solver will be changed to 'lbfgs' in 0.22. Specify a solver to silence this warning.\n",
            "  FutureWarning)\n"
          ],
          "name": "stderr"
        },
        {
          "output_type": "execute_result",
          "data": {
            "text/plain": [
              "LogisticRegression(C=1.0, class_weight=None, dual=False, fit_intercept=True,\n",
              "          intercept_scaling=1, max_iter=100, multi_class='warn',\n",
              "          n_jobs=None, penalty='l2', random_state=None, solver='warn',\n",
              "          tol=0.0001, verbose=0, warm_start=False)"
            ]
          },
          "metadata": {
            "tags": []
          },
          "execution_count": 80
        }
      ]
    },
    {
      "metadata": {
        "id": "DNyiS_5ms9Vt",
        "colab_type": "code",
        "colab": {}
      },
      "cell_type": "code",
      "source": [
        "y_pred=logreg.predict(x_test)"
      ],
      "execution_count": 0,
      "outputs": []
    },
    {
      "metadata": {
        "id": "eWpxwhxwuBT7",
        "colab_type": "code",
        "colab": {}
      },
      "cell_type": "code",
      "source": [
        "from sklearn.metrics import confusion_matrix,accuracy_score\n"
      ],
      "execution_count": 0,
      "outputs": []
    },
    {
      "metadata": {
        "id": "IAZXa2sgvcCv",
        "colab_type": "code",
        "outputId": "d6c7e97e-3075-4e16-c59a-261452150db7",
        "colab": {
          "base_uri": "https://localhost:8080/",
          "height": 51
        }
      },
      "cell_type": "code",
      "source": [
        "confusion_matrix(y_test,y_pred)"
      ],
      "execution_count": 0,
      "outputs": [
        {
          "output_type": "execute_result",
          "data": {
            "text/plain": [
              "array([[     2,  23516],\n",
              "       [     0, 704647]])"
            ]
          },
          "metadata": {
            "tags": []
          },
          "execution_count": 84
        }
      ]
    },
    {
      "metadata": {
        "id": "Sygrnimcvhff",
        "colab_type": "code",
        "outputId": "202e1d8f-edd6-4b8d-94b3-1133d7931dbd",
        "colab": {
          "base_uri": "https://localhost:8080/",
          "height": 34
        }
      },
      "cell_type": "code",
      "source": [
        "accuracy_score(y_test,y_pred)"
      ],
      "execution_count": 0,
      "outputs": [
        {
          "output_type": "execute_result",
          "data": {
            "text/plain": [
              "0.9677051217787177"
            ]
          },
          "metadata": {
            "tags": []
          },
          "execution_count": 87
        }
      ]
    },
    {
      "metadata": {
        "id": "-ZTLHwW9ynuR",
        "colab_type": "code",
        "colab": {}
      },
      "cell_type": "code",
      "source": [
        ""
      ],
      "execution_count": 0,
      "outputs": []
    },
    {
      "metadata": {
        "id": "lWqug4JO1HIC",
        "colab_type": "text"
      },
      "cell_type": "markdown",
      "source": [
        ""
      ]
    }
  ]
}