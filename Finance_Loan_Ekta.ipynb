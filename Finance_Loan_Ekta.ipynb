{
  "nbformat": 4,
  "nbformat_minor": 0,
  "metadata": {
    "colab": {
      "name": "Finance_Loan_Ekta.ipynb",
      "version": "0.3.2",
      "provenance": [],
      "collapsed_sections": [],
      "include_colab_link": true
    },
    "kernelspec": {
      "display_name": "Python 3",
      "language": "python",
      "name": "python3"
    }
  },
  "cells": [
    {
      "cell_type": "markdown",
      "metadata": {
        "id": "view-in-github",
        "colab_type": "text"
      },
      "source": [
        "<a href=\"https://colab.research.google.com/github/Ekta-Shah/ML-practise/blob/master/Finance_Loan_Ekta.ipynb\" target=\"_parent\"><img src=\"https://colab.research.google.com/assets/colab-badge.svg\" alt=\"Open In Colab\"/></a>"
      ]
    },
    {
      "metadata": {
        "id": "Jz5YyxD4FVF2",
        "colab_type": "code",
        "colab": {}
      },
      "cell_type": "code",
      "source": [
        "+import pandas as pd"
      ],
      "execution_count": 0,
      "outputs": []
    },
    {
      "metadata": {
        "id": "gEJvVnmiFVGA",
        "colab_type": "code",
        "colab": {}
      },
      "cell_type": "code",
      "source": [
        "import numpy as np"
      ],
      "execution_count": 0,
      "outputs": []
    },
    {
      "metadata": {
        "id": "781LQxacSXnV",
        "colab_type": "code",
        "outputId": "5f8aaefe-134b-4bfa-90b7-3e65ac627981",
        "colab": {
          "base_uri": "https://localhost:8080/",
          "height": 52
        }
      },
      "cell_type": "code",
      "source": [
        "#Using file from Google Drive\n",
        "!pip install -U -q PyDrive\n",
        "from pydrive.auth import GoogleAuth\n",
        "from pydrive.drive import GoogleDrive\n",
        "from google.colab import auth\n",
        "from oauth2client.client import GoogleCredentials\n",
        "# Authenticate and create the PyDrive client.\n",
        "auth.authenticate_user()\n",
        "gauth = GoogleAuth()\n",
        "gauth.credentials = GoogleCredentials.get_application_default()\n",
        "drive = GoogleDrive(gauth)"
      ],
      "execution_count": 0,
      "outputs": [
        {
          "output_type": "stream",
          "text": [
            "\u001b[?25l\r\u001b[K    1% |▎                               | 10kB 22.2MB/s eta 0:00:01\r\u001b[K    2% |▋                               | 20kB 1.8MB/s eta 0:00:01\r\u001b[K    3% |█                               | 30kB 2.6MB/s eta 0:00:01\r\u001b[K    4% |█▎                              | 40kB 1.7MB/s eta 0:00:01\r\u001b[K    5% |█▋                              | 51kB 2.1MB/s eta 0:00:01\r\u001b[K    6% |██                              | 61kB 2.5MB/s eta 0:00:01\r\u001b[K    7% |██▎                             | 71kB 2.9MB/s eta 0:00:01\r\u001b[K    8% |██▋                             | 81kB 3.3MB/s eta 0:00:01\r\u001b[K    9% |███                             | 92kB 3.7MB/s eta 0:00:01\r\u001b[K    10% |███▎                            | 102kB 2.8MB/s eta 0:00:01\r\u001b[K    11% |███▋                            | 112kB 2.8MB/s eta 0:00:01\r\u001b[K    12% |████                            | 122kB 4.0MB/s eta 0:00:01\r\u001b[K    13% |████▎                           | 133kB 4.0MB/s eta 0:00:01\r\u001b[K    14% |████▋                           | 143kB 7.6MB/s eta 0:00:01\r\u001b[K    15% |█████                           | 153kB 7.7MB/s eta 0:00:01\r\u001b[K    16% |█████▎                          | 163kB 7.7MB/s eta 0:00:01\r\u001b[K    17% |█████▋                          | 174kB 7.5MB/s eta 0:00:01\r\u001b[K    18% |██████                          | 184kB 7.6MB/s eta 0:00:01\r\u001b[K    19% |██████▎                         | 194kB 7.6MB/s eta 0:00:01\r\u001b[K    20% |██████▋                         | 204kB 41.1MB/s eta 0:00:01\r\u001b[K    21% |███████                         | 215kB 8.4MB/s eta 0:00:01\r\u001b[K    22% |███████▎                        | 225kB 8.3MB/s eta 0:00:01\r\u001b[K    23% |███████▋                        | 235kB 8.4MB/s eta 0:00:01\r\u001b[K    24% |████████                        | 245kB 8.4MB/s eta 0:00:01\r\u001b[K    25% |████████▎                       | 256kB 8.3MB/s eta 0:00:01\r\u001b[K    26% |████████▋                       | 266kB 8.1MB/s eta 0:00:01\r\u001b[K    27% |█████████                       | 276kB 8.3MB/s eta 0:00:01\r\u001b[K    29% |█████████▎                      | 286kB 8.3MB/s eta 0:00:01\r\u001b[K    30% |█████████▋                      | 296kB 8.3MB/s eta 0:00:01\r\u001b[K    31% |██████████                      | 307kB 8.4MB/s eta 0:00:01\r\u001b[K    32% |██████████▎                     | 317kB 45.7MB/s eta 0:00:01\r\u001b[K    33% |██████████▋                     | 327kB 48.9MB/s eta 0:00:01\r\u001b[K    34% |███████████                     | 337kB 50.0MB/s eta 0:00:01\r\u001b[K    35% |███████████▎                    | 348kB 44.2MB/s eta 0:00:01\r\u001b[K    36% |███████████▋                    | 358kB 46.6MB/s eta 0:00:01\r\u001b[K    37% |████████████                    | 368kB 54.0MB/s eta 0:00:01\r\u001b[K    38% |████████████▎                   | 378kB 55.0MB/s eta 0:00:01\r\u001b[K    39% |████████████▋                   | 389kB 55.6MB/s eta 0:00:01\r\u001b[K    40% |█████████████                   | 399kB 9.6MB/s eta 0:00:01\r\u001b[K    41% |█████████████▎                  | 409kB 9.3MB/s eta 0:00:01\r\u001b[K    42% |█████████████▋                  | 419kB 9.2MB/s eta 0:00:01\r\u001b[K    43% |██████████████                  | 430kB 9.3MB/s eta 0:00:01\r\u001b[K    44% |██████████████▎                 | 440kB 9.3MB/s eta 0:00:01\r\u001b[K    45% |██████████████▋                 | 450kB 9.3MB/s eta 0:00:01\r\u001b[K    46% |███████████████                 | 460kB 9.3MB/s eta 0:00:01\r\u001b[K    47% |███████████████▎                | 471kB 9.3MB/s eta 0:00:01\r\u001b[K    48% |███████████████▋                | 481kB 9.3MB/s eta 0:00:01\r\u001b[K    49% |████████████████                | 491kB 9.3MB/s eta 0:00:01\r\u001b[K    50% |████████████████▎               | 501kB 44.4MB/s eta 0:00:01\r\u001b[K    51% |████████████████▋               | 512kB 48.6MB/s eta 0:00:01\r\u001b[K    52% |█████████████████               | 522kB 49.9MB/s eta 0:00:01\r\u001b[K    53% |█████████████████▎              | 532kB 50.0MB/s eta 0:00:01\r\u001b[K    54% |█████████████████▋              | 542kB 50.2MB/s eta 0:00:01\r\u001b[K    55% |██████████████████              | 552kB 57.1MB/s eta 0:00:01\r\u001b[K    57% |██████████████████▎             | 563kB 56.5MB/s eta 0:00:01\r\u001b[K    58% |██████████████████▋             | 573kB 57.4MB/s eta 0:00:01\r\u001b[K    59% |███████████████████             | 583kB 57.3MB/s eta 0:00:01\r\u001b[K    60% |███████████████████▎            | 593kB 57.3MB/s eta 0:00:01\r\u001b[K    61% |███████████████████▋            | 604kB 57.5MB/s eta 0:00:01\r\u001b[K    62% |████████████████████            | 614kB 62.1MB/s eta 0:00:01\r\u001b[K    63% |████████████████████▎           | 624kB 61.1MB/s eta 0:00:01\r\u001b[K    64% |████████████████████▋           | 634kB 61.1MB/s eta 0:00:01\r\u001b[K    65% |█████████████████████           | 645kB 60.4MB/s eta 0:00:01\r\u001b[K    66% |█████████████████████▎          | 655kB 59.6MB/s eta 0:00:01\r\u001b[K    67% |█████████████████████▋          | 665kB 45.6MB/s eta 0:00:01\r\u001b[K    68% |██████████████████████          | 675kB 45.0MB/s eta 0:00:01\r\u001b[K    69% |██████████████████████▎         | 686kB 45.4MB/s eta 0:00:01\r\u001b[K    70% |██████████████████████▋         | 696kB 45.6MB/s eta 0:00:01\r\u001b[K    71% |███████████████████████         | 706kB 45.5MB/s eta 0:00:01\r\u001b[K    72% |███████████████████████▎        | 716kB 46.5MB/s eta 0:00:01\r\u001b[K    73% |███████████████████████▋        | 727kB 47.6MB/s eta 0:00:01\r\u001b[K    74% |████████████████████████        | 737kB 47.2MB/s eta 0:00:01\r\u001b[K    75% |████████████████████████▎       | 747kB 47.7MB/s eta 0:00:01\r\u001b[K    76% |████████████████████████▋       | 757kB 13.7MB/s eta 0:00:01\r\u001b[K    77% |████████████████████████▉       | 768kB 14.5MB/s eta 0:00:01\r\u001b[K    78% |█████████████████████████▏      | 778kB 14.5MB/s eta 0:00:01\r\u001b[K    79% |█████████████████████████▌      | 788kB 14.4MB/s eta 0:00:01\r\u001b[K    80% |█████████████████████████▉      | 798kB 14.3MB/s eta 0:00:01\r\u001b[K    81% |██████████████████████████▏     | 808kB 14.3MB/s eta 0:00:01\r\u001b[K    82% |██████████████████████████▌     | 819kB 14.3MB/s eta 0:00:01\r\u001b[K    83% |██████████████████████████▉     | 829kB 14.3MB/s eta 0:00:01\r\u001b[K    85% |███████████████████████████▏    | 839kB 14.3MB/s eta 0:00:01\r\u001b[K    86% |███████████████████████████▌    | 849kB 14.3MB/s eta 0:00:01\r\u001b[K    87% |███████████████████████████▉    | 860kB 47.9MB/s eta 0:00:01\r\u001b[K    88% |████████████████████████████▏   | 870kB 51.0MB/s eta 0:00:01\r\u001b[K    89% |████████████████████████████▌   | 880kB 52.3MB/s eta 0:00:01\r\u001b[K    90% |████████████████████████████▉   | 890kB 53.1MB/s eta 0:00:01\r\u001b[K    91% |█████████████████████████████▏  | 901kB 53.7MB/s eta 0:00:01\r\u001b[K    92% |█████████████████████████████▌  | 911kB 53.7MB/s eta 0:00:01\r\u001b[K    93% |█████████████████████████████▉  | 921kB 53.9MB/s eta 0:00:01\r\u001b[K    94% |██████████████████████████████▏ | 931kB 53.6MB/s eta 0:00:01\r\u001b[K    95% |██████████████████████████████▌ | 942kB 54.4MB/s eta 0:00:01\r\u001b[K    96% |██████████████████████████████▉ | 952kB 55.1MB/s eta 0:00:01\r\u001b[K    97% |███████████████████████████████▏| 962kB 66.2MB/s eta 0:00:01\r\u001b[K    98% |███████████████████████████████▌| 972kB 65.1MB/s eta 0:00:01\r\u001b[K    99% |███████████████████████████████▉| 983kB 63.1MB/s eta 0:00:01\r\u001b[K    100% |████████████████████████████████| 993kB 20.7MB/s \n",
            "\u001b[?25h  Building wheel for PyDrive (setup.py) ... \u001b[?25ldone\n",
            "\u001b[?25h"
          ],
          "name": "stdout"
        }
      ]
    },
    {
      "metadata": {
        "id": "3Z1movpmSq1K",
        "colab_type": "code",
        "outputId": "c8328080-3e05-4f42-f4e7-457f80c9ae7b",
        "colab": {
          "base_uri": "https://localhost:8080/",
          "height": 90
        }
      },
      "cell_type": "code",
      "source": [
        "link = \"https://drive.google.com/open?id=1DynCfU4LHpNT4U_hxFTm4f_kTwgTkMxT\"\n",
        "fluff, id = link.split('=')\n",
        "print (id) # Verify that you have everything after '='\n",
        "downloaded = drive.CreateFile({'id':id}) \n",
        "downloaded.GetContentFile('loan.csv')  \n",
        "df = pd.read_csv('loan.csv')"
      ],
      "execution_count": 0,
      "outputs": [
        {
          "output_type": "stream",
          "text": [
            "1DynCfU4LHpNT4U_hxFTm4f_kTwgTkMxT\n"
          ],
          "name": "stdout"
        },
        {
          "output_type": "stream",
          "text": [
            "/usr/local/lib/python3.6/dist-packages/IPython/core/interactiveshell.py:2718: DtypeWarning: Columns (19,55) have mixed types. Specify dtype option on import or set low_memory=False.\n",
            "  interactivity=interactivity, compiler=compiler, result=result)\n"
          ],
          "name": "stderr"
        }
      ]
    },
    {
      "metadata": {
        "id": "wnDrpsNrFVGP",
        "colab_type": "code",
        "outputId": "4593dc42-fd89-4fea-d3fe-9fee09b9a6ac",
        "colab": {
          "base_uri": "https://localhost:8080/",
          "height": 330
        }
      },
      "cell_type": "code",
      "source": [
        "df.head()"
      ],
      "execution_count": 0,
      "outputs": [
        {
          "output_type": "execute_result",
          "data": {
            "text/html": [
              "<div>\n",
              "<style scoped>\n",
              "    .dataframe tbody tr th:only-of-type {\n",
              "        vertical-align: middle;\n",
              "    }\n",
              "\n",
              "    .dataframe tbody tr th {\n",
              "        vertical-align: top;\n",
              "    }\n",
              "\n",
              "    .dataframe thead th {\n",
              "        text-align: right;\n",
              "    }\n",
              "</style>\n",
              "<table border=\"1\" class=\"dataframe\">\n",
              "  <thead>\n",
              "    <tr style=\"text-align: right;\">\n",
              "      <th></th>\n",
              "      <th>id</th>\n",
              "      <th>member_id</th>\n",
              "      <th>loan_amnt</th>\n",
              "      <th>funded_amnt</th>\n",
              "      <th>funded_amnt_inv</th>\n",
              "      <th>term</th>\n",
              "      <th>int_rate</th>\n",
              "      <th>installment</th>\n",
              "      <th>grade</th>\n",
              "      <th>sub_grade</th>\n",
              "      <th>...</th>\n",
              "      <th>total_bal_il</th>\n",
              "      <th>il_util</th>\n",
              "      <th>open_rv_12m</th>\n",
              "      <th>open_rv_24m</th>\n",
              "      <th>max_bal_bc</th>\n",
              "      <th>all_util</th>\n",
              "      <th>total_rev_hi_lim</th>\n",
              "      <th>inq_fi</th>\n",
              "      <th>total_cu_tl</th>\n",
              "      <th>inq_last_12m</th>\n",
              "    </tr>\n",
              "  </thead>\n",
              "  <tbody>\n",
              "    <tr>\n",
              "      <th>0</th>\n",
              "      <td>1077501</td>\n",
              "      <td>1296599</td>\n",
              "      <td>5000.0</td>\n",
              "      <td>5000.0</td>\n",
              "      <td>4975.0</td>\n",
              "      <td>36 months</td>\n",
              "      <td>10.65</td>\n",
              "      <td>162.87</td>\n",
              "      <td>B</td>\n",
              "      <td>B2</td>\n",
              "      <td>...</td>\n",
              "      <td>NaN</td>\n",
              "      <td>NaN</td>\n",
              "      <td>NaN</td>\n",
              "      <td>NaN</td>\n",
              "      <td>NaN</td>\n",
              "      <td>NaN</td>\n",
              "      <td>NaN</td>\n",
              "      <td>NaN</td>\n",
              "      <td>NaN</td>\n",
              "      <td>NaN</td>\n",
              "    </tr>\n",
              "    <tr>\n",
              "      <th>1</th>\n",
              "      <td>1077430</td>\n",
              "      <td>1314167</td>\n",
              "      <td>2500.0</td>\n",
              "      <td>2500.0</td>\n",
              "      <td>2500.0</td>\n",
              "      <td>60 months</td>\n",
              "      <td>15.27</td>\n",
              "      <td>59.83</td>\n",
              "      <td>C</td>\n",
              "      <td>C4</td>\n",
              "      <td>...</td>\n",
              "      <td>NaN</td>\n",
              "      <td>NaN</td>\n",
              "      <td>NaN</td>\n",
              "      <td>NaN</td>\n",
              "      <td>NaN</td>\n",
              "      <td>NaN</td>\n",
              "      <td>NaN</td>\n",
              "      <td>NaN</td>\n",
              "      <td>NaN</td>\n",
              "      <td>NaN</td>\n",
              "    </tr>\n",
              "    <tr>\n",
              "      <th>2</th>\n",
              "      <td>1077175</td>\n",
              "      <td>1313524</td>\n",
              "      <td>2400.0</td>\n",
              "      <td>2400.0</td>\n",
              "      <td>2400.0</td>\n",
              "      <td>36 months</td>\n",
              "      <td>15.96</td>\n",
              "      <td>84.33</td>\n",
              "      <td>C</td>\n",
              "      <td>C5</td>\n",
              "      <td>...</td>\n",
              "      <td>NaN</td>\n",
              "      <td>NaN</td>\n",
              "      <td>NaN</td>\n",
              "      <td>NaN</td>\n",
              "      <td>NaN</td>\n",
              "      <td>NaN</td>\n",
              "      <td>NaN</td>\n",
              "      <td>NaN</td>\n",
              "      <td>NaN</td>\n",
              "      <td>NaN</td>\n",
              "    </tr>\n",
              "    <tr>\n",
              "      <th>3</th>\n",
              "      <td>1076863</td>\n",
              "      <td>1277178</td>\n",
              "      <td>10000.0</td>\n",
              "      <td>10000.0</td>\n",
              "      <td>10000.0</td>\n",
              "      <td>36 months</td>\n",
              "      <td>13.49</td>\n",
              "      <td>339.31</td>\n",
              "      <td>C</td>\n",
              "      <td>C1</td>\n",
              "      <td>...</td>\n",
              "      <td>NaN</td>\n",
              "      <td>NaN</td>\n",
              "      <td>NaN</td>\n",
              "      <td>NaN</td>\n",
              "      <td>NaN</td>\n",
              "      <td>NaN</td>\n",
              "      <td>NaN</td>\n",
              "      <td>NaN</td>\n",
              "      <td>NaN</td>\n",
              "      <td>NaN</td>\n",
              "    </tr>\n",
              "    <tr>\n",
              "      <th>4</th>\n",
              "      <td>1075358</td>\n",
              "      <td>1311748</td>\n",
              "      <td>3000.0</td>\n",
              "      <td>3000.0</td>\n",
              "      <td>3000.0</td>\n",
              "      <td>60 months</td>\n",
              "      <td>12.69</td>\n",
              "      <td>67.79</td>\n",
              "      <td>B</td>\n",
              "      <td>B5</td>\n",
              "      <td>...</td>\n",
              "      <td>NaN</td>\n",
              "      <td>NaN</td>\n",
              "      <td>NaN</td>\n",
              "      <td>NaN</td>\n",
              "      <td>NaN</td>\n",
              "      <td>NaN</td>\n",
              "      <td>NaN</td>\n",
              "      <td>NaN</td>\n",
              "      <td>NaN</td>\n",
              "      <td>NaN</td>\n",
              "    </tr>\n",
              "  </tbody>\n",
              "</table>\n",
              "<p>5 rows × 74 columns</p>\n",
              "</div>"
            ],
            "text/plain": [
              "        id  member_id  loan_amnt  funded_amnt  funded_amnt_inv        term  \\\n",
              "0  1077501    1296599     5000.0       5000.0           4975.0   36 months   \n",
              "1  1077430    1314167     2500.0       2500.0           2500.0   60 months   \n",
              "2  1077175    1313524     2400.0       2400.0           2400.0   36 months   \n",
              "3  1076863    1277178    10000.0      10000.0          10000.0   36 months   \n",
              "4  1075358    1311748     3000.0       3000.0           3000.0   60 months   \n",
              "\n",
              "   int_rate  installment grade sub_grade     ...      total_bal_il il_util  \\\n",
              "0     10.65       162.87     B        B2     ...               NaN     NaN   \n",
              "1     15.27        59.83     C        C4     ...               NaN     NaN   \n",
              "2     15.96        84.33     C        C5     ...               NaN     NaN   \n",
              "3     13.49       339.31     C        C1     ...               NaN     NaN   \n",
              "4     12.69        67.79     B        B5     ...               NaN     NaN   \n",
              "\n",
              "  open_rv_12m  open_rv_24m max_bal_bc all_util total_rev_hi_lim inq_fi  \\\n",
              "0         NaN          NaN        NaN      NaN              NaN    NaN   \n",
              "1         NaN          NaN        NaN      NaN              NaN    NaN   \n",
              "2         NaN          NaN        NaN      NaN              NaN    NaN   \n",
              "3         NaN          NaN        NaN      NaN              NaN    NaN   \n",
              "4         NaN          NaN        NaN      NaN              NaN    NaN   \n",
              "\n",
              "  total_cu_tl inq_last_12m  \n",
              "0         NaN          NaN  \n",
              "1         NaN          NaN  \n",
              "2         NaN          NaN  \n",
              "3         NaN          NaN  \n",
              "4         NaN          NaN  \n",
              "\n",
              "[5 rows x 74 columns]"
            ]
          },
          "metadata": {
            "tags": []
          },
          "execution_count": 5
        }
      ]
    },
    {
      "metadata": {
        "id": "z63g6ywqFVGW",
        "colab_type": "code",
        "outputId": "ef8619ba-7e2d-4917-caf8-448f9b6883c4",
        "colab": {
          "base_uri": "https://localhost:8080/",
          "height": 1118
        }
      },
      "cell_type": "code",
      "source": [
        "df.dtypes"
      ],
      "execution_count": 0,
      "outputs": [
        {
          "output_type": "execute_result",
          "data": {
            "text/plain": [
              "id                               int64\n",
              "member_id                        int64\n",
              "loan_amnt                      float64\n",
              "funded_amnt                    float64\n",
              "funded_amnt_inv                float64\n",
              "term                            object\n",
              "int_rate                       float64\n",
              "installment                    float64\n",
              "grade                           object\n",
              "sub_grade                       object\n",
              "emp_title                       object\n",
              "emp_length                      object\n",
              "home_ownership                  object\n",
              "annual_inc                     float64\n",
              "verification_status             object\n",
              "issue_d                         object\n",
              "loan_status                     object\n",
              "pymnt_plan                      object\n",
              "url                             object\n",
              "desc                            object\n",
              "purpose                         object\n",
              "title                           object\n",
              "zip_code                        object\n",
              "addr_state                      object\n",
              "dti                            float64\n",
              "delinq_2yrs                    float64\n",
              "earliest_cr_line                object\n",
              "inq_last_6mths                 float64\n",
              "mths_since_last_delinq         float64\n",
              "mths_since_last_record         float64\n",
              "                                ...   \n",
              "collection_recovery_fee        float64\n",
              "last_pymnt_d                    object\n",
              "last_pymnt_amnt                float64\n",
              "next_pymnt_d                    object\n",
              "last_credit_pull_d              object\n",
              "collections_12_mths_ex_med     float64\n",
              "mths_since_last_major_derog    float64\n",
              "policy_code                    float64\n",
              "application_type                object\n",
              "annual_inc_joint               float64\n",
              "dti_joint                      float64\n",
              "verification_status_joint       object\n",
              "acc_now_delinq                 float64\n",
              "tot_coll_amt                   float64\n",
              "tot_cur_bal                    float64\n",
              "open_acc_6m                    float64\n",
              "open_il_6m                     float64\n",
              "open_il_12m                    float64\n",
              "open_il_24m                    float64\n",
              "mths_since_rcnt_il             float64\n",
              "total_bal_il                   float64\n",
              "il_util                        float64\n",
              "open_rv_12m                    float64\n",
              "open_rv_24m                    float64\n",
              "max_bal_bc                     float64\n",
              "all_util                       float64\n",
              "total_rev_hi_lim               float64\n",
              "inq_fi                         float64\n",
              "total_cu_tl                    float64\n",
              "inq_last_12m                   float64\n",
              "Length: 74, dtype: object"
            ]
          },
          "metadata": {
            "tags": []
          },
          "execution_count": 6
        }
      ]
    },
    {
      "metadata": {
        "id": "X3zkZfoeFVGp",
        "colab_type": "code",
        "outputId": "64355a7b-474e-42d1-b207-74ec0052ba9a",
        "colab": {
          "base_uri": "https://localhost:8080/",
          "height": 1118
        }
      },
      "cell_type": "code",
      "source": [
        "df.isnull().sum()"
      ],
      "execution_count": 0,
      "outputs": [
        {
          "output_type": "execute_result",
          "data": {
            "text/plain": [
              "id                                  0\n",
              "member_id                           0\n",
              "loan_amnt                           0\n",
              "funded_amnt                         0\n",
              "funded_amnt_inv                     0\n",
              "term                                0\n",
              "int_rate                            0\n",
              "installment                         0\n",
              "grade                               0\n",
              "sub_grade                           0\n",
              "emp_title                       51462\n",
              "emp_length                      44825\n",
              "home_ownership                      0\n",
              "annual_inc                          4\n",
              "verification_status                 0\n",
              "issue_d                             0\n",
              "loan_status                         0\n",
              "pymnt_plan                          0\n",
              "url                                 0\n",
              "desc                           761351\n",
              "purpose                             0\n",
              "title                             152\n",
              "zip_code                            0\n",
              "addr_state                          0\n",
              "dti                                 0\n",
              "delinq_2yrs                        29\n",
              "earliest_cr_line                   29\n",
              "inq_last_6mths                     29\n",
              "mths_since_last_delinq         454312\n",
              "mths_since_last_record         750326\n",
              "                                ...  \n",
              "collection_recovery_fee             0\n",
              "last_pymnt_d                    17659\n",
              "last_pymnt_amnt                     0\n",
              "next_pymnt_d                   252971\n",
              "last_credit_pull_d                 53\n",
              "collections_12_mths_ex_med        145\n",
              "mths_since_last_major_derog    665676\n",
              "policy_code                         0\n",
              "application_type                    0\n",
              "annual_inc_joint               886868\n",
              "dti_joint                      886870\n",
              "verification_status_joint      886868\n",
              "acc_now_delinq                     29\n",
              "tot_coll_amt                    70276\n",
              "tot_cur_bal                     70276\n",
              "open_acc_6m                    866007\n",
              "open_il_6m                     866007\n",
              "open_il_12m                    866007\n",
              "open_il_24m                    866007\n",
              "mths_since_rcnt_il             866569\n",
              "total_bal_il                   866007\n",
              "il_util                        868762\n",
              "open_rv_12m                    866007\n",
              "open_rv_24m                    866007\n",
              "max_bal_bc                     866007\n",
              "all_util                       866007\n",
              "total_rev_hi_lim                70276\n",
              "inq_fi                         866007\n",
              "total_cu_tl                    866007\n",
              "inq_last_12m                   866007\n",
              "Length: 74, dtype: int64"
            ]
          },
          "metadata": {
            "tags": []
          },
          "execution_count": 7
        }
      ]
    },
    {
      "metadata": {
        "id": "tK5R5jUDFVGw",
        "colab_type": "code",
        "colab": {}
      },
      "cell_type": "code",
      "source": [
        "newdf=df.drop([\"inq_last_12m\",\"emp_title\",\"zip_code\",\"url\",\"total_cu_tl\",\"inq_fi\",\"all_util\",\"open_acc_6m\",\"open_il_6m\",\"open_il_12m\",\"open_il_24m\",\"mths_since_rcnt_il\",\"total_bal_il\",\"il_util\",\"open_rv_12m\",\"open_rv_24m\",\"max_bal_bc\",\"annual_inc_joint\",\"dti_joint\",\"verification_status_joint\",\"mths_since_last_major_derog\",\"mths_since_last_delinq\",\"mths_since_last_record\",\"desc\"],1)"
      ],
      "execution_count": 0,
      "outputs": []
    },
    {
      "metadata": {
        "id": "jpiI-Ib8VVhr",
        "colab_type": "code",
        "colab": {}
      },
      "cell_type": "code",
      "source": [
        ""
      ],
      "execution_count": 0,
      "outputs": []
    },
    {
      "metadata": {
        "id": "X0dY8L4UFVG2",
        "colab_type": "code",
        "outputId": "9023d31b-97e3-48f2-f69e-490fe041fd77",
        "colab": {
          "base_uri": "https://localhost:8080/",
          "height": 923
        }
      },
      "cell_type": "code",
      "source": [
        "newdf.isnull().sum()"
      ],
      "execution_count": 0,
      "outputs": [
        {
          "output_type": "execute_result",
          "data": {
            "text/plain": [
              "id                                 0\n",
              "member_id                          0\n",
              "loan_amnt                          0\n",
              "funded_amnt                        0\n",
              "funded_amnt_inv                    0\n",
              "term                               0\n",
              "int_rate                           0\n",
              "installment                        0\n",
              "grade                              0\n",
              "sub_grade                          0\n",
              "emp_length                     44825\n",
              "home_ownership                     0\n",
              "annual_inc                         4\n",
              "verification_status                0\n",
              "issue_d                            0\n",
              "loan_status                        0\n",
              "pymnt_plan                         0\n",
              "purpose                            0\n",
              "title                            152\n",
              "addr_state                         0\n",
              "dti                                0\n",
              "delinq_2yrs                       29\n",
              "earliest_cr_line                  29\n",
              "inq_last_6mths                    29\n",
              "open_acc                          29\n",
              "pub_rec                           29\n",
              "revol_bal                          0\n",
              "revol_util                       502\n",
              "total_acc                         29\n",
              "initial_list_status                0\n",
              "out_prncp                          0\n",
              "out_prncp_inv                      0\n",
              "total_pymnt                        0\n",
              "total_pymnt_inv                    0\n",
              "total_rec_prncp                    0\n",
              "total_rec_int                      0\n",
              "total_rec_late_fee                 0\n",
              "recoveries                         0\n",
              "collection_recovery_fee            0\n",
              "last_pymnt_d                   17659\n",
              "last_pymnt_amnt                    0\n",
              "next_pymnt_d                  252971\n",
              "last_credit_pull_d                53\n",
              "collections_12_mths_ex_med       145\n",
              "policy_code                        0\n",
              "application_type                   0\n",
              "acc_now_delinq                    29\n",
              "tot_coll_amt                   70276\n",
              "tot_cur_bal                    70276\n",
              "total_rev_hi_lim               70276\n",
              "dtype: int64"
            ]
          },
          "metadata": {
            "tags": []
          },
          "execution_count": 9
        }
      ]
    },
    {
      "metadata": {
        "id": "pOrP9JMNFVHU",
        "colab_type": "code",
        "colab": {}
      },
      "cell_type": "code",
      "source": [
        "newdf=newdf.drop([\"next_pymnt_d\",\"issue_d\",\"last_pymnt_d\",\"last_credit_pull_d\",\"earliest_cr_line\",\"title\",\"id\",\"member_id\"],1)"
      ],
      "execution_count": 0,
      "outputs": []
    },
    {
      "metadata": {
        "id": "tlTz3bhUFVH2",
        "colab_type": "code",
        "outputId": "00a89188-0a39-44fb-a2df-ca1dbe10c54c",
        "colab": {
          "base_uri": "https://localhost:8080/",
          "height": 246
        }
      },
      "cell_type": "code",
      "source": [
        "numerical_cols=newdf.select_dtypes(include=np.number)\n",
        "numerical_cols.head()"
      ],
      "execution_count": 0,
      "outputs": [
        {
          "output_type": "execute_result",
          "data": {
            "text/html": [
              "<div>\n",
              "<style scoped>\n",
              "    .dataframe tbody tr th:only-of-type {\n",
              "        vertical-align: middle;\n",
              "    }\n",
              "\n",
              "    .dataframe tbody tr th {\n",
              "        vertical-align: top;\n",
              "    }\n",
              "\n",
              "    .dataframe thead th {\n",
              "        text-align: right;\n",
              "    }\n",
              "</style>\n",
              "<table border=\"1\" class=\"dataframe\">\n",
              "  <thead>\n",
              "    <tr style=\"text-align: right;\">\n",
              "      <th></th>\n",
              "      <th>loan_amnt</th>\n",
              "      <th>funded_amnt</th>\n",
              "      <th>funded_amnt_inv</th>\n",
              "      <th>int_rate</th>\n",
              "      <th>installment</th>\n",
              "      <th>annual_inc</th>\n",
              "      <th>dti</th>\n",
              "      <th>delinq_2yrs</th>\n",
              "      <th>inq_last_6mths</th>\n",
              "      <th>open_acc</th>\n",
              "      <th>...</th>\n",
              "      <th>total_rec_late_fee</th>\n",
              "      <th>recoveries</th>\n",
              "      <th>collection_recovery_fee</th>\n",
              "      <th>last_pymnt_amnt</th>\n",
              "      <th>collections_12_mths_ex_med</th>\n",
              "      <th>policy_code</th>\n",
              "      <th>acc_now_delinq</th>\n",
              "      <th>tot_coll_amt</th>\n",
              "      <th>tot_cur_bal</th>\n",
              "      <th>total_rev_hi_lim</th>\n",
              "    </tr>\n",
              "  </thead>\n",
              "  <tbody>\n",
              "    <tr>\n",
              "      <th>0</th>\n",
              "      <td>5000.0</td>\n",
              "      <td>5000.0</td>\n",
              "      <td>4975.0</td>\n",
              "      <td>10.65</td>\n",
              "      <td>162.87</td>\n",
              "      <td>24000.0</td>\n",
              "      <td>27.65</td>\n",
              "      <td>0.0</td>\n",
              "      <td>1.0</td>\n",
              "      <td>3.0</td>\n",
              "      <td>...</td>\n",
              "      <td>0.00</td>\n",
              "      <td>0.00</td>\n",
              "      <td>0.00</td>\n",
              "      <td>171.62</td>\n",
              "      <td>0.0</td>\n",
              "      <td>1.0</td>\n",
              "      <td>0.0</td>\n",
              "      <td>NaN</td>\n",
              "      <td>NaN</td>\n",
              "      <td>NaN</td>\n",
              "    </tr>\n",
              "    <tr>\n",
              "      <th>1</th>\n",
              "      <td>2500.0</td>\n",
              "      <td>2500.0</td>\n",
              "      <td>2500.0</td>\n",
              "      <td>15.27</td>\n",
              "      <td>59.83</td>\n",
              "      <td>30000.0</td>\n",
              "      <td>1.00</td>\n",
              "      <td>0.0</td>\n",
              "      <td>5.0</td>\n",
              "      <td>3.0</td>\n",
              "      <td>...</td>\n",
              "      <td>0.00</td>\n",
              "      <td>117.08</td>\n",
              "      <td>1.11</td>\n",
              "      <td>119.66</td>\n",
              "      <td>0.0</td>\n",
              "      <td>1.0</td>\n",
              "      <td>0.0</td>\n",
              "      <td>NaN</td>\n",
              "      <td>NaN</td>\n",
              "      <td>NaN</td>\n",
              "    </tr>\n",
              "    <tr>\n",
              "      <th>2</th>\n",
              "      <td>2400.0</td>\n",
              "      <td>2400.0</td>\n",
              "      <td>2400.0</td>\n",
              "      <td>15.96</td>\n",
              "      <td>84.33</td>\n",
              "      <td>12252.0</td>\n",
              "      <td>8.72</td>\n",
              "      <td>0.0</td>\n",
              "      <td>2.0</td>\n",
              "      <td>2.0</td>\n",
              "      <td>...</td>\n",
              "      <td>0.00</td>\n",
              "      <td>0.00</td>\n",
              "      <td>0.00</td>\n",
              "      <td>649.91</td>\n",
              "      <td>0.0</td>\n",
              "      <td>1.0</td>\n",
              "      <td>0.0</td>\n",
              "      <td>NaN</td>\n",
              "      <td>NaN</td>\n",
              "      <td>NaN</td>\n",
              "    </tr>\n",
              "    <tr>\n",
              "      <th>3</th>\n",
              "      <td>10000.0</td>\n",
              "      <td>10000.0</td>\n",
              "      <td>10000.0</td>\n",
              "      <td>13.49</td>\n",
              "      <td>339.31</td>\n",
              "      <td>49200.0</td>\n",
              "      <td>20.00</td>\n",
              "      <td>0.0</td>\n",
              "      <td>1.0</td>\n",
              "      <td>10.0</td>\n",
              "      <td>...</td>\n",
              "      <td>16.97</td>\n",
              "      <td>0.00</td>\n",
              "      <td>0.00</td>\n",
              "      <td>357.48</td>\n",
              "      <td>0.0</td>\n",
              "      <td>1.0</td>\n",
              "      <td>0.0</td>\n",
              "      <td>NaN</td>\n",
              "      <td>NaN</td>\n",
              "      <td>NaN</td>\n",
              "    </tr>\n",
              "    <tr>\n",
              "      <th>4</th>\n",
              "      <td>3000.0</td>\n",
              "      <td>3000.0</td>\n",
              "      <td>3000.0</td>\n",
              "      <td>12.69</td>\n",
              "      <td>67.79</td>\n",
              "      <td>80000.0</td>\n",
              "      <td>17.94</td>\n",
              "      <td>0.0</td>\n",
              "      <td>0.0</td>\n",
              "      <td>15.0</td>\n",
              "      <td>...</td>\n",
              "      <td>0.00</td>\n",
              "      <td>0.00</td>\n",
              "      <td>0.00</td>\n",
              "      <td>67.79</td>\n",
              "      <td>0.0</td>\n",
              "      <td>1.0</td>\n",
              "      <td>0.0</td>\n",
              "      <td>NaN</td>\n",
              "      <td>NaN</td>\n",
              "      <td>NaN</td>\n",
              "    </tr>\n",
              "  </tbody>\n",
              "</table>\n",
              "<p>5 rows × 30 columns</p>\n",
              "</div>"
            ],
            "text/plain": [
              "   loan_amnt  funded_amnt  funded_amnt_inv  int_rate  installment  annual_inc  \\\n",
              "0     5000.0       5000.0           4975.0     10.65       162.87     24000.0   \n",
              "1     2500.0       2500.0           2500.0     15.27        59.83     30000.0   \n",
              "2     2400.0       2400.0           2400.0     15.96        84.33     12252.0   \n",
              "3    10000.0      10000.0          10000.0     13.49       339.31     49200.0   \n",
              "4     3000.0       3000.0           3000.0     12.69        67.79     80000.0   \n",
              "\n",
              "     dti  delinq_2yrs  inq_last_6mths  open_acc        ...         \\\n",
              "0  27.65          0.0             1.0       3.0        ...          \n",
              "1   1.00          0.0             5.0       3.0        ...          \n",
              "2   8.72          0.0             2.0       2.0        ...          \n",
              "3  20.00          0.0             1.0      10.0        ...          \n",
              "4  17.94          0.0             0.0      15.0        ...          \n",
              "\n",
              "   total_rec_late_fee  recoveries  collection_recovery_fee  last_pymnt_amnt  \\\n",
              "0                0.00        0.00                     0.00           171.62   \n",
              "1                0.00      117.08                     1.11           119.66   \n",
              "2                0.00        0.00                     0.00           649.91   \n",
              "3               16.97        0.00                     0.00           357.48   \n",
              "4                0.00        0.00                     0.00            67.79   \n",
              "\n",
              "   collections_12_mths_ex_med  policy_code  acc_now_delinq  tot_coll_amt  \\\n",
              "0                         0.0          1.0             0.0           NaN   \n",
              "1                         0.0          1.0             0.0           NaN   \n",
              "2                         0.0          1.0             0.0           NaN   \n",
              "3                         0.0          1.0             0.0           NaN   \n",
              "4                         0.0          1.0             0.0           NaN   \n",
              "\n",
              "   tot_cur_bal  total_rev_hi_lim  \n",
              "0          NaN               NaN  \n",
              "1          NaN               NaN  \n",
              "2          NaN               NaN  \n",
              "3          NaN               NaN  \n",
              "4          NaN               NaN  \n",
              "\n",
              "[5 rows x 30 columns]"
            ]
          },
          "metadata": {
            "tags": []
          },
          "execution_count": 11
        }
      ]
    },
    {
      "metadata": {
        "id": "3_-8muASFVH7",
        "colab_type": "code",
        "colab": {}
      },
      "cell_type": "code",
      "source": [
        "categorical_cols=newdf.select_dtypes(exclude=np.number)"
      ],
      "execution_count": 0,
      "outputs": []
    },
    {
      "metadata": {
        "id": "4nANjm8fFVIB",
        "colab_type": "code",
        "outputId": "20da2004-39ae-4a5c-8c78-a5d1622b0370",
        "colab": {
          "base_uri": "https://localhost:8080/",
          "height": 197
        }
      },
      "cell_type": "code",
      "source": [
        "categorical_cols.head()"
      ],
      "execution_count": 0,
      "outputs": [
        {
          "output_type": "execute_result",
          "data": {
            "text/html": [
              "<div>\n",
              "<style scoped>\n",
              "    .dataframe tbody tr th:only-of-type {\n",
              "        vertical-align: middle;\n",
              "    }\n",
              "\n",
              "    .dataframe tbody tr th {\n",
              "        vertical-align: top;\n",
              "    }\n",
              "\n",
              "    .dataframe thead th {\n",
              "        text-align: right;\n",
              "    }\n",
              "</style>\n",
              "<table border=\"1\" class=\"dataframe\">\n",
              "  <thead>\n",
              "    <tr style=\"text-align: right;\">\n",
              "      <th></th>\n",
              "      <th>term</th>\n",
              "      <th>grade</th>\n",
              "      <th>sub_grade</th>\n",
              "      <th>emp_length</th>\n",
              "      <th>home_ownership</th>\n",
              "      <th>verification_status</th>\n",
              "      <th>loan_status</th>\n",
              "      <th>pymnt_plan</th>\n",
              "      <th>purpose</th>\n",
              "      <th>addr_state</th>\n",
              "      <th>initial_list_status</th>\n",
              "      <th>application_type</th>\n",
              "    </tr>\n",
              "  </thead>\n",
              "  <tbody>\n",
              "    <tr>\n",
              "      <th>0</th>\n",
              "      <td>36 months</td>\n",
              "      <td>B</td>\n",
              "      <td>B2</td>\n",
              "      <td>10+ years</td>\n",
              "      <td>RENT</td>\n",
              "      <td>Verified</td>\n",
              "      <td>Fully Paid</td>\n",
              "      <td>n</td>\n",
              "      <td>credit_card</td>\n",
              "      <td>AZ</td>\n",
              "      <td>f</td>\n",
              "      <td>INDIVIDUAL</td>\n",
              "    </tr>\n",
              "    <tr>\n",
              "      <th>1</th>\n",
              "      <td>60 months</td>\n",
              "      <td>C</td>\n",
              "      <td>C4</td>\n",
              "      <td>&lt; 1 year</td>\n",
              "      <td>RENT</td>\n",
              "      <td>Source Verified</td>\n",
              "      <td>Charged Off</td>\n",
              "      <td>n</td>\n",
              "      <td>car</td>\n",
              "      <td>GA</td>\n",
              "      <td>f</td>\n",
              "      <td>INDIVIDUAL</td>\n",
              "    </tr>\n",
              "    <tr>\n",
              "      <th>2</th>\n",
              "      <td>36 months</td>\n",
              "      <td>C</td>\n",
              "      <td>C5</td>\n",
              "      <td>10+ years</td>\n",
              "      <td>RENT</td>\n",
              "      <td>Not Verified</td>\n",
              "      <td>Fully Paid</td>\n",
              "      <td>n</td>\n",
              "      <td>small_business</td>\n",
              "      <td>IL</td>\n",
              "      <td>f</td>\n",
              "      <td>INDIVIDUAL</td>\n",
              "    </tr>\n",
              "    <tr>\n",
              "      <th>3</th>\n",
              "      <td>36 months</td>\n",
              "      <td>C</td>\n",
              "      <td>C1</td>\n",
              "      <td>10+ years</td>\n",
              "      <td>RENT</td>\n",
              "      <td>Source Verified</td>\n",
              "      <td>Fully Paid</td>\n",
              "      <td>n</td>\n",
              "      <td>other</td>\n",
              "      <td>CA</td>\n",
              "      <td>f</td>\n",
              "      <td>INDIVIDUAL</td>\n",
              "    </tr>\n",
              "    <tr>\n",
              "      <th>4</th>\n",
              "      <td>60 months</td>\n",
              "      <td>B</td>\n",
              "      <td>B5</td>\n",
              "      <td>1 year</td>\n",
              "      <td>RENT</td>\n",
              "      <td>Source Verified</td>\n",
              "      <td>Current</td>\n",
              "      <td>n</td>\n",
              "      <td>other</td>\n",
              "      <td>OR</td>\n",
              "      <td>f</td>\n",
              "      <td>INDIVIDUAL</td>\n",
              "    </tr>\n",
              "  </tbody>\n",
              "</table>\n",
              "</div>"
            ],
            "text/plain": [
              "         term grade sub_grade emp_length home_ownership verification_status  \\\n",
              "0   36 months     B        B2  10+ years           RENT            Verified   \n",
              "1   60 months     C        C4   < 1 year           RENT     Source Verified   \n",
              "2   36 months     C        C5  10+ years           RENT        Not Verified   \n",
              "3   36 months     C        C1  10+ years           RENT     Source Verified   \n",
              "4   60 months     B        B5     1 year           RENT     Source Verified   \n",
              "\n",
              "   loan_status pymnt_plan         purpose addr_state initial_list_status  \\\n",
              "0   Fully Paid          n     credit_card         AZ                   f   \n",
              "1  Charged Off          n             car         GA                   f   \n",
              "2   Fully Paid          n  small_business         IL                   f   \n",
              "3   Fully Paid          n           other         CA                   f   \n",
              "4      Current          n           other         OR                   f   \n",
              "\n",
              "  application_type  \n",
              "0       INDIVIDUAL  \n",
              "1       INDIVIDUAL  \n",
              "2       INDIVIDUAL  \n",
              "3       INDIVIDUAL  \n",
              "4       INDIVIDUAL  "
            ]
          },
          "metadata": {
            "tags": []
          },
          "execution_count": 13
        }
      ]
    },
    {
      "metadata": {
        "id": "zbzNnOfEFVIS",
        "colab_type": "code",
        "colab": {}
      },
      "cell_type": "code",
      "source": [
        "numerical_cols.isnull().sum()\n",
        "num_X=[\"annual_inc\",\"acc_now_delinq\",\"delinq_2yrs\",\"inq_last_6mths\",\"open_acc\",\"pub_rec\",\"revol_util\",\"total_acc\",\"collections_12_mths_ex_med\",\"tot_coll_amt\",\"tot_cur_bal\",\"total_rev_hi_lim\"]"
      ],
      "execution_count": 0,
      "outputs": []
    },
    {
      "metadata": {
        "id": "wnp5iGDyFVIX",
        "colab_type": "code",
        "outputId": "3cf59917-b915-41a0-8153-e406a4881bde",
        "colab": {
          "base_uri": "https://localhost:8080/",
          "height": 247
        }
      },
      "cell_type": "code",
      "source": [
        "categorical_cols.isnull().sum()"
      ],
      "execution_count": 0,
      "outputs": [
        {
          "output_type": "execute_result",
          "data": {
            "text/plain": [
              "term                       0\n",
              "grade                      0\n",
              "sub_grade                  0\n",
              "emp_length             44825\n",
              "home_ownership             0\n",
              "verification_status        0\n",
              "loan_status                0\n",
              "pymnt_plan                 0\n",
              "purpose                    0\n",
              "addr_state                 0\n",
              "initial_list_status        0\n",
              "application_type           0\n",
              "dtype: int64"
            ]
          },
          "metadata": {
            "tags": []
          },
          "execution_count": 15
        }
      ]
    },
    {
      "metadata": {
        "id": "44INnzclFVIg",
        "colab_type": "code",
        "colab": {}
      },
      "cell_type": "code",
      "source": [
        "def clean_numerical(column):\n",
        "    mean=newdf[newdf[column]!=np.nan][column].astype(float).mean()\n",
        "    newdf[column] = newdf[column].replace(np.nan,str(mean)).astype(float)\n",
        "    return newdf"
      ],
      "execution_count": 0,
      "outputs": []
    },
    {
      "metadata": {
        "id": "xzgUag8LFVIl",
        "colab_type": "code",
        "colab": {}
      },
      "cell_type": "code",
      "source": [
        "for i in num_X:\n",
        "  clean_numerical(i)\n"
      ],
      "execution_count": 0,
      "outputs": []
    },
    {
      "metadata": {
        "id": "uIx5KZ4hFVIp",
        "colab_type": "code",
        "outputId": "7a49ba57-69fe-4ffb-c06c-8edfc60d1bb8",
        "colab": {
          "base_uri": "https://localhost:8080/",
          "height": 781
        }
      },
      "cell_type": "code",
      "source": [
        "newdf.isnull().sum()"
      ],
      "execution_count": 0,
      "outputs": [
        {
          "output_type": "execute_result",
          "data": {
            "text/plain": [
              "loan_amnt                         0\n",
              "funded_amnt                       0\n",
              "funded_amnt_inv                   0\n",
              "term                              0\n",
              "int_rate                          0\n",
              "installment                       0\n",
              "grade                             0\n",
              "sub_grade                         0\n",
              "emp_length                    44825\n",
              "home_ownership                    0\n",
              "annual_inc                        0\n",
              "verification_status               0\n",
              "loan_status                       0\n",
              "pymnt_plan                        0\n",
              "purpose                           0\n",
              "addr_state                        0\n",
              "dti                               0\n",
              "delinq_2yrs                       0\n",
              "inq_last_6mths                    0\n",
              "open_acc                          0\n",
              "pub_rec                           0\n",
              "revol_bal                         0\n",
              "revol_util                        0\n",
              "total_acc                         0\n",
              "initial_list_status               0\n",
              "out_prncp                         0\n",
              "out_prncp_inv                     0\n",
              "total_pymnt                       0\n",
              "total_pymnt_inv                   0\n",
              "total_rec_prncp                   0\n",
              "total_rec_int                     0\n",
              "total_rec_late_fee                0\n",
              "recoveries                        0\n",
              "collection_recovery_fee           0\n",
              "last_pymnt_amnt                   0\n",
              "collections_12_mths_ex_med        0\n",
              "policy_code                       0\n",
              "application_type                  0\n",
              "acc_now_delinq                    0\n",
              "tot_coll_amt                      0\n",
              "tot_cur_bal                       0\n",
              "total_rev_hi_lim                  0\n",
              "dtype: int64"
            ]
          },
          "metadata": {
            "tags": []
          },
          "execution_count": 18
        }
      ]
    },
    {
      "metadata": {
        "id": "owl0nGEYFVIw",
        "colab_type": "code",
        "outputId": "e4656c6f-af1b-4cc1-96b5-2aebc55bf45c",
        "colab": {
          "base_uri": "https://localhost:8080/",
          "height": 247
        }
      },
      "cell_type": "code",
      "source": [
        "categorical_cols.isnull().sum()"
      ],
      "execution_count": 0,
      "outputs": [
        {
          "output_type": "execute_result",
          "data": {
            "text/plain": [
              "term                       0\n",
              "grade                      0\n",
              "sub_grade                  0\n",
              "emp_length             44825\n",
              "home_ownership             0\n",
              "verification_status        0\n",
              "loan_status                0\n",
              "pymnt_plan                 0\n",
              "purpose                    0\n",
              "addr_state                 0\n",
              "initial_list_status        0\n",
              "application_type           0\n",
              "dtype: int64"
            ]
          },
          "metadata": {
            "tags": []
          },
          "execution_count": 19
        }
      ]
    },
    {
      "metadata": {
        "id": "A5dCCvBlFVI4",
        "colab_type": "code",
        "colab": {}
      },
      "cell_type": "code",
      "source": [
        "def clean_categorical(column):\n",
        "    mode=newdf[newdf[column]!=np.nan][column].mode()\n",
        "    newdf[column] = newdf[column].replace(np.nan,str(mode))\n",
        "    return newdf"
      ],
      "execution_count": 0,
      "outputs": []
    },
    {
      "metadata": {
        "id": "ertkXBI0aGf1",
        "colab_type": "code",
        "outputId": "3221c8d1-e9fb-45e5-e11b-6be002914dc7",
        "colab": {
          "base_uri": "https://localhost:8080/",
          "height": 781
        }
      },
      "cell_type": "code",
      "source": [
        "newdf.isnull().sum()"
      ],
      "execution_count": 0,
      "outputs": [
        {
          "output_type": "execute_result",
          "data": {
            "text/plain": [
              "loan_amnt                         0\n",
              "funded_amnt                       0\n",
              "funded_amnt_inv                   0\n",
              "term                              0\n",
              "int_rate                          0\n",
              "installment                       0\n",
              "grade                             0\n",
              "sub_grade                         0\n",
              "emp_length                    44825\n",
              "home_ownership                    0\n",
              "annual_inc                        0\n",
              "verification_status               0\n",
              "loan_status                       0\n",
              "pymnt_plan                        0\n",
              "purpose                           0\n",
              "addr_state                        0\n",
              "dti                               0\n",
              "delinq_2yrs                       0\n",
              "inq_last_6mths                    0\n",
              "open_acc                          0\n",
              "pub_rec                           0\n",
              "revol_bal                         0\n",
              "revol_util                        0\n",
              "total_acc                         0\n",
              "initial_list_status               0\n",
              "out_prncp                         0\n",
              "out_prncp_inv                     0\n",
              "total_pymnt                       0\n",
              "total_pymnt_inv                   0\n",
              "total_rec_prncp                   0\n",
              "total_rec_int                     0\n",
              "total_rec_late_fee                0\n",
              "recoveries                        0\n",
              "collection_recovery_fee           0\n",
              "last_pymnt_amnt                   0\n",
              "collections_12_mths_ex_med        0\n",
              "policy_code                       0\n",
              "application_type                  0\n",
              "acc_now_delinq                    0\n",
              "tot_coll_amt                      0\n",
              "tot_cur_bal                       0\n",
              "total_rev_hi_lim                  0\n",
              "dtype: int64"
            ]
          },
          "metadata": {
            "tags": []
          },
          "execution_count": 21
        }
      ]
    },
    {
      "metadata": {
        "id": "yrTrzf7vFVI8",
        "colab_type": "code",
        "outputId": "78cb6dba-9bc7-422b-a9af-2d1c1d9605c8",
        "colab": {
          "base_uri": "https://localhost:8080/",
          "height": 212
        }
      },
      "cell_type": "code",
      "source": [
        "#Encoding\n",
        "#pd.get_dummies(newdf)\n",
        "newdf[\"loan_status\"].value_counts()"
      ],
      "execution_count": 0,
      "outputs": [
        {
          "output_type": "execute_result",
          "data": {
            "text/plain": [
              "Current                                                601779\n",
              "Fully Paid                                             207723\n",
              "Charged Off                                             45248\n",
              "Late (31-120 days)                                      11591\n",
              "Issued                                                   8460\n",
              "In Grace Period                                          6253\n",
              "Late (16-30 days)                                        2357\n",
              "Does not meet the credit policy. Status:Fully Paid       1988\n",
              "Default                                                  1219\n",
              "Does not meet the credit policy. Status:Charged Off       761\n",
              "Name: loan_status, dtype: int64"
            ]
          },
          "metadata": {
            "tags": []
          },
          "execution_count": 22
        }
      ]
    },
    {
      "metadata": {
        "id": "2iVSbymSFVJC",
        "colab_type": "code",
        "outputId": "5e11f3e5-f26e-4277-c56b-a8b9e7aff1d0",
        "colab": {
          "base_uri": "https://localhost:8080/",
          "height": 247
        }
      },
      "cell_type": "code",
      "source": [
        "categorical_cols.isnull().sum()"
      ],
      "execution_count": 0,
      "outputs": [
        {
          "output_type": "execute_result",
          "data": {
            "text/plain": [
              "term                       0\n",
              "grade                      0\n",
              "sub_grade                  0\n",
              "emp_length             44825\n",
              "home_ownership             0\n",
              "verification_status        0\n",
              "loan_status                0\n",
              "pymnt_plan                 0\n",
              "purpose                    0\n",
              "addr_state                 0\n",
              "initial_list_status        0\n",
              "application_type           0\n",
              "dtype: int64"
            ]
          },
          "metadata": {
            "tags": []
          },
          "execution_count": 23
        }
      ]
    },
    {
      "metadata": {
        "id": "F7qU0oMQFVJj",
        "colab_type": "code",
        "outputId": "1b0236dc-9d31-45ad-b4f9-c6633ee51792",
        "colab": {
          "base_uri": "https://localhost:8080/",
          "height": 70
        }
      },
      "cell_type": "code",
      "source": [
        "clean_categorical(\"emp_length\")\n",
        "newdf[\"initial_list_status\"].value_counts()"
      ],
      "execution_count": 0,
      "outputs": [
        {
          "output_type": "execute_result",
          "data": {
            "text/plain": [
              "f    456848\n",
              "w    430531\n",
              "Name: initial_list_status, dtype: int64"
            ]
          },
          "metadata": {
            "tags": []
          },
          "execution_count": 24
        }
      ]
    },
    {
      "metadata": {
        "id": "2fqoepzqFVJx",
        "colab_type": "code",
        "outputId": "ae64d26e-a606-47a8-fe87-e5cd2a3ab49f",
        "colab": {
          "base_uri": "https://localhost:8080/",
          "height": 212
        }
      },
      "cell_type": "code",
      "source": [
        "newdf[\"loan_status\"].value_counts()"
      ],
      "execution_count": 0,
      "outputs": [
        {
          "output_type": "execute_result",
          "data": {
            "text/plain": [
              "Current                                                601779\n",
              "Fully Paid                                             207723\n",
              "Charged Off                                             45248\n",
              "Late (31-120 days)                                      11591\n",
              "Issued                                                   8460\n",
              "In Grace Period                                          6253\n",
              "Late (16-30 days)                                        2357\n",
              "Does not meet the credit policy. Status:Fully Paid       1988\n",
              "Default                                                  1219\n",
              "Does not meet the credit policy. Status:Charged Off       761\n",
              "Name: loan_status, dtype: int64"
            ]
          },
          "metadata": {
            "tags": []
          },
          "execution_count": 25
        }
      ]
    },
    {
      "metadata": {
        "id": "PEU2tw-PFVJ5",
        "colab_type": "code",
        "outputId": "e1a11182-2e3b-4006-c54a-c834e909d0bd",
        "colab": {
          "base_uri": "https://localhost:8080/",
          "height": 330
        }
      },
      "cell_type": "code",
      "source": [
        "newdf1=newdf.copy()\n",
        "newdf1.head()"
      ],
      "execution_count": 0,
      "outputs": [
        {
          "output_type": "execute_result",
          "data": {
            "text/html": [
              "<div>\n",
              "<style scoped>\n",
              "    .dataframe tbody tr th:only-of-type {\n",
              "        vertical-align: middle;\n",
              "    }\n",
              "\n",
              "    .dataframe tbody tr th {\n",
              "        vertical-align: top;\n",
              "    }\n",
              "\n",
              "    .dataframe thead th {\n",
              "        text-align: right;\n",
              "    }\n",
              "</style>\n",
              "<table border=\"1\" class=\"dataframe\">\n",
              "  <thead>\n",
              "    <tr style=\"text-align: right;\">\n",
              "      <th></th>\n",
              "      <th>loan_amnt</th>\n",
              "      <th>funded_amnt</th>\n",
              "      <th>funded_amnt_inv</th>\n",
              "      <th>term</th>\n",
              "      <th>int_rate</th>\n",
              "      <th>installment</th>\n",
              "      <th>grade</th>\n",
              "      <th>sub_grade</th>\n",
              "      <th>emp_length</th>\n",
              "      <th>home_ownership</th>\n",
              "      <th>...</th>\n",
              "      <th>recoveries</th>\n",
              "      <th>collection_recovery_fee</th>\n",
              "      <th>last_pymnt_amnt</th>\n",
              "      <th>collections_12_mths_ex_med</th>\n",
              "      <th>policy_code</th>\n",
              "      <th>application_type</th>\n",
              "      <th>acc_now_delinq</th>\n",
              "      <th>tot_coll_amt</th>\n",
              "      <th>tot_cur_bal</th>\n",
              "      <th>total_rev_hi_lim</th>\n",
              "    </tr>\n",
              "  </thead>\n",
              "  <tbody>\n",
              "    <tr>\n",
              "      <th>0</th>\n",
              "      <td>5000.0</td>\n",
              "      <td>5000.0</td>\n",
              "      <td>4975.0</td>\n",
              "      <td>36 months</td>\n",
              "      <td>10.65</td>\n",
              "      <td>162.87</td>\n",
              "      <td>B</td>\n",
              "      <td>B2</td>\n",
              "      <td>10+ years</td>\n",
              "      <td>RENT</td>\n",
              "      <td>...</td>\n",
              "      <td>0.00</td>\n",
              "      <td>0.00</td>\n",
              "      <td>171.62</td>\n",
              "      <td>0.0</td>\n",
              "      <td>1.0</td>\n",
              "      <td>INDIVIDUAL</td>\n",
              "      <td>0.0</td>\n",
              "      <td>225.70261</td>\n",
              "      <td>139458.189336</td>\n",
              "      <td>32068.620045</td>\n",
              "    </tr>\n",
              "    <tr>\n",
              "      <th>1</th>\n",
              "      <td>2500.0</td>\n",
              "      <td>2500.0</td>\n",
              "      <td>2500.0</td>\n",
              "      <td>60 months</td>\n",
              "      <td>15.27</td>\n",
              "      <td>59.83</td>\n",
              "      <td>C</td>\n",
              "      <td>C4</td>\n",
              "      <td>&lt; 1 year</td>\n",
              "      <td>RENT</td>\n",
              "      <td>...</td>\n",
              "      <td>117.08</td>\n",
              "      <td>1.11</td>\n",
              "      <td>119.66</td>\n",
              "      <td>0.0</td>\n",
              "      <td>1.0</td>\n",
              "      <td>INDIVIDUAL</td>\n",
              "      <td>0.0</td>\n",
              "      <td>225.70261</td>\n",
              "      <td>139458.189336</td>\n",
              "      <td>32068.620045</td>\n",
              "    </tr>\n",
              "    <tr>\n",
              "      <th>2</th>\n",
              "      <td>2400.0</td>\n",
              "      <td>2400.0</td>\n",
              "      <td>2400.0</td>\n",
              "      <td>36 months</td>\n",
              "      <td>15.96</td>\n",
              "      <td>84.33</td>\n",
              "      <td>C</td>\n",
              "      <td>C5</td>\n",
              "      <td>10+ years</td>\n",
              "      <td>RENT</td>\n",
              "      <td>...</td>\n",
              "      <td>0.00</td>\n",
              "      <td>0.00</td>\n",
              "      <td>649.91</td>\n",
              "      <td>0.0</td>\n",
              "      <td>1.0</td>\n",
              "      <td>INDIVIDUAL</td>\n",
              "      <td>0.0</td>\n",
              "      <td>225.70261</td>\n",
              "      <td>139458.189336</td>\n",
              "      <td>32068.620045</td>\n",
              "    </tr>\n",
              "    <tr>\n",
              "      <th>3</th>\n",
              "      <td>10000.0</td>\n",
              "      <td>10000.0</td>\n",
              "      <td>10000.0</td>\n",
              "      <td>36 months</td>\n",
              "      <td>13.49</td>\n",
              "      <td>339.31</td>\n",
              "      <td>C</td>\n",
              "      <td>C1</td>\n",
              "      <td>10+ years</td>\n",
              "      <td>RENT</td>\n",
              "      <td>...</td>\n",
              "      <td>0.00</td>\n",
              "      <td>0.00</td>\n",
              "      <td>357.48</td>\n",
              "      <td>0.0</td>\n",
              "      <td>1.0</td>\n",
              "      <td>INDIVIDUAL</td>\n",
              "      <td>0.0</td>\n",
              "      <td>225.70261</td>\n",
              "      <td>139458.189336</td>\n",
              "      <td>32068.620045</td>\n",
              "    </tr>\n",
              "    <tr>\n",
              "      <th>4</th>\n",
              "      <td>3000.0</td>\n",
              "      <td>3000.0</td>\n",
              "      <td>3000.0</td>\n",
              "      <td>60 months</td>\n",
              "      <td>12.69</td>\n",
              "      <td>67.79</td>\n",
              "      <td>B</td>\n",
              "      <td>B5</td>\n",
              "      <td>1 year</td>\n",
              "      <td>RENT</td>\n",
              "      <td>...</td>\n",
              "      <td>0.00</td>\n",
              "      <td>0.00</td>\n",
              "      <td>67.79</td>\n",
              "      <td>0.0</td>\n",
              "      <td>1.0</td>\n",
              "      <td>INDIVIDUAL</td>\n",
              "      <td>0.0</td>\n",
              "      <td>225.70261</td>\n",
              "      <td>139458.189336</td>\n",
              "      <td>32068.620045</td>\n",
              "    </tr>\n",
              "  </tbody>\n",
              "</table>\n",
              "<p>5 rows × 42 columns</p>\n",
              "</div>"
            ],
            "text/plain": [
              "   loan_amnt  funded_amnt  funded_amnt_inv        term  int_rate  installment  \\\n",
              "0     5000.0       5000.0           4975.0   36 months     10.65       162.87   \n",
              "1     2500.0       2500.0           2500.0   60 months     15.27        59.83   \n",
              "2     2400.0       2400.0           2400.0   36 months     15.96        84.33   \n",
              "3    10000.0      10000.0          10000.0   36 months     13.49       339.31   \n",
              "4     3000.0       3000.0           3000.0   60 months     12.69        67.79   \n",
              "\n",
              "  grade sub_grade emp_length home_ownership        ...         recoveries  \\\n",
              "0     B        B2  10+ years           RENT        ...               0.00   \n",
              "1     C        C4   < 1 year           RENT        ...             117.08   \n",
              "2     C        C5  10+ years           RENT        ...               0.00   \n",
              "3     C        C1  10+ years           RENT        ...               0.00   \n",
              "4     B        B5     1 year           RENT        ...               0.00   \n",
              "\n",
              "  collection_recovery_fee last_pymnt_amnt collections_12_mths_ex_med  \\\n",
              "0                    0.00          171.62                        0.0   \n",
              "1                    1.11          119.66                        0.0   \n",
              "2                    0.00          649.91                        0.0   \n",
              "3                    0.00          357.48                        0.0   \n",
              "4                    0.00           67.79                        0.0   \n",
              "\n",
              "  policy_code application_type  acc_now_delinq  tot_coll_amt    tot_cur_bal  \\\n",
              "0         1.0       INDIVIDUAL             0.0     225.70261  139458.189336   \n",
              "1         1.0       INDIVIDUAL             0.0     225.70261  139458.189336   \n",
              "2         1.0       INDIVIDUAL             0.0     225.70261  139458.189336   \n",
              "3         1.0       INDIVIDUAL             0.0     225.70261  139458.189336   \n",
              "4         1.0       INDIVIDUAL             0.0     225.70261  139458.189336   \n",
              "\n",
              "   total_rev_hi_lim  \n",
              "0      32068.620045  \n",
              "1      32068.620045  \n",
              "2      32068.620045  \n",
              "3      32068.620045  \n",
              "4      32068.620045  \n",
              "\n",
              "[5 rows x 42 columns]"
            ]
          },
          "metadata": {
            "tags": []
          },
          "execution_count": 26
        }
      ]
    },
    {
      "metadata": {
        "id": "QmcjOScrFVJ9",
        "colab_type": "code",
        "colab": {}
      },
      "cell_type": "code",
      "source": [
        "newdf=newdf[newdf.loan_status!=\"Current\"]\n"
      ],
      "execution_count": 0,
      "outputs": []
    },
    {
      "metadata": {
        "id": "16jm5n6AFVKE",
        "colab_type": "code",
        "colab": {}
      },
      "cell_type": "code",
      "source": [
        "newdf=newdf[newdf.loan_status!=\"Late (31-120 days)\"]"
      ],
      "execution_count": 0,
      "outputs": []
    },
    {
      "metadata": {
        "id": "NwIbcp6KFVKJ",
        "colab_type": "code",
        "colab": {}
      },
      "cell_type": "code",
      "source": [
        "newdf=newdf[newdf.loan_status!=\"Issued\"]"
      ],
      "execution_count": 0,
      "outputs": []
    },
    {
      "metadata": {
        "id": "QQZJZGpEFVKN",
        "colab_type": "code",
        "colab": {}
      },
      "cell_type": "code",
      "source": [
        "newdf=newdf[newdf.loan_status!=\"In Grace Period\"]"
      ],
      "execution_count": 0,
      "outputs": []
    },
    {
      "metadata": {
        "id": "_42QCvMmFVKS",
        "colab_type": "code",
        "colab": {}
      },
      "cell_type": "code",
      "source": [
        "newdf=newdf[newdf.loan_status!=\"Late (16-30 days)\"]"
      ],
      "execution_count": 0,
      "outputs": []
    },
    {
      "metadata": {
        "id": "rtx_UstXRKAw",
        "colab_type": "code",
        "outputId": "4880ac32-fc72-4972-d0fb-dbe64f6e8c11",
        "colab": {
          "base_uri": "https://localhost:8080/",
          "height": 70
        }
      },
      "cell_type": "code",
      "source": [
        "newdf.loc[newdf.loan_status == 'Charged Off', 'loan_outcome'] = 1 \n",
        "newdf.loc[newdf.loan_status == 'Default', 'loan_outcome'] = 1\n",
        "newdf.loc[newdf.loan_status == 'Fully Paid', 'loan_outcome'] = 0\n",
        "newdf.loc[newdf.loan_status == 'Does not meet the credit policy. Status:Fully Paid','loan_outcome'] = 0\n",
        "newdf.loc[newdf.loan_status == 'Does not meet the credit policy. Status:Charged Off','loan_outcome'] = 1\n",
        "newdf[\"loan_outcome\"].value_counts()"
      ],
      "execution_count": 0,
      "outputs": [
        {
          "output_type": "execute_result",
          "data": {
            "text/plain": [
              "0.0    209711\n",
              "1.0     47228\n",
              "Name: loan_outcome, dtype: int64"
            ]
          },
          "metadata": {
            "tags": []
          },
          "execution_count": 32
        }
      ]
    },
    {
      "metadata": {
        "id": "IYkgPeQdFVKw",
        "colab_type": "code",
        "outputId": "eee7c480-79f9-4f97-9570-d9b8d842ab4f",
        "colab": {
          "base_uri": "https://localhost:8080/",
          "height": 141
        }
      },
      "cell_type": "code",
      "source": [
        "newdf[\"home_ownership\"].value_counts()"
      ],
      "execution_count": 0,
      "outputs": [
        {
          "output_type": "execute_result",
          "data": {
            "text/plain": [
              "MORTGAGE    126598\n",
              "RENT        107831\n",
              "OWN          22282\n",
              "OTHER          179\n",
              "NONE            48\n",
              "ANY              1\n",
              "Name: home_ownership, dtype: int64"
            ]
          },
          "metadata": {
            "tags": []
          },
          "execution_count": 33
        }
      ]
    },
    {
      "metadata": {
        "id": "4b2_XOpsFVK0",
        "colab_type": "code",
        "outputId": "13ef5571-b213-4d79-bb38-54815147cb47",
        "colab": {
          "base_uri": "https://localhost:8080/",
          "height": 798
        }
      },
      "cell_type": "code",
      "source": [
        "newdf.isnull().sum()"
      ],
      "execution_count": 0,
      "outputs": [
        {
          "output_type": "execute_result",
          "data": {
            "text/plain": [
              "loan_amnt                     0\n",
              "funded_amnt                   0\n",
              "funded_amnt_inv               0\n",
              "term                          0\n",
              "int_rate                      0\n",
              "installment                   0\n",
              "grade                         0\n",
              "sub_grade                     0\n",
              "emp_length                    0\n",
              "home_ownership                0\n",
              "annual_inc                    0\n",
              "verification_status           0\n",
              "loan_status                   0\n",
              "pymnt_plan                    0\n",
              "purpose                       0\n",
              "addr_state                    0\n",
              "dti                           0\n",
              "delinq_2yrs                   0\n",
              "inq_last_6mths                0\n",
              "open_acc                      0\n",
              "pub_rec                       0\n",
              "revol_bal                     0\n",
              "revol_util                    0\n",
              "total_acc                     0\n",
              "initial_list_status           0\n",
              "out_prncp                     0\n",
              "out_prncp_inv                 0\n",
              "total_pymnt                   0\n",
              "total_pymnt_inv               0\n",
              "total_rec_prncp               0\n",
              "total_rec_int                 0\n",
              "total_rec_late_fee            0\n",
              "recoveries                    0\n",
              "collection_recovery_fee       0\n",
              "last_pymnt_amnt               0\n",
              "collections_12_mths_ex_med    0\n",
              "policy_code                   0\n",
              "application_type              0\n",
              "acc_now_delinq                0\n",
              "tot_coll_amt                  0\n",
              "tot_cur_bal                   0\n",
              "total_rev_hi_lim              0\n",
              "loan_outcome                  0\n",
              "dtype: int64"
            ]
          },
          "metadata": {
            "tags": []
          },
          "execution_count": 34
        }
      ]
    },
    {
      "metadata": {
        "id": "BJn8CY9XFVLH",
        "colab_type": "code",
        "outputId": "1ae3179e-a0fe-48de-9e63-a561c9aeaba5",
        "colab": {
          "base_uri": "https://localhost:8080/",
          "height": 34
        }
      },
      "cell_type": "code",
      "source": [
        "numerical_columns=newdf.select_dtypes(include=np.number)\n",
        "numerical_columns.head()\n",
        "from sklearn.preprocessing import MinMaxScaler\n",
        "scaler = MinMaxScaler()\n",
        "col_names=list(numerical_columns)\n",
        "numerical_columns=scaler.fit_transform(numerical_columns)\n",
        "numerical_columns\n",
        "numerical_columns=pd.DataFrame(numerical_columns,columns=col_names)\n",
        "numerical_columns.head()\n",
        "type(numerical_columns)"
      ],
      "execution_count": 0,
      "outputs": [
        {
          "output_type": "execute_result",
          "data": {
            "text/plain": [
              "pandas.core.frame.DataFrame"
            ]
          },
          "metadata": {
            "tags": []
          },
          "execution_count": 35
        }
      ]
    },
    {
      "metadata": {
        "id": "4fBW8JJIFVLL",
        "colab_type": "code",
        "outputId": "ce16c793-0aef-4b9f-de49-fb641077ac89",
        "colab": {
          "base_uri": "https://localhost:8080/",
          "height": 34
        }
      },
      "cell_type": "code",
      "source": [
        "categorical_columns1=newdf.select_dtypes(exclude=np.number)\n",
        "categorical_columns1.head()\n",
        "categorical_columns1.shape\n"
      ],
      "execution_count": 0,
      "outputs": [
        {
          "output_type": "execute_result",
          "data": {
            "text/plain": [
              "(256939, 12)"
            ]
          },
          "metadata": {
            "tags": []
          },
          "execution_count": 36
        }
      ]
    },
    {
      "metadata": {
        "id": "l8mZ1_OvSRmb",
        "colab_type": "code",
        "outputId": "09b3ba72-47b7-4757-d9b8-d9e91724d102",
        "colab": {
          "base_uri": "https://localhost:8080/",
          "height": 34
        }
      },
      "cell_type": "code",
      "source": [
        "X_cat=pd.get_dummies(categorical_columns1)\n",
        "X_cat.head()\n",
        "type(X_cat)\n"
      ],
      "execution_count": 0,
      "outputs": [
        {
          "output_type": "execute_result",
          "data": {
            "text/plain": [
              "pandas.core.frame.DataFrame"
            ]
          },
          "metadata": {
            "tags": []
          },
          "execution_count": 37
        }
      ]
    },
    {
      "metadata": {
        "id": "HbCGeK2GgySO",
        "colab_type": "code",
        "colab": {}
      },
      "cell_type": "code",
      "source": [
        "X_cat.reset_index(drop=True, inplace=True)\n"
      ],
      "execution_count": 0,
      "outputs": []
    },
    {
      "metadata": {
        "id": "XUUgY0sEifjD",
        "colab_type": "code",
        "colab": {}
      },
      "cell_type": "code",
      "source": [
        "numerical_columns.reset_index(drop=True, inplace=True)"
      ],
      "execution_count": 0,
      "outputs": []
    },
    {
      "metadata": {
        "scrolled": true,
        "id": "NdBMRJs2FVLP",
        "colab_type": "code",
        "outputId": "ce14353f-d8ac-4bae-f707-6a0a0116d4d9",
        "colab": {
          "base_uri": "https://localhost:8080/",
          "height": 461
        }
      },
      "cell_type": "code",
      "source": [
        "X1=pd.concat([numerical_columns,X_cat],1)\n",
        "X1.shape\n",
        "X1.to_csv()\n",
        "from google.colab import files\n",
        "\n",
        "X1.to_csv('loanclub.csv')\n",
        "files.download('loanclub.csv')"
      ],
      "execution_count": 0,
      "outputs": [
        {
          "output_type": "stream",
          "text": [
            "----------------------------------------\n",
            "Exception happened during processing of request from ('::ffff:127.0.0.1', 57466, 0, 0)\n",
            "Traceback (most recent call last):\n",
            "  File \"/usr/lib/python3.6/socketserver.py\", line 317, in _handle_request_noblock\n",
            "    self.process_request(request, client_address)\n",
            "  File \"/usr/lib/python3.6/socketserver.py\", line 348, in process_request\n",
            "    self.finish_request(request, client_address)\n",
            "  File \"/usr/lib/python3.6/socketserver.py\", line 361, in finish_request\n",
            "    self.RequestHandlerClass(request, client_address, self)\n",
            "  File \"/usr/lib/python3.6/socketserver.py\", line 721, in __init__\n",
            "    self.handle()\n",
            "  File \"/usr/lib/python3.6/http/server.py\", line 418, in handle\n",
            "    self.handle_one_request()\n",
            "  File \"/usr/lib/python3.6/http/server.py\", line 406, in handle_one_request\n",
            "    method()\n",
            "  File \"/usr/lib/python3.6/http/server.py\", line 639, in do_GET\n",
            "    self.copyfile(f, self.wfile)\n",
            "  File \"/usr/lib/python3.6/http/server.py\", line 800, in copyfile\n",
            "    shutil.copyfileobj(source, outputfile)\n",
            "  File \"/usr/lib/python3.6/shutil.py\", line 82, in copyfileobj\n",
            "    fdst.write(buf)\n",
            "  File \"/usr/lib/python3.6/socketserver.py\", line 800, in write\n",
            "    self._sock.sendall(b)\n",
            "ConnectionResetError: [Errno 104] Connection reset by peer\n",
            "----------------------------------------\n"
          ],
          "name": "stderr"
        }
      ]
    },
    {
      "metadata": {
        "id": "yaEVEugkdlMN",
        "colab_type": "code",
        "outputId": "806d2670-53a3-456c-9b49-316c8de6e405",
        "colab": {
          "base_uri": "https://localhost:8080/",
          "height": 246
        }
      },
      "cell_type": "code",
      "source": [
        "X=X1.drop([\"loan_outcome\"],1)\n",
        "y=X1[\"loan_outcome\"]\n",
        "X.dtypes\n",
        "X.head()"
      ],
      "execution_count": 0,
      "outputs": [
        {
          "output_type": "execute_result",
          "data": {
            "text/html": [
              "<div>\n",
              "<style scoped>\n",
              "    .dataframe tbody tr th:only-of-type {\n",
              "        vertical-align: middle;\n",
              "    }\n",
              "\n",
              "    .dataframe tbody tr th {\n",
              "        vertical-align: top;\n",
              "    }\n",
              "\n",
              "    .dataframe thead th {\n",
              "        text-align: right;\n",
              "    }\n",
              "</style>\n",
              "<table border=\"1\" class=\"dataframe\">\n",
              "  <thead>\n",
              "    <tr style=\"text-align: right;\">\n",
              "      <th></th>\n",
              "      <th>loan_amnt</th>\n",
              "      <th>funded_amnt</th>\n",
              "      <th>funded_amnt_inv</th>\n",
              "      <th>int_rate</th>\n",
              "      <th>installment</th>\n",
              "      <th>annual_inc</th>\n",
              "      <th>dti</th>\n",
              "      <th>delinq_2yrs</th>\n",
              "      <th>inq_last_6mths</th>\n",
              "      <th>open_acc</th>\n",
              "      <th>...</th>\n",
              "      <th>addr_state_VA</th>\n",
              "      <th>addr_state_VT</th>\n",
              "      <th>addr_state_WA</th>\n",
              "      <th>addr_state_WI</th>\n",
              "      <th>addr_state_WV</th>\n",
              "      <th>addr_state_WY</th>\n",
              "      <th>initial_list_status_f</th>\n",
              "      <th>initial_list_status_w</th>\n",
              "      <th>application_type_INDIVIDUAL</th>\n",
              "      <th>application_type_JOINT</th>\n",
              "    </tr>\n",
              "  </thead>\n",
              "  <tbody>\n",
              "    <tr>\n",
              "      <th>0</th>\n",
              "      <td>0.130435</td>\n",
              "      <td>0.130435</td>\n",
              "      <td>0.142143</td>\n",
              "      <td>0.225180</td>\n",
              "      <td>0.104479</td>\n",
              "      <td>0.002539</td>\n",
              "      <td>0.483899</td>\n",
              "      <td>0.0</td>\n",
              "      <td>0.030303</td>\n",
              "      <td>0.039474</td>\n",
              "      <td>...</td>\n",
              "      <td>0</td>\n",
              "      <td>0</td>\n",
              "      <td>0</td>\n",
              "      <td>0</td>\n",
              "      <td>0</td>\n",
              "      <td>0</td>\n",
              "      <td>1</td>\n",
              "      <td>0</td>\n",
              "      <td>1</td>\n",
              "      <td>0</td>\n",
              "    </tr>\n",
              "    <tr>\n",
              "      <th>1</th>\n",
              "      <td>0.057971</td>\n",
              "      <td>0.057971</td>\n",
              "      <td>0.071429</td>\n",
              "      <td>0.420363</td>\n",
              "      <td>0.031344</td>\n",
              "      <td>0.003229</td>\n",
              "      <td>0.017501</td>\n",
              "      <td>0.0</td>\n",
              "      <td>0.151515</td>\n",
              "      <td>0.039474</td>\n",
              "      <td>...</td>\n",
              "      <td>0</td>\n",
              "      <td>0</td>\n",
              "      <td>0</td>\n",
              "      <td>0</td>\n",
              "      <td>0</td>\n",
              "      <td>0</td>\n",
              "      <td>1</td>\n",
              "      <td>0</td>\n",
              "      <td>1</td>\n",
              "      <td>0</td>\n",
              "    </tr>\n",
              "    <tr>\n",
              "      <th>2</th>\n",
              "      <td>0.055072</td>\n",
              "      <td>0.055072</td>\n",
              "      <td>0.068571</td>\n",
              "      <td>0.449514</td>\n",
              "      <td>0.048733</td>\n",
              "      <td>0.001190</td>\n",
              "      <td>0.152608</td>\n",
              "      <td>0.0</td>\n",
              "      <td>0.060606</td>\n",
              "      <td>0.026316</td>\n",
              "      <td>...</td>\n",
              "      <td>0</td>\n",
              "      <td>0</td>\n",
              "      <td>0</td>\n",
              "      <td>0</td>\n",
              "      <td>0</td>\n",
              "      <td>0</td>\n",
              "      <td>1</td>\n",
              "      <td>0</td>\n",
              "      <td>1</td>\n",
              "      <td>0</td>\n",
              "    </tr>\n",
              "    <tr>\n",
              "      <th>3</th>\n",
              "      <td>0.275362</td>\n",
              "      <td>0.275362</td>\n",
              "      <td>0.285714</td>\n",
              "      <td>0.345163</td>\n",
              "      <td>0.229711</td>\n",
              "      <td>0.005434</td>\n",
              "      <td>0.350018</td>\n",
              "      <td>0.0</td>\n",
              "      <td>0.030303</td>\n",
              "      <td>0.131579</td>\n",
              "      <td>...</td>\n",
              "      <td>0</td>\n",
              "      <td>0</td>\n",
              "      <td>0</td>\n",
              "      <td>0</td>\n",
              "      <td>0</td>\n",
              "      <td>0</td>\n",
              "      <td>1</td>\n",
              "      <td>0</td>\n",
              "      <td>1</td>\n",
              "      <td>0</td>\n",
              "    </tr>\n",
              "    <tr>\n",
              "      <th>4</th>\n",
              "      <td>0.130435</td>\n",
              "      <td>0.130435</td>\n",
              "      <td>0.142857</td>\n",
              "      <td>0.108999</td>\n",
              "      <td>0.099929</td>\n",
              "      <td>0.003918</td>\n",
              "      <td>0.196010</td>\n",
              "      <td>0.0</td>\n",
              "      <td>0.090909</td>\n",
              "      <td>0.118421</td>\n",
              "      <td>...</td>\n",
              "      <td>0</td>\n",
              "      <td>0</td>\n",
              "      <td>0</td>\n",
              "      <td>0</td>\n",
              "      <td>0</td>\n",
              "      <td>0</td>\n",
              "      <td>1</td>\n",
              "      <td>0</td>\n",
              "      <td>1</td>\n",
              "      <td>0</td>\n",
              "    </tr>\n",
              "  </tbody>\n",
              "</table>\n",
              "<p>5 rows × 171 columns</p>\n",
              "</div>"
            ],
            "text/plain": [
              "   loan_amnt  funded_amnt  funded_amnt_inv  int_rate  installment  annual_inc  \\\n",
              "0   0.130435     0.130435         0.142143  0.225180     0.104479    0.002539   \n",
              "1   0.057971     0.057971         0.071429  0.420363     0.031344    0.003229   \n",
              "2   0.055072     0.055072         0.068571  0.449514     0.048733    0.001190   \n",
              "3   0.275362     0.275362         0.285714  0.345163     0.229711    0.005434   \n",
              "4   0.130435     0.130435         0.142857  0.108999     0.099929    0.003918   \n",
              "\n",
              "        dti  delinq_2yrs  inq_last_6mths  open_acc           ...            \\\n",
              "0  0.483899          0.0        0.030303  0.039474           ...             \n",
              "1  0.017501          0.0        0.151515  0.039474           ...             \n",
              "2  0.152608          0.0        0.060606  0.026316           ...             \n",
              "3  0.350018          0.0        0.030303  0.131579           ...             \n",
              "4  0.196010          0.0        0.090909  0.118421           ...             \n",
              "\n",
              "   addr_state_VA  addr_state_VT  addr_state_WA  addr_state_WI  addr_state_WV  \\\n",
              "0              0              0              0              0              0   \n",
              "1              0              0              0              0              0   \n",
              "2              0              0              0              0              0   \n",
              "3              0              0              0              0              0   \n",
              "4              0              0              0              0              0   \n",
              "\n",
              "   addr_state_WY  initial_list_status_f  initial_list_status_w  \\\n",
              "0              0                      1                      0   \n",
              "1              0                      1                      0   \n",
              "2              0                      1                      0   \n",
              "3              0                      1                      0   \n",
              "4              0                      1                      0   \n",
              "\n",
              "   application_type_INDIVIDUAL  application_type_JOINT  \n",
              "0                            1                       0  \n",
              "1                            1                       0  \n",
              "2                            1                       0  \n",
              "3                            1                       0  \n",
              "4                            1                       0  \n",
              "\n",
              "[5 rows x 171 columns]"
            ]
          },
          "metadata": {
            "tags": []
          },
          "execution_count": 41
        }
      ]
    },
    {
      "metadata": {
        "id": "XOf6fblaFVLT",
        "colab_type": "code",
        "outputId": "abb60fac-2cd3-410d-ef00-0c8458ca292a",
        "colab": {
          "base_uri": "https://localhost:8080/",
          "height": 1118
        }
      },
      "cell_type": "code",
      "source": [
        "\n",
        "from sklearn.model_selection import train_test_split as tts\n",
        "X_train, X_test, y_train, y_test= tts(X,y,test_size=0.2,random_state=42)\n",
        "X_train.head()\n",
        "X_test.head()\n",
        "y_train"
      ],
      "execution_count": 0,
      "outputs": [
        {
          "output_type": "execute_result",
          "data": {
            "text/plain": [
              "152706    0.0\n",
              "233184    0.0\n",
              "252466    0.0\n",
              "156160    0.0\n",
              "177212    1.0\n",
              "241159    0.0\n",
              "199375    1.0\n",
              "110266    0.0\n",
              "66435     1.0\n",
              "161516    0.0\n",
              "237958    0.0\n",
              "150178    0.0\n",
              "70666     0.0\n",
              "65798     0.0\n",
              "143415    0.0\n",
              "86115     0.0\n",
              "35811     0.0\n",
              "27964     0.0\n",
              "154425    0.0\n",
              "41259     1.0\n",
              "97126     0.0\n",
              "101699    0.0\n",
              "250782    0.0\n",
              "10144     0.0\n",
              "10672     1.0\n",
              "225966    1.0\n",
              "51748     0.0\n",
              "46063     0.0\n",
              "229059    0.0\n",
              "77862     0.0\n",
              "         ... \n",
              "214176    0.0\n",
              "235796    0.0\n",
              "103355    0.0\n",
              "5311      0.0\n",
              "199041    0.0\n",
              "252709    0.0\n",
              "64925     0.0\n",
              "194027    0.0\n",
              "59735     0.0\n",
              "769       1.0\n",
              "64820     0.0\n",
              "67221     1.0\n",
              "41090     0.0\n",
              "16023     0.0\n",
              "191335    0.0\n",
              "175203    0.0\n",
              "126324    0.0\n",
              "112727    1.0\n",
              "87498     0.0\n",
              "168266    0.0\n",
              "213458    1.0\n",
              "137337    0.0\n",
              "54886     0.0\n",
              "207892    0.0\n",
              "110268    0.0\n",
              "119879    0.0\n",
              "103694    1.0\n",
              "131932    0.0\n",
              "146867    1.0\n",
              "121958    0.0\n",
              "Name: loan_outcome, Length: 205551, dtype: float64"
            ]
          },
          "metadata": {
            "tags": []
          },
          "execution_count": 73
        }
      ]
    },
    {
      "metadata": {
        "id": "2Pz-MA7OFVLV",
        "colab_type": "code",
        "colab": {}
      },
      "cell_type": "code",
      "source": [
        "from sklearn.linear_model import LogisticRegression\n",
        "logreg=LogisticRegression()"
      ],
      "execution_count": 0,
      "outputs": []
    },
    {
      "metadata": {
        "id": "KmYrvzLNFVLY",
        "colab_type": "code",
        "outputId": "57fd3d0a-13ca-4a94-dd6f-0d3e64d2a67b",
        "colab": {
          "base_uri": "https://localhost:8080/",
          "height": 143
        }
      },
      "cell_type": "code",
      "source": [
        "logreg.fit(X_train,y_train)"
      ],
      "execution_count": 0,
      "outputs": [
        {
          "output_type": "stream",
          "text": [
            "/usr/local/lib/python3.6/dist-packages/sklearn/linear_model/logistic.py:433: FutureWarning: Default solver will be changed to 'lbfgs' in 0.22. Specify a solver to silence this warning.\n",
            "  FutureWarning)\n"
          ],
          "name": "stderr"
        },
        {
          "output_type": "execute_result",
          "data": {
            "text/plain": [
              "LogisticRegression(C=1.0, class_weight=None, dual=False, fit_intercept=True,\n",
              "          intercept_scaling=1, max_iter=100, multi_class='warn',\n",
              "          n_jobs=None, penalty='l2', random_state=None, solver='warn',\n",
              "          tol=0.0001, verbose=0, warm_start=False)"
            ]
          },
          "metadata": {
            "tags": []
          },
          "execution_count": 75
        }
      ]
    },
    {
      "metadata": {
        "id": "9trB6dvoFVLs",
        "colab_type": "code",
        "colab": {}
      },
      "cell_type": "code",
      "source": [
        "y_pred=logreg.predict(X_test)"
      ],
      "execution_count": 0,
      "outputs": []
    },
    {
      "metadata": {
        "id": "VN07l64axicT",
        "colab_type": "code",
        "colab": {}
      },
      "cell_type": "code",
      "source": [
        "from sklearn import metrics\n",
        "cnf_matrix = metrics.confusion_matrix(y_test, y_pred)\n",
        "cnf_matrix\n",
        "matrix=cnf_matrix"
      ],
      "execution_count": 0,
      "outputs": []
    },
    {
      "metadata": {
        "id": "B7am2UfNkw-Y",
        "colab_type": "code",
        "outputId": "c59cd65b-8ba0-4283-9760-0af00cee1a79",
        "colab": {
          "base_uri": "https://localhost:8080/",
          "height": 400
        }
      },
      "cell_type": "code",
      "source": [
        "import matplotlib.pyplot as plt\n",
        "import seaborn as sns\n",
        "print(\"Confusion_matrix\",matrix)\n",
        "class_names=[0,1] \n",
        "fig, ax = plt.subplots()\n",
        "tick_marks = np.arange(len(class_names))\n",
        "plt.xticks(tick_marks, class_names)\n",
        "plt.yticks(tick_marks, class_names)\n",
        "sns.heatmap(pd.DataFrame(matrix), annot=True, cmap=\"YlGnBu\" ,fmt='g')"
      ],
      "execution_count": 0,
      "outputs": [
        {
          "output_type": "stream",
          "text": [
            "Confusion_matrix [[41928     0]\n",
            " [    0  9460]]\n"
          ],
          "name": "stdout"
        },
        {
          "output_type": "execute_result",
          "data": {
            "text/plain": [
              "<matplotlib.axes._subplots.AxesSubplot at 0x7fcae98a8898>"
            ]
          },
          "metadata": {
            "tags": []
          },
          "execution_count": 78
        },
        {
          "output_type": "display_data",
          "data": {
            "image/png": "[encoded data removed]",
            "text/plain": [
              "<Figure size 576x396 with 2 Axes>"
            ]
          },
          "metadata": {
            "tags": []
          }
        }
      ]
    },
    {
      "metadata": {
        "id": "C85ZPPJyxo12",
        "colab_type": "code",
        "outputId": "0820da84-074f-4840-8212-41d743bf6614",
        "colab": {
          "base_uri": "https://localhost:8080/",
          "height": 34
        }
      },
      "cell_type": "code",
      "source": [
        "print(\"Accuracy:\",metrics.accuracy_score(y_test, y_pred))"
      ],
      "execution_count": 0,
      "outputs": [
        {
          "output_type": "stream",
          "text": [
            "Accuracy: 1.0\n"
          ],
          "name": "stdout"
        }
      ]
    },
    {
      "metadata": {
        "id": "qkWmhDlEx26P",
        "colab_type": "code",
        "outputId": "289155fd-da6a-4e8e-d235-a0bd115cac45",
        "colab": {
          "base_uri": "https://localhost:8080/",
          "height": 34
        }
      },
      "cell_type": "code",
      "source": [
        "print('Accuracy of logistic regression classifier on test set: {:.2f}'.format(logreg.score(X_test, y_test)))"
      ],
      "execution_count": 0,
      "outputs": [
        {
          "output_type": "stream",
          "text": [
            "Accuracy of logistic regression classifier on test set: 1.00\n"
          ],
          "name": "stdout"
        }
      ]
    },
    {
      "metadata": {
        "id": "ZWTm-F_l0iMA",
        "colab_type": "code",
        "colab": {}
      },
      "cell_type": "code",
      "source": [
        "from sklearn.feature_selection import RFE"
      ],
      "execution_count": 0,
      "outputs": []
    },
    {
      "metadata": {
        "id": "UADLiFEfkz70",
        "colab_type": "code",
        "colab": {}
      },
      "cell_type": "code",
      "source": [
        "from sklearn.model_selection import cross_val_score,GridSearchCV"
      ],
      "execution_count": 0,
      "outputs": []
    },
    {
      "metadata": {
        "id": "A2zQbW_Lk0Lj",
        "colab_type": "code",
        "outputId": "1e1fd462-a33b-4558-d132-d040ae664143",
        "colab": {
          "base_uri": "https://localhost:8080/",
          "height": 196
        }
      },
      "cell_type": "code",
      "source": [
        "cross_val_score(logreg,X,y,cv=4,scoring=\"accuracy\")"
      ],
      "execution_count": 0,
      "outputs": [
        {
          "output_type": "stream",
          "text": [
            "/usr/local/lib/python3.6/dist-packages/sklearn/linear_model/logistic.py:433: FutureWarning: Default solver will be changed to 'lbfgs' in 0.22. Specify a solver to silence this warning.\n",
            "  FutureWarning)\n",
            "/usr/local/lib/python3.6/dist-packages/sklearn/linear_model/logistic.py:433: FutureWarning: Default solver will be changed to 'lbfgs' in 0.22. Specify a solver to silence this warning.\n",
            "  FutureWarning)\n",
            "/usr/local/lib/python3.6/dist-packages/sklearn/linear_model/logistic.py:433: FutureWarning: Default solver will be changed to 'lbfgs' in 0.22. Specify a solver to silence this warning.\n",
            "  FutureWarning)\n",
            "/usr/local/lib/python3.6/dist-packages/sklearn/linear_model/logistic.py:433: FutureWarning: Default solver will be changed to 'lbfgs' in 0.22. Specify a solver to silence this warning.\n",
            "  FutureWarning)\n"
          ],
          "name": "stderr"
        },
        {
          "output_type": "execute_result",
          "data": {
            "text/plain": [
              "array([0.97012532, 1.        , 1.        , 1.        ])"
            ]
          },
          "metadata": {
            "tags": []
          },
          "execution_count": 68
        }
      ]
    },
    {
      "metadata": {
        "id": "o67kUZlul29s",
        "colab_type": "code",
        "colab": {}
      },
      "cell_type": "code",
      "source": [
        "grid={\"C\":np.logspace(-3,3,7),\"penalty\":[\"l1\",\"l2\"]}"
      ],
      "execution_count": 0,
      "outputs": []
    },
    {
      "metadata": {
        "id": "BwC17B6T8X0Z",
        "colab_type": "code",
        "outputId": "c6096940-9933-4e74-b4f2-7e8516c480ba",
        "colab": {
          "base_uri": "https://localhost:8080/",
          "height": 167
        }
      },
      "cell_type": "code",
      "source": [
        "logreg_gridcv.score\n"
      ],
      "execution_count": 0,
      "outputs": [
        {
          "output_type": "error",
          "ename": "NameError",
          "evalue": "ignored",
          "traceback": [
            "\u001b[0;31m---------------------------------------------------------------------------\u001b[0m",
            "\u001b[0;31mNameError\u001b[0m                                 Traceback (most recent call last)",
            "\u001b[0;32m<ipython-input-70-7257919f0ad3>\u001b[0m in \u001b[0;36m<module>\u001b[0;34m()\u001b[0m\n\u001b[0;32m----> 1\u001b[0;31m \u001b[0mlogreg_gridcv\u001b[0m\u001b[0;34m.\u001b[0m\u001b[0mscore\u001b[0m\u001b[0;34m\u001b[0m\u001b[0;34m\u001b[0m\u001b[0m\n\u001b[0m",
            "\u001b[0;31mNameError\u001b[0m: name 'logreg_gridcv' is not defined"
          ]
        }
      ]
    },
    {
      "metadata": {
        "id": "TcBRUli103x3",
        "colab_type": "code",
        "colab": {}
      },
      "cell_type": "code",
      "source": [
        "rfe = RFE(logreg, 5)"
      ],
      "execution_count": 0,
      "outputs": []
    },
    {
      "metadata": {
        "id": "DKQuP3Bv8Wqn",
        "colab_type": "code",
        "colab": {}
      },
      "cell_type": "code",
      "source": [
        ""
      ],
      "execution_count": 0,
      "outputs": []
    },
    {
      "metadata": {
        "id": "kxmFEwEd1Hzs",
        "colab_type": "code",
        "outputId": "5db8c95b-171a-41b2-9e56-7ebf1bf333fc",
        "colab": {
          "base_uri": "https://localhost:8080/",
          "height": 105
        }
      },
      "cell_type": "code",
      "source": [
        "rfe"
      ],
      "execution_count": 0,
      "outputs": [
        {
          "output_type": "execute_result",
          "data": {
            "text/plain": [
              "RFE(estimator=LogisticRegression(C=1.0, class_weight=None, dual=False, fit_intercept=True,\n",
              "          intercept_scaling=1, max_iter=100, multi_class='warn',\n",
              "          n_jobs=None, penalty='l2', random_state=None, solver='warn',\n",
              "          tol=0.0001, verbose=0, warm_start=False),\n",
              "  n_features_to_select=20, step=1, verbose=0)"
            ]
          },
          "metadata": {
            "tags": []
          },
          "execution_count": 61
        }
      ]
    },
    {
      "metadata": {
        "id": "lDXXSs1z-Rka",
        "colab_type": "code",
        "outputId": "9352ec6f-f66c-484f-c36d-36b223fb3637",
        "colab": {
          "base_uri": "https://localhost:8080/",
          "height": 123
        }
      },
      "cell_type": "code",
      "source": [
        "X1.head()\n",
        "y1.head()"
      ],
      "execution_count": 0,
      "outputs": [
        {
          "output_type": "execute_result",
          "data": {
            "text/plain": [
              "0    0.0\n",
              "1    1.0\n",
              "2    0.0\n",
              "3    0.0\n",
              "5    0.0\n",
              "Name: loan_outcome, dtype: float64"
            ]
          },
          "metadata": {
            "tags": []
          },
          "execution_count": 67
        }
      ]
    },
    {
      "metadata": {
        "id": "P3jZuqjBA7e2",
        "colab_type": "code",
        "outputId": "e399f56f-7d25-4bf7-b2ef-fe9883e85cd1",
        "colab": {
          "base_uri": "https://localhost:8080/",
          "height": 34
        }
      },
      "cell_type": "code",
      "source": [
        "X.shape"
      ],
      "execution_count": 0,
      "outputs": [
        {
          "output_type": "execute_result",
          "data": {
            "text/plain": [
              "(256939, 166)"
            ]
          },
          "metadata": {
            "tags": []
          },
          "execution_count": 273
        }
      ]
    },
    {
      "metadata": {
        "id": "qAmQ_WLGFZtV",
        "colab_type": "code",
        "colab": {}
      },
      "cell_type": "code",
      "source": [
        "from sklearn.feature_selection import SelectKBest\n",
        "from sklearn.feature_selection import chi2"
      ],
      "execution_count": 0,
      "outputs": []
    },
    {
      "metadata": {
        "id": "fnzd72U-G1kW",
        "colab_type": "code",
        "colab": {}
      },
      "cell_type": "code",
      "source": [
        "test = SelectKBest(score_func=chi2, k=4)\n",
        "fit = test.fit(X1, y1)\n",
        "\n"
      ],
      "execution_count": 0,
      "outputs": []
    },
    {
      "metadata": {
        "id": "CcHQ9Ln_G9gW",
        "colab_type": "code",
        "outputId": "868843bf-4e4d-49de-d75f-2cfea477271f",
        "colab": {
          "base_uri": "https://localhost:8080/",
          "height": 443
        }
      },
      "cell_type": "code",
      "source": [
        "1\n",
        "\n",
        "# Summarize scores\n",
        "np.set_printoptions(precision=3)\n",
        "print(fit.scores_)\n",
        "list_sc=list(fit.scores_)\n"
      ],
      "execution_count": 0,
      "outputs": [
        {
          "output_type": "stream",
          "text": [
            "[1.211e+02 1.200e+02 1.029e+02 1.419e+03 4.936e+01 5.016e+00 2.081e+02\n",
            " 5.947e+00 4.549e+01 8.371e-01 2.787e-01 2.629e-02 3.043e+01 1.075e+01\n",
            " 1.793e+03 1.793e+03 3.828e+03 3.826e+03 9.481e+03 5.011e+01 6.498e+02\n",
            " 5.398e+03 2.747e+03 8.739e+03 3.041e+00       nan 2.202e+00 8.910e-02\n",
            " 1.769e+01 6.459e+00 2.097e+05 1.316e+03 4.602e+03 4.132e+03 1.594e+03\n",
            " 9.298e+01 1.819e+03 2.921e+03 2.240e+03 7.432e+02 9.163e+02 7.876e+02\n",
            " 7.778e+02 9.364e+02 8.075e+02 5.271e+02 5.224e+02 3.909e+02 2.094e+02\n",
            " 9.793e+01 2.031e+01 4.022e-01 3.871e+01 9.090e+01 1.603e+02 2.233e+02\n",
            " 3.381e+02 3.164e+02 5.601e+02 4.829e+02 4.324e+02 6.909e+02 5.942e+02\n",
            " 6.317e+02 6.342e+02 4.339e+02 3.919e+02 5.496e+02 4.715e+02 4.573e+02\n",
            " 2.823e+02 1.751e+02 1.434e+02 5.214e+01 9.910e+01 3.977e+02 3.406e-01\n",
            " 3.327e+01 1.210e+01 3.479e+00 6.839e+00 4.510e-01 1.168e+00 3.347e+00\n",
            " 1.274e+00 2.851e+00 3.749e+00 2.252e-01 3.413e+02 9.403e-02 9.678e-01\n",
            " 2.335e+00 3.721e+02 7.791e+02 2.617e+01 5.049e+02 3.506e-06 4.504e-01\n",
            " 8.112e+01 1.838e+02 5.013e+01 1.719e+00 7.200e+01 3.191e-01 7.353e+01\n",
            " 1.053e+01 1.468e+01 7.509e+01 7.122e-01 4.191e+02 6.819e-01 2.784e+01\n",
            " 5.804e+00 1.809e+01 2.228e+00 8.208e-01 2.187e+01 5.984e+01 5.468e+00\n",
            " 3.323e+01 5.698e-02 6.146e+01 3.756e+00 5.978e-01 1.911e-01 3.171e-01\n",
            " 1.140e+01 4.105e+01 1.607e+00 3.624e+00 3.297e+00 6.987e+00 6.698e-01\n",
            " 2.928e+00 6.885e+00 2.260e-02 1.021e+01 3.286e+00 8.733e+00 4.104e+00\n",
            " 1.802e+00 1.792e-01 1.575e+01 9.453e+00 2.446e+00 3.170e+01 2.762e+01\n",
            " 5.603e+00 3.941e+00 7.810e+00 3.161e+00 1.159e-01 7.298e+00 9.266e-01\n",
            " 5.026e+01 5.654e+01 3.028e+00 9.172e-03 8.463e-01 6.390e+00 4.535e-01\n",
            " 1.167e+01 8.965e+00 2.542e+00 6.599e+00 8.765e-07 2.252e-01]\n"
          ],
          "name": "stdout"
        }
      ]
    },
    {
      "metadata": {
        "id": "b5Jlle_1HBsH",
        "colab_type": "code",
        "outputId": "4f42fd01-5365-4fb7-96fe-cb7e223eb967",
        "colab": {
          "base_uri": "https://localhost:8080/",
          "height": 265
        }
      },
      "cell_type": "code",
      "source": [
        "features = fit.transform(X1)\n",
        "features\n",
        "# Summarize selected features\n",
        "print(features[0:5,:])\n",
        "X1.columns"
      ],
      "execution_count": 0,
      "outputs": [
        {
          "output_type": "stream",
          "text": [
            "[[0.143 0.    0.005 0.   ]\n",
            " [0.013 0.003 0.003 1.   ]\n",
            " [0.069 0.    0.018 0.   ]\n",
            " [0.286 0.    0.01  0.   ]\n",
            " [0.143 0.    0.004 0.   ]]\n"
          ],
          "name": "stdout"
        },
        {
          "output_type": "execute_result",
          "data": {
            "text/plain": [
              "Index(['loan_amnt', 'funded_amnt', 'funded_amnt_inv', 'int_rate',\n",
              "       'installment', 'annual_inc', 'dti', 'delinq_2yrs', 'inq_last_6mths',\n",
              "       'open_acc',\n",
              "       ...\n",
              "       'addr_state_VA', 'addr_state_VT', 'addr_state_WA', 'addr_state_WI',\n",
              "       'addr_state_WV', 'addr_state_WY', 'initial_list_status_f',\n",
              "       'initial_list_status_w', 'application_type_INDIVIDUAL',\n",
              "       'application_type_JOINT'],\n",
              "      dtype='object', length=167)"
            ]
          },
          "metadata": {
            "tags": []
          },
          "execution_count": 277
        }
      ]
    },
    {
      "metadata": {
        "id": "pQILVZvFHjXA",
        "colab_type": "code",
        "colab": {}
      },
      "cell_type": "code",
      "source": [
        "from sklearn.ensemble import RandomForestClassifier\n",
        "clf = RandomForestClassifier(n_jobs=-1)"
      ],
      "execution_count": 0,
      "outputs": []
    },
    {
      "metadata": {
        "id": "YMQ4RDcyI-Ah",
        "colab_type": "code",
        "outputId": "d288c343-0f7c-4836-efb9-626506520100",
        "colab": {
          "base_uri": "https://localhost:8080/",
          "height": 34
        }
      },
      "cell_type": "code",
      "source": [
        "from mlxtend.feature_selection import SequentialFeatureSelector as sfs\n",
        "y_train.shape"
      ],
      "execution_count": 0,
      "outputs": [
        {
          "output_type": "execute_result",
          "data": {
            "text/plain": [
              "(154163,)"
            ]
          },
          "metadata": {
            "tags": []
          },
          "execution_count": 299
        }
      ]
    },
    {
      "metadata": {
        "id": "sewpSKbDJFQc",
        "colab_type": "code",
        "colab": {}
      },
      "cell_type": "code",
      "source": [
        "sfs1 = sfs(clf,\n",
        "           k_features=5,\n",
        "           forward=True,\n",
        "           floating=False,\n",
        "           verbose=2,\n",
        "           scoring='accuracy',\n",
        "           cv=0)"
      ],
      "execution_count": 0,
      "outputs": []
    },
    {
      "metadata": {
        "id": "BwNGQ4BqH6Q2",
        "colab_type": "code",
        "outputId": "f64352de-9f71-43ba-e909-3711ad30cd35",
        "colab": {
          "base_uri": "https://localhost:8080/",
          "height": 425
        }
      },
      "cell_type": "code",
      "source": [
        "sfs=sfs1.fit(X_train,y_train)"
      ],
      "execution_count": 0,
      "outputs": [
        {
          "output_type": "stream",
          "text": [
            "[Parallel(n_jobs=1)]: Using backend SequentialBackend with 1 concurrent workers.\n",
            "/usr/local/lib/python3.6/dist-packages/sklearn/ensemble/forest.py:246: FutureWarning: The default value of n_estimators will change from 10 in version 0.20 to 100 in 0.22.\n",
            "  \"10 in version 0.20 to 100 in 0.22.\", FutureWarning)\n",
            "[Parallel(n_jobs=1)]: Done   1 out of   1 | elapsed:    3.2s remaining:    0.0s\n",
            "[Parallel(n_jobs=1)]: Done 166 out of 166 | elapsed:  1.9min finished\n",
            "\n",
            "[2019-02-27 08:46:21] Features: 1/5 -- score: 0.9980021146448889[Parallel(n_jobs=1)]: Using backend SequentialBackend with 1 concurrent workers.\n",
            "[Parallel(n_jobs=1)]: Done   1 out of   1 | elapsed:    1.5s remaining:    0.0s\n",
            "[Parallel(n_jobs=1)]: Done 165 out of 165 | elapsed:  5.1min finished\n",
            "\n",
            "[2019-02-27 08:51:26] Features: 2/5 -- score: 0.9996367481172526[Parallel(n_jobs=1)]: Using backend SequentialBackend with 1 concurrent workers.\n",
            "[Parallel(n_jobs=1)]: Done   1 out of   1 | elapsed:    1.4s remaining:    0.0s\n",
            "[Parallel(n_jobs=1)]: Done 164 out of 164 | elapsed:  3.8min finished\n",
            "\n",
            "[2019-02-27 08:55:15] Features: 3/5 -- score: 0.999831347340153[Parallel(n_jobs=1)]: Using backend SequentialBackend with 1 concurrent workers.\n",
            "[Parallel(n_jobs=1)]: Done   1 out of   1 | elapsed:    2.2s remaining:    0.0s\n",
            "[Parallel(n_jobs=1)]: Done 163 out of 163 | elapsed:  5.5min finished\n",
            "\n",
            "[2019-02-27 09:00:46] Features: 4/5 -- score: 0.9999286469516032[Parallel(n_jobs=1)]: Using backend SequentialBackend with 1 concurrent workers.\n",
            "[Parallel(n_jobs=1)]: Done   1 out of   1 | elapsed:    1.8s remaining:    0.0s\n",
            "[Parallel(n_jobs=1)]: Done 162 out of 162 | elapsed:  5.0min finished\n",
            "\n",
            "[2019-02-27 09:05:46] Features: 5/5 -- score: 0.9999351335923665"
          ],
          "name": "stderr"
        }
      ]
    },
    {
      "metadata": {
        "id": "qAJ1TeB-NQHR",
        "colab_type": "code",
        "outputId": "c2da0175-8ef9-4428-eb05-9033e569eb3f",
        "colab": {
          "base_uri": "https://localhost:8080/",
          "height": 34
        }
      },
      "cell_type": "code",
      "source": [
        "feat_cols = list(sfs1.k_feature_idx_)\n",
        "print(feat_cols)"
      ],
      "execution_count": 0,
      "outputs": [
        {
          "output_type": "stream",
          "text": [
            "[1, 2, 18, 23, 76]\n"
          ],
          "name": "stdout"
        }
      ]
    },
    {
      "metadata": {
        "id": "QSQJsU7oPJxB",
        "colab_type": "code",
        "outputId": "344b28b1-60cd-49bd-c8b3-0a4339dcb659",
        "colab": {
          "base_uri": "https://localhost:8080/",
          "height": 70
        }
      },
      "cell_type": "code",
      "source": [
        "X1.columns[feat_cols]"
      ],
      "execution_count": 0,
      "outputs": [
        {
          "output_type": "execute_result",
          "data": {
            "text/plain": [
              "Index(['funded_amnt', 'funded_amnt_inv', 'total_rec_prncp', 'last_pymnt_amnt',\n",
              "       'emp_length_1 year'],\n",
              "      dtype='object')"
            ]
          },
          "metadata": {
            "tags": []
          },
          "execution_count": 286
        }
      ]
    },
    {
      "metadata": {
        "id": "H8vbluIgP08a",
        "colab_type": "code",
        "colab": {}
      },
      "cell_type": "code",
      "source": [
        "clf = RandomForestClassifier(random_state=42, max_depth=4)\n"
      ],
      "execution_count": 0,
      "outputs": []
    },
    {
      "metadata": {
        "id": "1XZiYexUQjwt",
        "colab_type": "code",
        "outputId": "2a6d802c-8ab5-4533-c4fd-8accb7145dee",
        "colab": {
          "base_uri": "https://localhost:8080/",
          "height": 123
        }
      },
      "cell_type": "code",
      "source": [
        "clf.fit(X_train[X1.columns[feat_cols]], y_train)\n",
        "\n"
      ],
      "execution_count": 0,
      "outputs": [
        {
          "output_type": "execute_result",
          "data": {
            "text/plain": [
              "RandomForestClassifier(bootstrap=True, class_weight=None, criterion='gini',\n",
              "            max_depth=4, max_features='auto', max_leaf_nodes=None,\n",
              "            min_impurity_decrease=0.0, min_impurity_split=None,\n",
              "            min_samples_leaf=1, min_samples_split=2,\n",
              "            min_weight_fraction_leaf=0.0, n_estimators=10, n_jobs=None,\n",
              "            oob_score=False, random_state=42, verbose=0, warm_start=False)"
            ]
          },
          "metadata": {
            "tags": []
          },
          "execution_count": 308
        }
      ]
    },
    {
      "metadata": {
        "id": "KmSeXmsKQnBs",
        "colab_type": "code",
        "colab": {}
      },
      "cell_type": "code",
      "source": [
        "y_train_pred = clf.predict(X_train[X1.columns[feat_cols]])"
      ],
      "execution_count": 0,
      "outputs": []
    },
    {
      "metadata": {
        "id": "m2miPYipQw1A",
        "colab_type": "code",
        "outputId": "89883019-1160-47a9-afda-1b21daf0a259",
        "colab": {
          "base_uri": "https://localhost:8080/",
          "height": 52
        }
      },
      "cell_type": "code",
      "source": [
        "from sklearn.metrics import accuracy_score as acc\n",
        "print('Training accuracy on selected features: %.3f' % acc(y_train, y_train_pred))\n",
        "\n",
        "y_test_pred = clf.predict(X_test[X1.columns[feat_cols]])\n",
        "print('Testing accuracy on selected features: %.3f' % acc(y_test, y_test_pred))"
      ],
      "execution_count": 0,
      "outputs": [
        {
          "output_type": "stream",
          "text": [
            "Training accuracy on selected features: 0.986\n",
            "Testing accuracy on selected features: 0.985\n"
          ],
          "name": "stdout"
        }
      ]
    },
    {
      "metadata": {
        "id": "POpRgi98PwOx",
        "colab_type": "code",
        "colab": {}
      },
      "cell_type": "code",
      "source": [
        "sfs2= sfs(clf,\n",
        "           k_features=10,\n",
        "           forward=True,\n",
        "           floating=False,\n",
        "           verbose=2,\n",
        "           scoring='accuracy',\n",
        "           cv=0)"
      ],
      "execution_count": 0,
      "outputs": []
    },
    {
      "metadata": {
        "id": "KezJR3uvQ579",
        "colab_type": "code",
        "outputId": "ac0596c9-0fd8-4c46-9163-003e81061013",
        "colab": {
          "base_uri": "https://localhost:8080/",
          "height": 745
        }
      },
      "cell_type": "code",
      "source": [
        "sfs_model2=sfs2.fit(X_train,y_train)"
      ],
      "execution_count": 0,
      "outputs": [
        {
          "output_type": "stream",
          "text": [
            "[Parallel(n_jobs=1)]: Using backend SequentialBackend with 1 concurrent workers.\n",
            "[Parallel(n_jobs=1)]: Done   1 out of   1 | elapsed:    1.1s remaining:    0.0s\n",
            "[Parallel(n_jobs=1)]: Done 166 out of 166 | elapsed:  1.2min finished\n",
            "\n",
            "[2019-02-27 09:26:06] Features: 1/10 -- score: 0.9129492809558714[Parallel(n_jobs=1)]: Using backend SequentialBackend with 1 concurrent workers.\n",
            "[Parallel(n_jobs=1)]: Done   1 out of   1 | elapsed:    0.9s remaining:    0.0s\n",
            "[Parallel(n_jobs=1)]: Done 165 out of 165 | elapsed:  1.3min finished\n",
            "\n",
            "[2019-02-27 09:27:21] Features: 2/10 -- score: 0.9426321490889513[Parallel(n_jobs=1)]: Using backend SequentialBackend with 1 concurrent workers.\n",
            "[Parallel(n_jobs=1)]: Done   1 out of   1 | elapsed:    0.8s remaining:    0.0s\n",
            "[Parallel(n_jobs=1)]: Done 164 out of 164 | elapsed:  2.3min finished\n",
            "\n",
            "[2019-02-27 09:29:39] Features: 3/10 -- score: 0.9821876844638467[Parallel(n_jobs=1)]: Using backend SequentialBackend with 1 concurrent workers.\n",
            "[Parallel(n_jobs=1)]: Done   1 out of   1 | elapsed:    1.1s remaining:    0.0s\n",
            "[Parallel(n_jobs=1)]: Done 163 out of 163 | elapsed:  2.6min finished\n",
            "\n",
            "[2019-02-27 09:32:15] Features: 4/10 -- score: 0.9874029436375784[Parallel(n_jobs=1)]: Using backend SequentialBackend with 1 concurrent workers.\n",
            "[Parallel(n_jobs=1)]: Done   1 out of   1 | elapsed:    1.0s remaining:    0.0s\n",
            "[Parallel(n_jobs=1)]: Done 162 out of 162 | elapsed:  2.5min finished\n",
            "\n",
            "[2019-02-27 09:34:45] Features: 5/10 -- score: 0.9877726821610893[Parallel(n_jobs=1)]: Using backend SequentialBackend with 1 concurrent workers.\n",
            "[Parallel(n_jobs=1)]: Done   1 out of   1 | elapsed:    1.1s remaining:    0.0s\n",
            "[Parallel(n_jobs=1)]: Done 161 out of 161 | elapsed:  2.7min finished\n",
            "\n",
            "[2019-02-27 09:37:25] Features: 6/10 -- score: 0.9869748253471975[Parallel(n_jobs=1)]: Using backend SequentialBackend with 1 concurrent workers.\n",
            "[Parallel(n_jobs=1)]: Done   1 out of   1 | elapsed:    1.2s remaining:    0.0s\n",
            "[Parallel(n_jobs=1)]: Done 160 out of 160 | elapsed:  2.8min finished\n",
            "\n",
            "[2019-02-27 09:40:15] Features: 7/10 -- score: 0.9864883272899464[Parallel(n_jobs=1)]: Using backend SequentialBackend with 1 concurrent workers.\n",
            "[Parallel(n_jobs=1)]: Done   1 out of   1 | elapsed:    1.2s remaining:    0.0s\n",
            "[Parallel(n_jobs=1)]: Done 159 out of 159 | elapsed:  3.1min finished\n",
            "\n",
            "[2019-02-27 09:43:22] Features: 8/10 -- score: 0.9839196175476606[Parallel(n_jobs=1)]: Using backend SequentialBackend with 1 concurrent workers.\n",
            "[Parallel(n_jobs=1)]: Done   1 out of   1 | elapsed:    1.4s remaining:    0.0s\n",
            "[Parallel(n_jobs=1)]: Done 158 out of 158 | elapsed:  3.7min finished\n",
            "\n",
            "[2019-02-27 09:47:03] Features: 9/10 -- score: 0.9868126593281138[Parallel(n_jobs=1)]: Using backend SequentialBackend with 1 concurrent workers.\n",
            "[Parallel(n_jobs=1)]: Done   1 out of   1 | elapsed:    1.4s remaining:    0.0s\n",
            "[Parallel(n_jobs=1)]: Done 157 out of 157 | elapsed:  3.4min finished\n",
            "\n",
            "[2019-02-27 09:50:26] Features: 10/10 -- score: 0.9860796689218554"
          ],
          "name": "stderr"
        }
      ]
    },
    {
      "metadata": {
        "id": "ypLhloOkRVyo",
        "colab_type": "code",
        "outputId": "bd822b5f-d3a3-4610-f70b-fd63b6984c8d",
        "colab": {
          "base_uri": "https://localhost:8080/",
          "height": 34
        }
      },
      "cell_type": "code",
      "source": [
        "feat_cols = list(sfs2.k_feature_idx_)\n",
        "print(feat_cols)"
      ],
      "execution_count": 0,
      "outputs": [
        {
          "output_type": "stream",
          "text": [
            "[1, 2, 16, 17, 18, 21, 25, 86, 95, 164]\n"
          ],
          "name": "stdout"
        }
      ]
    },
    {
      "metadata": {
        "id": "RDHIpmwChysY",
        "colab_type": "code",
        "outputId": "94bb5b0a-8623-44e3-a8a2-e2e9b6320171",
        "colab": {
          "base_uri": "https://localhost:8080/",
          "height": 87
        }
      },
      "cell_type": "code",
      "source": [
        "X1.columns[feat_cols]"
      ],
      "execution_count": 0,
      "outputs": [
        {
          "output_type": "execute_result",
          "data": {
            "text/plain": [
              "Index(['funded_amnt', 'funded_amnt_inv', 'total_pymnt', 'total_pymnt_inv',\n",
              "       'total_rec_prncp', 'recoveries', 'policy_code', 'emp_length_< 1 year',\n",
              "       'verification_status_Verified', 'initial_list_status_w'],\n",
              "      dtype='object')"
            ]
          },
          "metadata": {
            "tags": []
          },
          "execution_count": 305
        }
      ]
    },
    {
      "metadata": {
        "id": "3y72nFd3iESj",
        "colab_type": "code",
        "colab": {}
      },
      "cell_type": "code",
      "source": [
        "y_train_pred = clf.predict(X_train[X1.columns[feat_cols]])"
      ],
      "execution_count": 0,
      "outputs": []
    },
    {
      "metadata": {
        "id": "Tltj2wT3iQIL",
        "colab_type": "code",
        "outputId": "ab535fc5-8dbf-41d8-d467-b0c95291ed1f",
        "colab": {
          "base_uri": "https://localhost:8080/",
          "height": 52
        }
      },
      "cell_type": "code",
      "source": [
        "from sklearn.metrics import accuracy_score as acc\n",
        "print('Training accuracy on selected features: %.3f' % acc(y_train, y_train_pred))\n",
        "\n",
        "y_test_pred = clf.predict(X_test[X1.columns[feat_cols]])\n",
        "print('Testing accuracy on selected features: %.3f' % acc(y_test, y_test_pred))"
      ],
      "execution_count": 0,
      "outputs": [
        {
          "output_type": "stream",
          "text": [
            "Training accuracy on selected features: 0.985\n",
            "Testing accuracy on selected features: 0.985\n"
          ],
          "name": "stdout"
        }
      ]
    },
    {
      "metadata": {
        "id": "L9BPb3JYkgEi",
        "colab_type": "code",
        "colab": {}
      },
      "cell_type": "code",
      "source": [
        ""
      ],
      "execution_count": 0,
      "outputs": []
    }
  ]
}