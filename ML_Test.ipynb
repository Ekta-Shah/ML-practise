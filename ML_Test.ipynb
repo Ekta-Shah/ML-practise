{
  "cells": [
    {
      "metadata": {
        "trusted": true
      },
      "cell_type": "code",
      "source": "import pandas as pd",
      "execution_count": 1,
      "outputs": []
    },
    {
      "metadata": {
        "trusted": true
      },
      "cell_type": "code",
      "source": "import numpy as np",
      "execution_count": 2,
      "outputs": []
    },
    {
      "metadata": {
        "trusted": true
      },
      "cell_type": "code",
      "source": "import matplotlib.pyplot as plt\nimport seaborn as sns",
      "execution_count": 76,
      "outputs": []
    },
    {
      "metadata": {
        "trusted": true
      },
      "cell_type": "code",
      "source": "df = pd.read_csv(\"car data.csv\")",
      "execution_count": 77,
      "outputs": []
    },
    {
      "metadata": {
        "trusted": true
      },
      "cell_type": "code",
      "source": "df.head()",
      "execution_count": 78,
      "outputs": [
        {
          "output_type": "execute_result",
          "execution_count": 78,
          "data": {
            "text/html": "<div>\n<style scoped>\n    .dataframe tbody tr th:only-of-type {\n        vertical-align: middle;\n    }\n\n    .dataframe tbody tr th {\n        vertical-align: top;\n    }\n\n    .dataframe thead th {\n        text-align: right;\n    }\n</style>\n<table border=\"1\" class=\"dataframe\">\n  <thead>\n    <tr style=\"text-align: right;\">\n      <th></th>\n      <th>Car_Name</th>\n      <th>Year</th>\n      <th>Selling_Price</th>\n      <th>Present_Price</th>\n      <th>Kms_Driven</th>\n      <th>Fuel_Type</th>\n      <th>Seller_Type</th>\n      <th>Transmission</th>\n      <th>Owner</th>\n    </tr>\n  </thead>\n  <tbody>\n    <tr>\n      <th>0</th>\n      <td>ritz</td>\n      <td>2014</td>\n      <td>3.35</td>\n      <td>5.59</td>\n      <td>27000</td>\n      <td>Petrol</td>\n      <td>Dealer</td>\n      <td>Manual</td>\n      <td>0</td>\n    </tr>\n    <tr>\n      <th>1</th>\n      <td>sx4</td>\n      <td>2013</td>\n      <td>4.75</td>\n      <td>9.54</td>\n      <td>43000</td>\n      <td>Diesel</td>\n      <td>Dealer</td>\n      <td>Manual</td>\n      <td>0</td>\n    </tr>\n    <tr>\n      <th>2</th>\n      <td>ciaz</td>\n      <td>2017</td>\n      <td>7.25</td>\n      <td>9.85</td>\n      <td>6900</td>\n      <td>Petrol</td>\n      <td>Dealer</td>\n      <td>Manual</td>\n      <td>0</td>\n    </tr>\n    <tr>\n      <th>3</th>\n      <td>wagon r</td>\n      <td>2011</td>\n      <td>2.85</td>\n      <td>4.15</td>\n      <td>5200</td>\n      <td>Petrol</td>\n      <td>Dealer</td>\n      <td>Manual</td>\n      <td>0</td>\n    </tr>\n    <tr>\n      <th>4</th>\n      <td>swift</td>\n      <td>2014</td>\n      <td>4.60</td>\n      <td>6.87</td>\n      <td>42450</td>\n      <td>Diesel</td>\n      <td>Dealer</td>\n      <td>Manual</td>\n      <td>0</td>\n    </tr>\n  </tbody>\n</table>\n</div>",
            "text/plain": "  Car_Name  Year  Selling_Price  Present_Price  Kms_Driven Fuel_Type  \\\n0     ritz  2014           3.35           5.59       27000    Petrol   \n1      sx4  2013           4.75           9.54       43000    Diesel   \n2     ciaz  2017           7.25           9.85        6900    Petrol   \n3  wagon r  2011           2.85           4.15        5200    Petrol   \n4    swift  2014           4.60           6.87       42450    Diesel   \n\n  Seller_Type Transmission  Owner  \n0      Dealer       Manual      0  \n1      Dealer       Manual      0  \n2      Dealer       Manual      0  \n3      Dealer       Manual      0  \n4      Dealer       Manual      0  "
          },
          "metadata": {}
        }
      ]
    },
    {
      "metadata": {
        "trusted": true
      },
      "cell_type": "code",
      "source": "df.isnull().sum()",
      "execution_count": 79,
      "outputs": [
        {
          "output_type": "execute_result",
          "execution_count": 79,
          "data": {
            "text/plain": "Car_Name         0\nYear             0\nSelling_Price    0\nPresent_Price    0\nKms_Driven       0\nFuel_Type        0\nSeller_Type      0\nTransmission     0\nOwner            0\ndtype: int64"
          },
          "metadata": {}
        }
      ]
    },
    {
      "metadata": {
        "trusted": true
      },
      "cell_type": "code",
      "source": "df[\"Owner\"].value_counts()",
      "execution_count": 80,
      "outputs": [
        {
          "output_type": "execute_result",
          "execution_count": 80,
          "data": {
            "text/plain": "0    290\n1     10\n3      1\nName: Owner, dtype: int64"
          },
          "metadata": {}
        }
      ]
    },
    {
      "metadata": {
        "trusted": true
      },
      "cell_type": "code",
      "source": "df=df.drop([\"Owner\",\"Car_Name\"],1)",
      "execution_count": 81,
      "outputs": []
    },
    {
      "metadata": {
        "trusted": true
      },
      "cell_type": "code",
      "source": "numerical=df.select_dtypes(include=np.number)\ncategorical=df.select_dtypes(exclude=np.number)\ncategorical=pd.get_dummies(categorical)\ndf=pd.concat([numerical,categorical],1)\nsns.heatmap(numerical.corr(),annot=True)",
      "execution_count": 82,
      "outputs": [
        {
          "output_type": "execute_result",
          "execution_count": 82,
          "data": {
            "text/plain": "<matplotlib.axes._subplots.AxesSubplot at 0x7fd4a65d8390>"
          },
          "metadata": {}
        },
        {
          "output_type": "display_data",
          "data": {
            "image/png": "[encoded data removed]",
            "text/plain": "<Figure size 432x288 with 2 Axes>"
          },
          "metadata": {
            "needs_background": "light"
          }
        }
      ]
    },
    {
      "metadata": {
        "trusted": true
      },
      "cell_type": "code",
      "source": "df.head()",
      "execution_count": 83,
      "outputs": [
        {
          "output_type": "execute_result",
          "execution_count": 83,
          "data": {
            "text/html": "<div>\n<style scoped>\n    .dataframe tbody tr th:only-of-type {\n        vertical-align: middle;\n    }\n\n    .dataframe tbody tr th {\n        vertical-align: top;\n    }\n\n    .dataframe thead th {\n        text-align: right;\n    }\n</style>\n<table border=\"1\" class=\"dataframe\">\n  <thead>\n    <tr style=\"text-align: right;\">\n      <th></th>\n      <th>Year</th>\n      <th>Selling_Price</th>\n      <th>Present_Price</th>\n      <th>Kms_Driven</th>\n      <th>Fuel_Type_CNG</th>\n      <th>Fuel_Type_Diesel</th>\n      <th>Fuel_Type_Petrol</th>\n      <th>Seller_Type_Dealer</th>\n      <th>Seller_Type_Individual</th>\n      <th>Transmission_Automatic</th>\n      <th>Transmission_Manual</th>\n    </tr>\n  </thead>\n  <tbody>\n    <tr>\n      <th>0</th>\n      <td>2014</td>\n      <td>3.35</td>\n      <td>5.59</td>\n      <td>27000</td>\n      <td>0</td>\n      <td>0</td>\n      <td>1</td>\n      <td>1</td>\n      <td>0</td>\n      <td>0</td>\n      <td>1</td>\n    </tr>\n    <tr>\n      <th>1</th>\n      <td>2013</td>\n      <td>4.75</td>\n      <td>9.54</td>\n      <td>43000</td>\n      <td>0</td>\n      <td>1</td>\n      <td>0</td>\n      <td>1</td>\n      <td>0</td>\n      <td>0</td>\n      <td>1</td>\n    </tr>\n    <tr>\n      <th>2</th>\n      <td>2017</td>\n      <td>7.25</td>\n      <td>9.85</td>\n      <td>6900</td>\n      <td>0</td>\n      <td>0</td>\n      <td>1</td>\n      <td>1</td>\n      <td>0</td>\n      <td>0</td>\n      <td>1</td>\n    </tr>\n    <tr>\n      <th>3</th>\n      <td>2011</td>\n      <td>2.85</td>\n      <td>4.15</td>\n      <td>5200</td>\n      <td>0</td>\n      <td>0</td>\n      <td>1</td>\n      <td>1</td>\n      <td>0</td>\n      <td>0</td>\n      <td>1</td>\n    </tr>\n    <tr>\n      <th>4</th>\n      <td>2014</td>\n      <td>4.60</td>\n      <td>6.87</td>\n      <td>42450</td>\n      <td>0</td>\n      <td>1</td>\n      <td>0</td>\n      <td>1</td>\n      <td>0</td>\n      <td>0</td>\n      <td>1</td>\n    </tr>\n  </tbody>\n</table>\n</div>",
            "text/plain": "   Year  Selling_Price  Present_Price  Kms_Driven  Fuel_Type_CNG  \\\n0  2014           3.35           5.59       27000              0   \n1  2013           4.75           9.54       43000              0   \n2  2017           7.25           9.85        6900              0   \n3  2011           2.85           4.15        5200              0   \n4  2014           4.60           6.87       42450              0   \n\n   Fuel_Type_Diesel  Fuel_Type_Petrol  Seller_Type_Dealer  \\\n0                 0                 1                   1   \n1                 1                 0                   1   \n2                 0                 1                   1   \n3                 0                 1                   1   \n4                 1                 0                   1   \n\n   Seller_Type_Individual  Transmission_Automatic  Transmission_Manual  \n0                       0                       0                    1  \n1                       0                       0                    1  \n2                       0                       0                    1  \n3                       0                       0                    1  \n4                       0                       0                    1  "
          },
          "metadata": {}
        }
      ]
    },
    {
      "metadata": {
        "trusted": true
      },
      "cell_type": "code",
      "source": "X=df.drop([\"Selling_Price\"],1)\ny=df[\"Selling_Price\"]",
      "execution_count": 117,
      "outputs": []
    },
    {
      "metadata": {
        "trusted": true
      },
      "cell_type": "code",
      "source": "X.head()",
      "execution_count": 118,
      "outputs": [
        {
          "output_type": "execute_result",
          "execution_count": 118,
          "data": {
            "text/html": "<div>\n<style scoped>\n    .dataframe tbody tr th:only-of-type {\n        vertical-align: middle;\n    }\n\n    .dataframe tbody tr th {\n        vertical-align: top;\n    }\n\n    .dataframe thead th {\n        text-align: right;\n    }\n</style>\n<table border=\"1\" class=\"dataframe\">\n  <thead>\n    <tr style=\"text-align: right;\">\n      <th></th>\n      <th>Year</th>\n      <th>Present_Price</th>\n      <th>Kms_Driven</th>\n      <th>Fuel_Type_CNG</th>\n      <th>Fuel_Type_Diesel</th>\n      <th>Fuel_Type_Petrol</th>\n      <th>Seller_Type_Dealer</th>\n      <th>Seller_Type_Individual</th>\n      <th>Transmission_Automatic</th>\n      <th>Transmission_Manual</th>\n    </tr>\n  </thead>\n  <tbody>\n    <tr>\n      <th>0</th>\n      <td>2014</td>\n      <td>5.59</td>\n      <td>27000</td>\n      <td>0</td>\n      <td>0</td>\n      <td>1</td>\n      <td>1</td>\n      <td>0</td>\n      <td>0</td>\n      <td>1</td>\n    </tr>\n    <tr>\n      <th>1</th>\n      <td>2013</td>\n      <td>9.54</td>\n      <td>43000</td>\n      <td>0</td>\n      <td>1</td>\n      <td>0</td>\n      <td>1</td>\n      <td>0</td>\n      <td>0</td>\n      <td>1</td>\n    </tr>\n    <tr>\n      <th>2</th>\n      <td>2017</td>\n      <td>9.85</td>\n      <td>6900</td>\n      <td>0</td>\n      <td>0</td>\n      <td>1</td>\n      <td>1</td>\n      <td>0</td>\n      <td>0</td>\n      <td>1</td>\n    </tr>\n    <tr>\n      <th>3</th>\n      <td>2011</td>\n      <td>4.15</td>\n      <td>5200</td>\n      <td>0</td>\n      <td>0</td>\n      <td>1</td>\n      <td>1</td>\n      <td>0</td>\n      <td>0</td>\n      <td>1</td>\n    </tr>\n    <tr>\n      <th>4</th>\n      <td>2014</td>\n      <td>6.87</td>\n      <td>42450</td>\n      <td>0</td>\n      <td>1</td>\n      <td>0</td>\n      <td>1</td>\n      <td>0</td>\n      <td>0</td>\n      <td>1</td>\n    </tr>\n  </tbody>\n</table>\n</div>",
            "text/plain": "   Year  Present_Price  Kms_Driven  Fuel_Type_CNG  Fuel_Type_Diesel  \\\n0  2014           5.59       27000              0                 0   \n1  2013           9.54       43000              0                 1   \n2  2017           9.85        6900              0                 0   \n3  2011           4.15        5200              0                 0   \n4  2014           6.87       42450              0                 1   \n\n   Fuel_Type_Petrol  Seller_Type_Dealer  Seller_Type_Individual  \\\n0                 1                   1                       0   \n1                 0                   1                       0   \n2                 1                   1                       0   \n3                 1                   1                       0   \n4                 0                   1                       0   \n\n   Transmission_Automatic  Transmission_Manual  \n0                       0                    1  \n1                       0                    1  \n2                       0                    1  \n3                       0                    1  \n4                       0                    1  "
          },
          "metadata": {}
        }
      ]
    },
    {
      "metadata": {
        "trusted": true
      },
      "cell_type": "code",
      "source": "y.head()",
      "execution_count": 119,
      "outputs": [
        {
          "output_type": "execute_result",
          "execution_count": 119,
          "data": {
            "text/plain": "0    3.35\n1    4.75\n2    7.25\n3    2.85\n4    4.60\nName: Selling_Price, dtype: float64"
          },
          "metadata": {}
        }
      ]
    },
    {
      "metadata": {
        "trusted": true
      },
      "cell_type": "code",
      "source": "###Normalization\nfrom sklearn.preprocessing import MinMaxScaler\nscaler=MinMaxScaler()\ncols=list(X)\nX=scaler.fit_transform(X)\nX=pd.DataFrame(X,columns=cols)\nX.head()\n",
      "execution_count": 120,
      "outputs": [
        {
          "output_type": "execute_result",
          "execution_count": 120,
          "data": {
            "text/html": "<div>\n<style scoped>\n    .dataframe tbody tr th:only-of-type {\n        vertical-align: middle;\n    }\n\n    .dataframe tbody tr th {\n        vertical-align: top;\n    }\n\n    .dataframe thead th {\n        text-align: right;\n    }\n</style>\n<table border=\"1\" class=\"dataframe\">\n  <thead>\n    <tr style=\"text-align: right;\">\n      <th></th>\n      <th>Year</th>\n      <th>Present_Price</th>\n      <th>Kms_Driven</th>\n      <th>Fuel_Type_CNG</th>\n      <th>Fuel_Type_Diesel</th>\n      <th>Fuel_Type_Petrol</th>\n      <th>Seller_Type_Dealer</th>\n      <th>Seller_Type_Individual</th>\n      <th>Transmission_Automatic</th>\n      <th>Transmission_Manual</th>\n    </tr>\n  </thead>\n  <tbody>\n    <tr>\n      <th>0</th>\n      <td>0.733333</td>\n      <td>0.057109</td>\n      <td>0.053053</td>\n      <td>0.0</td>\n      <td>0.0</td>\n      <td>1.0</td>\n      <td>1.0</td>\n      <td>0.0</td>\n      <td>0.0</td>\n      <td>1.0</td>\n    </tr>\n    <tr>\n      <th>1</th>\n      <td>0.666667</td>\n      <td>0.099913</td>\n      <td>0.085085</td>\n      <td>0.0</td>\n      <td>1.0</td>\n      <td>0.0</td>\n      <td>1.0</td>\n      <td>0.0</td>\n      <td>0.0</td>\n      <td>1.0</td>\n    </tr>\n    <tr>\n      <th>2</th>\n      <td>0.933333</td>\n      <td>0.103273</td>\n      <td>0.012813</td>\n      <td>0.0</td>\n      <td>0.0</td>\n      <td>1.0</td>\n      <td>1.0</td>\n      <td>0.0</td>\n      <td>0.0</td>\n      <td>1.0</td>\n    </tr>\n    <tr>\n      <th>3</th>\n      <td>0.533333</td>\n      <td>0.041504</td>\n      <td>0.009409</td>\n      <td>0.0</td>\n      <td>0.0</td>\n      <td>1.0</td>\n      <td>1.0</td>\n      <td>0.0</td>\n      <td>0.0</td>\n      <td>1.0</td>\n    </tr>\n    <tr>\n      <th>4</th>\n      <td>0.733333</td>\n      <td>0.070980</td>\n      <td>0.083984</td>\n      <td>0.0</td>\n      <td>1.0</td>\n      <td>0.0</td>\n      <td>1.0</td>\n      <td>0.0</td>\n      <td>0.0</td>\n      <td>1.0</td>\n    </tr>\n  </tbody>\n</table>\n</div>",
            "text/plain": "       Year  Present_Price  Kms_Driven  Fuel_Type_CNG  Fuel_Type_Diesel  \\\n0  0.733333       0.057109    0.053053            0.0               0.0   \n1  0.666667       0.099913    0.085085            0.0               1.0   \n2  0.933333       0.103273    0.012813            0.0               0.0   \n3  0.533333       0.041504    0.009409            0.0               0.0   \n4  0.733333       0.070980    0.083984            0.0               1.0   \n\n   Fuel_Type_Petrol  Seller_Type_Dealer  Seller_Type_Individual  \\\n0               1.0                 1.0                     0.0   \n1               0.0                 1.0                     0.0   \n2               1.0                 1.0                     0.0   \n3               1.0                 1.0                     0.0   \n4               0.0                 1.0                     0.0   \n\n   Transmission_Automatic  Transmission_Manual  \n0                     0.0                  1.0  \n1                     0.0                  1.0  \n2                     0.0                  1.0  \n3                     0.0                  1.0  \n4                     0.0                  1.0  "
          },
          "metadata": {}
        }
      ]
    },
    {
      "metadata": {
        "trusted": true
      },
      "cell_type": "code",
      "source": "#train-test-split\nfrom sklearn.model_selection import train_test_split as tts\nfrom sklearn.feature_selection import RFE\nfrom sklearn.linear_model import LinearRegression\nfrom sklearn.metrics import r2_score, mean_squared_error, mean_absolute_error\nfrom sklearn.neighbors import KNeighborsRegressor\nfrom sklearn.model_selection import cross_val_score,GridSearchCV\nfrom sklearn.linear_model import LinearRegression, RidgeCV, LassoCV, ElasticNetCV",
      "execution_count": 164,
      "outputs": []
    },
    {
      "metadata": {
        "trusted": true
      },
      "cell_type": "code",
      "source": "x_train, x_test, y_train, y_test = tts(X,y,test_size=0.2,random_state=0)",
      "execution_count": 122,
      "outputs": []
    },
    {
      "metadata": {
        "trusted": true
      },
      "cell_type": "code",
      "source": "lnr=LinearRegression()",
      "execution_count": 123,
      "outputs": []
    },
    {
      "metadata": {
        "trusted": true
      },
      "cell_type": "code",
      "source": "lnr.fit(x_train,y_train)",
      "execution_count": 124,
      "outputs": [
        {
          "output_type": "execute_result",
          "execution_count": 124,
          "data": {
            "text/plain": "LinearRegression(copy_X=True, fit_intercept=True, n_jobs=1, normalize=False)"
          },
          "metadata": {}
        }
      ]
    },
    {
      "metadata": {
        "trusted": true
      },
      "cell_type": "code",
      "source": "y_pred=lnr.predict(x_test)",
      "execution_count": 125,
      "outputs": []
    },
    {
      "metadata": {
        "trusted": true
      },
      "cell_type": "code",
      "source": "r2_score(y_pred,y_test)",
      "execution_count": 126,
      "outputs": [
        {
          "output_type": "execute_result",
          "execution_count": 126,
          "data": {
            "text/plain": "0.8950545945788791"
          },
          "metadata": {}
        }
      ]
    },
    {
      "metadata": {
        "trusted": true
      },
      "cell_type": "code",
      "source": "knnr=KNeighborsRegressor(n_neighbors=3)\nknnr.fit(x_train,y_train)\ny_pred=knnr.predict(x_test)\nprint(r2_score(y_pred,y_test))\ncross_val_score(lnr,x_train,y_train,cv=10,scoring=\"r2\").mean()",
      "execution_count": 127,
      "outputs": [
        {
          "output_type": "stream",
          "text": "0.869329235729106\n",
          "name": "stdout"
        },
        {
          "output_type": "execute_result",
          "execution_count": 127,
          "data": {
            "text/plain": "0.7776070538245123"
          },
          "metadata": {}
        }
      ]
    },
    {
      "metadata": {
        "trusted": true
      },
      "cell_type": "code",
      "source": "params={\"n_neighbors\":np.arange(1,16)}\nknn_cv=GridSearchCV(knnr,param_grid=params,cv=10,scoring=\"r2\")\nknn_cv.fit(x_train,y_train)\nknn_cv.best_params_\nknn_cv.best_score_",
      "execution_count": 128,
      "outputs": [
        {
          "output_type": "execute_result",
          "execution_count": 128,
          "data": {
            "text/plain": "0.8520925034712802"
          },
          "metadata": {}
        }
      ]
    },
    {
      "metadata": {
        "trusted": true
      },
      "cell_type": "code",
      "source": "#####Feature Selection\nlnr=LinearRegression()",
      "execution_count": 129,
      "outputs": []
    },
    {
      "metadata": {
        "trusted": true
      },
      "cell_type": "code",
      "source": "features_rfe=RFE(lnr,5)",
      "execution_count": 130,
      "outputs": []
    },
    {
      "metadata": {
        "trusted": true
      },
      "cell_type": "code",
      "source": "features_rfe.fit(X,y)\nfeatures_rfe.ranking_",
      "execution_count": 131,
      "outputs": [
        {
          "output_type": "execute_result",
          "execution_count": 131,
          "data": {
            "text/plain": "array([1, 1, 1, 4, 1, 6, 5, 2, 3, 1])"
          },
          "metadata": {}
        }
      ]
    },
    {
      "metadata": {
        "trusted": true
      },
      "cell_type": "code",
      "source": "cols=pd.Series(cols)\nf1=cols[features_rfe.support_]\nX1=X[f1]",
      "execution_count": 132,
      "outputs": []
    },
    {
      "metadata": {
        "trusted": true
      },
      "cell_type": "code",
      "source": "x_train, x_test, y_train, y_test = tts(X1,y,test_size=0.2,random_state=0)\nlnr=LinearRegression()\nlnr.fit(x_train,y_train)\nx_train.head()",
      "execution_count": 133,
      "outputs": [
        {
          "output_type": "execute_result",
          "execution_count": 133,
          "data": {
            "text/html": "<div>\n<style scoped>\n    .dataframe tbody tr th:only-of-type {\n        vertical-align: middle;\n    }\n\n    .dataframe tbody tr th {\n        vertical-align: top;\n    }\n\n    .dataframe thead th {\n        text-align: right;\n    }\n</style>\n<table border=\"1\" class=\"dataframe\">\n  <thead>\n    <tr style=\"text-align: right;\">\n      <th></th>\n      <th>Year</th>\n      <th>Present_Price</th>\n      <th>Kms_Driven</th>\n      <th>Fuel_Type_Diesel</th>\n      <th>Transmission_Manual</th>\n    </tr>\n  </thead>\n  <tbody>\n    <tr>\n      <th>74</th>\n      <td>0.733333</td>\n      <td>0.093303</td>\n      <td>0.165165</td>\n      <td>1.0</td>\n      <td>1.0</td>\n    </tr>\n    <tr>\n      <th>239</th>\n      <td>0.600000</td>\n      <td>0.044538</td>\n      <td>0.046464</td>\n      <td>0.0</td>\n      <td>1.0</td>\n    </tr>\n    <tr>\n      <th>64</th>\n      <td>0.933333</td>\n      <td>0.389142</td>\n      <td>0.011011</td>\n      <td>1.0</td>\n      <td>0.0</td>\n    </tr>\n    <tr>\n      <th>294</th>\n      <td>0.733333</td>\n      <td>0.070221</td>\n      <td>0.065103</td>\n      <td>0.0</td>\n      <td>1.0</td>\n    </tr>\n    <tr>\n      <th>286</th>\n      <td>0.866667</td>\n      <td>0.082141</td>\n      <td>0.056194</td>\n      <td>0.0</td>\n      <td>1.0</td>\n    </tr>\n  </tbody>\n</table>\n</div>",
            "text/plain": "         Year  Present_Price  Kms_Driven  Fuel_Type_Diesel  \\\n74   0.733333       0.093303    0.165165               1.0   \n239  0.600000       0.044538    0.046464               0.0   \n64   0.933333       0.389142    0.011011               1.0   \n294  0.733333       0.070221    0.065103               0.0   \n286  0.866667       0.082141    0.056194               0.0   \n\n     Transmission_Manual  \n74                   1.0  \n239                  1.0  \n64                   0.0  \n294                  1.0  \n286                  1.0  "
          },
          "metadata": {}
        }
      ]
    },
    {
      "metadata": {
        "trusted": true
      },
      "cell_type": "code",
      "source": "y_pred=lnr.predict(x_test)",
      "execution_count": 134,
      "outputs": []
    },
    {
      "metadata": {
        "trusted": true
      },
      "cell_type": "code",
      "source": "r2_score(y_pred,y_test)",
      "execution_count": 135,
      "outputs": [
        {
          "output_type": "execute_result",
          "execution_count": 135,
          "data": {
            "text/plain": "0.8796390544713537"
          },
          "metadata": {}
        }
      ]
    },
    {
      "metadata": {
        "trusted": true
      },
      "cell_type": "code",
      "source": "knnr=KNeighborsRegressor(n_neighbors=3)\nknnr.fit(x_train,y_train)\ny_pred=knnr.predict(x_test)\nprint(r2_score(y_pred,y_test))\ncross_val_score(lnr,x_train,y_train,cv=10,scoring=\"r2\").mean()",
      "execution_count": 136,
      "outputs": [
        {
          "output_type": "stream",
          "text": "0.8614179709755854\n",
          "name": "stdout"
        },
        {
          "output_type": "execute_result",
          "execution_count": 136,
          "data": {
            "text/plain": "0.77217738622031"
          },
          "metadata": {}
        }
      ]
    },
    {
      "metadata": {
        "trusted": true
      },
      "cell_type": "code",
      "source": "params={\"n_neighbors\":np.arange(1,16)}",
      "execution_count": 137,
      "outputs": []
    },
    {
      "metadata": {
        "trusted": true
      },
      "cell_type": "code",
      "source": "knn_cv=GridSearchCV(knnr,param_grid=params,cv=10,scoring=\"r2\")",
      "execution_count": 138,
      "outputs": []
    },
    {
      "metadata": {
        "trusted": true
      },
      "cell_type": "code",
      "source": "knn_cv.fit(x_train,y_train)",
      "execution_count": 139,
      "outputs": [
        {
          "output_type": "execute_result",
          "execution_count": 139,
          "data": {
            "text/plain": "GridSearchCV(cv=10, error_score='raise',\n       estimator=KNeighborsRegressor(algorithm='auto', leaf_size=30, metric='minkowski',\n          metric_params=None, n_jobs=1, n_neighbors=3, p=2,\n          weights='uniform'),\n       fit_params=None, iid=True, n_jobs=1,\n       param_grid={'n_neighbors': array([ 1,  2,  3,  4,  5,  6,  7,  8,  9, 10, 11, 12, 13, 14, 15])},\n       pre_dispatch='2*n_jobs', refit=True, return_train_score='warn',\n       scoring='r2', verbose=0)"
          },
          "metadata": {}
        }
      ]
    },
    {
      "metadata": {
        "trusted": true
      },
      "cell_type": "code",
      "source": "knn_cv.best_params_",
      "execution_count": 140,
      "outputs": [
        {
          "output_type": "execute_result",
          "execution_count": 140,
          "data": {
            "text/plain": "{'n_neighbors': 3}"
          },
          "metadata": {}
        }
      ]
    },
    {
      "metadata": {
        "trusted": true
      },
      "cell_type": "code",
      "source": "knn_cv.best_score_",
      "execution_count": 141,
      "outputs": [
        {
          "output_type": "execute_result",
          "execution_count": 141,
          "data": {
            "text/plain": "0.8416762388661279"
          },
          "metadata": {}
        }
      ]
    },
    {
      "metadata": {
        "trusted": true
      },
      "cell_type": "code",
      "source": "###Feature Selection Method 2",
      "execution_count": 202,
      "outputs": []
    },
    {
      "metadata": {
        "trusted": true
      },
      "cell_type": "code",
      "source": "import statsmodels.api as sm\nX = sm.add_constant(X) #c in y=mx+c\nmodel = sm.OLS(y,X).fit()\nmodel.summary()",
      "execution_count": 144,
      "outputs": [
        {
          "output_type": "execute_result",
          "execution_count": 144,
          "data": {
            "text/html": "<table class=\"simpletable\">\n<caption>OLS Regression Results</caption>\n<tr>\n  <th>Dep. Variable:</th>      <td>Selling_Price</td>  <th>  R-squared:         </th> <td>   0.882</td> \n</tr>\n<tr>\n  <th>Model:</th>                   <td>OLS</td>       <th>  Adj. R-squared:    </th> <td>   0.879</td> \n</tr>\n<tr>\n  <th>Method:</th>             <td>Least Squares</td>  <th>  F-statistic:       </th> <td>   311.5</td> \n</tr>\n<tr>\n  <th>Date:</th>             <td>Sun, 24 Mar 2019</td> <th>  Prob (F-statistic):</th> <td>1.10e-131</td>\n</tr>\n<tr>\n  <th>Time:</th>                 <td>16:45:14</td>     <th>  Log-Likelihood:    </th> <td> -594.93</td> \n</tr>\n<tr>\n  <th>No. Observations:</th>      <td>   301</td>      <th>  AIC:               </th> <td>   1206.</td> \n</tr>\n<tr>\n  <th>Df Residuals:</th>          <td>   293</td>      <th>  BIC:               </th> <td>   1236.</td> \n</tr>\n<tr>\n  <th>Df Model:</th>              <td>     7</td>      <th>                     </th>     <td> </td>    \n</tr>\n<tr>\n  <th>Covariance Type:</th>      <td>nonrobust</td>    <th>                     </th>     <td> </td>    \n</tr>\n</table>\n<table class=\"simpletable\">\n<tr>\n             <td></td>               <th>coef</th>     <th>std err</th>      <th>t</th>      <th>P>|t|</th>  <th>[0.025</th>    <th>0.975]</th>  \n</tr>\n<tr>\n  <th>const</th>                  <td>   -0.9175</td> <td>    0.312</td> <td>   -2.942</td> <td> 0.004</td> <td>   -1.531</td> <td>   -0.304</td>\n</tr>\n<tr>\n  <th>Year</th>                   <td>    6.0451</td> <td>    0.639</td> <td>    9.465</td> <td> 0.000</td> <td>    4.788</td> <td>    7.302</td>\n</tr>\n<tr>\n  <th>Present_Price</th>          <td>   40.2023</td> <td>    1.476</td> <td>   27.237</td> <td> 0.000</td> <td>   37.297</td> <td>   43.107</td>\n</tr>\n<tr>\n  <th>Kms_Driven</th>             <td>   -3.4987</td> <td>    1.617</td> <td>   -2.163</td> <td> 0.031</td> <td>   -6.682</td> <td>   -0.316</td>\n</tr>\n<tr>\n  <th>Fuel_Type_CNG</th>          <td>   -1.3256</td> <td>    0.902</td> <td>   -1.470</td> <td> 0.143</td> <td>   -3.101</td> <td>    0.450</td>\n</tr>\n<tr>\n  <th>Fuel_Type_Diesel</th>       <td>    1.1417</td> <td>    0.426</td> <td>    2.683</td> <td> 0.008</td> <td>    0.304</td> <td>    1.979</td>\n</tr>\n<tr>\n  <th>Fuel_Type_Petrol</th>       <td>   -0.7336</td> <td>    0.382</td> <td>   -1.920</td> <td> 0.056</td> <td>   -1.486</td> <td>    0.019</td>\n</tr>\n<tr>\n  <th>Seller_Type_Dealer</th>     <td>    0.1278</td> <td>    0.206</td> <td>    0.621</td> <td> 0.535</td> <td>   -0.277</td> <td>    0.533</td>\n</tr>\n<tr>\n  <th>Seller_Type_Individual</th> <td>   -1.0453</td> <td>    0.197</td> <td>   -5.304</td> <td> 0.000</td> <td>   -1.433</td> <td>   -0.657</td>\n</tr>\n<tr>\n  <th>Transmission_Automatic</th> <td>    0.2566</td> <td>    0.261</td> <td>    0.984</td> <td> 0.326</td> <td>   -0.257</td> <td>    0.770</td>\n</tr>\n<tr>\n  <th>Transmission_Manual</th>    <td>   -1.1741</td> <td>    0.186</td> <td>   -6.314</td> <td> 0.000</td> <td>   -1.540</td> <td>   -0.808</td>\n</tr>\n</table>\n<table class=\"simpletable\">\n<tr>\n  <th>Omnibus:</th>       <td>93.414</td> <th>  Durbin-Watson:     </th> <td>   1.785</td> \n</tr>\n<tr>\n  <th>Prob(Omnibus):</th> <td> 0.000</td> <th>  Jarque-Bera (JB):  </th> <td> 697.351</td> \n</tr>\n<tr>\n  <th>Skew:</th>          <td> 1.044</td> <th>  Prob(JB):          </th> <td>3.73e-152</td>\n</tr>\n<tr>\n  <th>Kurtosis:</th>      <td>10.158</td> <th>  Cond. No.          </th> <td>3.16e+16</td> \n</tr>\n</table><br/><br/>Warnings:<br/>[1] Standard Errors assume that the covariance matrix of the errors is correctly specified.<br/>[2] The smallest eigenvalue is 1.07e-30. This might indicate that there are<br/>strong multicollinearity problems or that the design matrix is singular.",
            "text/plain": "<class 'statsmodels.iolib.summary.Summary'>\n\"\"\"\n                            OLS Regression Results                            \n==============================================================================\nDep. Variable:          Selling_Price   R-squared:                       0.882\nModel:                            OLS   Adj. R-squared:                  0.879\nMethod:                 Least Squares   F-statistic:                     311.5\nDate:                Sun, 24 Mar 2019   Prob (F-statistic):          1.10e-131\nTime:                        16:45:14   Log-Likelihood:                -594.93\nNo. Observations:                 301   AIC:                             1206.\nDf Residuals:                     293   BIC:                             1236.\nDf Model:                           7                                         \nCovariance Type:            nonrobust                                         \n==========================================================================================\n                             coef    std err          t      P>|t|      [0.025      0.975]\n------------------------------------------------------------------------------------------\nconst                     -0.9175      0.312     -2.942      0.004      -1.531      -0.304\nYear                       6.0451      0.639      9.465      0.000       4.788       7.302\nPresent_Price             40.2023      1.476     27.237      0.000      37.297      43.107\nKms_Driven                -3.4987      1.617     -2.163      0.031      -6.682      -0.316\nFuel_Type_CNG             -1.3256      0.902     -1.470      0.143      -3.101       0.450\nFuel_Type_Diesel           1.1417      0.426      2.683      0.008       0.304       1.979\nFuel_Type_Petrol          -0.7336      0.382     -1.920      0.056      -1.486       0.019\nSeller_Type_Dealer         0.1278      0.206      0.621      0.535      -0.277       0.533\nSeller_Type_Individual    -1.0453      0.197     -5.304      0.000      -1.433      -0.657\nTransmission_Automatic     0.2566      0.261      0.984      0.326      -0.257       0.770\nTransmission_Manual       -1.1741      0.186     -6.314      0.000      -1.540      -0.808\n==============================================================================\nOmnibus:                       93.414   Durbin-Watson:                   1.785\nProb(Omnibus):                  0.000   Jarque-Bera (JB):              697.351\nSkew:                           1.044   Prob(JB):                    3.73e-152\nKurtosis:                      10.158   Cond. No.                     3.16e+16\n==============================================================================\n\nWarnings:\n[1] Standard Errors assume that the covariance matrix of the errors is correctly specified.\n[2] The smallest eigenvalue is 1.07e-30. This might indicate that there are\nstrong multicollinearity problems or that the design matrix is singular.\n\"\"\""
          },
          "metadata": {}
        }
      ]
    },
    {
      "metadata": {
        "trusted": true
      },
      "cell_type": "code",
      "source": "model.pvalues",
      "execution_count": 145,
      "outputs": [
        {
          "output_type": "execute_result",
          "execution_count": 145,
          "data": {
            "text/plain": "const                     3.518301e-03\nYear                      1.008229e-18\nPresent_Price             2.866310e-82\nKms_Driven                3.132499e-02\nFuel_Type_CNG             1.427325e-01\nFuel_Type_Diesel          7.708547e-03\nFuel_Type_Petrol          5.587934e-02\nSeller_Type_Dealer        5.348612e-01\nSeller_Type_Individual    2.239790e-07\nTransmission_Automatic    3.258806e-01\nTransmission_Manual       1.006992e-09\ndtype: float64"
          },
          "metadata": {}
        }
      ]
    },
    {
      "metadata": {
        "trusted": true
      },
      "cell_type": "code",
      "source": "X = X.drop([\"const\"],1)",
      "execution_count": 148,
      "outputs": []
    },
    {
      "metadata": {
        "trusted": true
      },
      "cell_type": "code",
      "source": "cols = list(X)\np_max = 1\nwhile (len(cols)>0):\n    p=[]\n    X_1= X[cols]\n    X_1 = sm.add_constant(X_1)\n    model = sm.OLS(y,X_1).fit()\n    p = list(model.pvalues.values[1:])\n    p = pd.Series(p,index = cols)\n    p_max = max(p)\n    features_with_p_max = p.idxmax()\n    if (p_max>0.05):\n        cols.remove(features_with_p_max)\n    else:\n        break\nselected_features = cols\n    ",
      "execution_count": 149,
      "outputs": []
    },
    {
      "metadata": {
        "trusted": true
      },
      "cell_type": "code",
      "source": "selected_features",
      "execution_count": 150,
      "outputs": [
        {
          "output_type": "execute_result",
          "execution_count": 150,
          "data": {
            "text/plain": "['Year',\n 'Present_Price',\n 'Kms_Driven',\n 'Fuel_Type_Diesel',\n 'Seller_Type_Individual',\n 'Transmission_Manual']"
          },
          "metadata": {}
        }
      ]
    },
    {
      "metadata": {
        "trusted": true
      },
      "cell_type": "code",
      "source": "X2=X[selected_features]",
      "execution_count": 151,
      "outputs": []
    },
    {
      "metadata": {
        "trusted": true
      },
      "cell_type": "code",
      "source": "X2.head()",
      "execution_count": 153,
      "outputs": [
        {
          "output_type": "execute_result",
          "execution_count": 153,
          "data": {
            "text/html": "<div>\n<style scoped>\n    .dataframe tbody tr th:only-of-type {\n        vertical-align: middle;\n    }\n\n    .dataframe tbody tr th {\n        vertical-align: top;\n    }\n\n    .dataframe thead th {\n        text-align: right;\n    }\n</style>\n<table border=\"1\" class=\"dataframe\">\n  <thead>\n    <tr style=\"text-align: right;\">\n      <th></th>\n      <th>Year</th>\n      <th>Present_Price</th>\n      <th>Kms_Driven</th>\n      <th>Fuel_Type_Diesel</th>\n      <th>Seller_Type_Individual</th>\n      <th>Transmission_Manual</th>\n    </tr>\n  </thead>\n  <tbody>\n    <tr>\n      <th>0</th>\n      <td>0.733333</td>\n      <td>0.057109</td>\n      <td>0.053053</td>\n      <td>0.0</td>\n      <td>0.0</td>\n      <td>1.0</td>\n    </tr>\n    <tr>\n      <th>1</th>\n      <td>0.666667</td>\n      <td>0.099913</td>\n      <td>0.085085</td>\n      <td>1.0</td>\n      <td>0.0</td>\n      <td>1.0</td>\n    </tr>\n    <tr>\n      <th>2</th>\n      <td>0.933333</td>\n      <td>0.103273</td>\n      <td>0.012813</td>\n      <td>0.0</td>\n      <td>0.0</td>\n      <td>1.0</td>\n    </tr>\n    <tr>\n      <th>3</th>\n      <td>0.533333</td>\n      <td>0.041504</td>\n      <td>0.009409</td>\n      <td>0.0</td>\n      <td>0.0</td>\n      <td>1.0</td>\n    </tr>\n    <tr>\n      <th>4</th>\n      <td>0.733333</td>\n      <td>0.070980</td>\n      <td>0.083984</td>\n      <td>1.0</td>\n      <td>0.0</td>\n      <td>1.0</td>\n    </tr>\n  </tbody>\n</table>\n</div>",
            "text/plain": "       Year  Present_Price  Kms_Driven  Fuel_Type_Diesel  \\\n0  0.733333       0.057109    0.053053               0.0   \n1  0.666667       0.099913    0.085085               1.0   \n2  0.933333       0.103273    0.012813               0.0   \n3  0.533333       0.041504    0.009409               0.0   \n4  0.733333       0.070980    0.083984               1.0   \n\n   Seller_Type_Individual  Transmission_Manual  \n0                     0.0                  1.0  \n1                     0.0                  1.0  \n2                     0.0                  1.0  \n3                     0.0                  1.0  \n4                     0.0                  1.0  "
          },
          "metadata": {}
        }
      ]
    },
    {
      "metadata": {
        "trusted": true
      },
      "cell_type": "code",
      "source": "x_train, x_test, y_train, y_test = tts(X2,y,test_size=0.2,random_state=0)\nlnr=LinearRegression()\nlnr.fit(x_train,y_train)\n",
      "execution_count": 158,
      "outputs": [
        {
          "output_type": "execute_result",
          "execution_count": 158,
          "data": {
            "text/plain": "LinearRegression(copy_X=True, fit_intercept=True, n_jobs=1, normalize=False)"
          },
          "metadata": {}
        }
      ]
    },
    {
      "metadata": {
        "trusted": true
      },
      "cell_type": "code",
      "source": "y_pred=lnr.predict(x_test)\nr2_score(y_pred,y_test)",
      "execution_count": 159,
      "outputs": [
        {
          "output_type": "execute_result",
          "execution_count": 159,
          "data": {
            "text/plain": "0.895058467541179"
          },
          "metadata": {}
        }
      ]
    },
    {
      "metadata": {
        "trusted": true
      },
      "cell_type": "code",
      "source": "knnr=KNeighborsRegressor(n_neighbors=3)\nknnr.fit(x_train,y_train)\ny_pred=knnr.predict(x_test)\nprint(r2_score(y_pred,y_test))\ncross_val_score(lnr,x_train,y_train,cv=10,scoring=\"r2\").mean()",
      "execution_count": 160,
      "outputs": [
        {
          "output_type": "stream",
          "text": "0.869329235729106\n",
          "name": "stdout"
        },
        {
          "output_type": "execute_result",
          "execution_count": 160,
          "data": {
            "text/plain": "0.7769431712053698"
          },
          "metadata": {}
        }
      ]
    },
    {
      "metadata": {
        "trusted": true
      },
      "cell_type": "code",
      "source": "params={\"n_neighbors\":np.arange(1,16)}\nknn_cv=GridSearchCV(knnr,param_grid=params,cv=10,scoring=\"r2\")\nknn_cv.fit(x_train,y_train)\nknn_cv.best_score_",
      "execution_count": 162,
      "outputs": [
        {
          "output_type": "execute_result",
          "execution_count": 162,
          "data": {
            "text/plain": "0.8518255208574598"
          },
          "metadata": {}
        }
      ]
    },
    {
      "metadata": {
        "trusted": true
      },
      "cell_type": "code",
      "source": "#Best Model is the one that uses Linear Regression alongwith feature selection",
      "execution_count": 163,
      "outputs": []
    },
    {
      "metadata": {
        "trusted": true
      },
      "cell_type": "code",
      "source": "#lasso\nlasso = LassoCV(alphas=np.arange(0.1,2,0.1))\nlasso.fit(x_train,y_train)\npred=lasso.predict(x_test)\nlasso.score(x_test,y_test)",
      "execution_count": 169,
      "outputs": [
        {
          "output_type": "execute_result",
          "execution_count": 169,
          "data": {
            "text/plain": "0.83248272176899"
          },
          "metadata": {}
        }
      ]
    },
    {
      "metadata": {
        "trusted": true
      },
      "cell_type": "code",
      "source": "ridge = RidgeCV(alphas = np.arange(0.1,2,0.1))\nridge.fit(x_train,y_train)\nridge.score(x_test,y_test)",
      "execution_count": 172,
      "outputs": [
        {
          "output_type": "execute_result",
          "execution_count": 172,
          "data": {
            "text/plain": "0.9036150365215191"
          },
          "metadata": {}
        }
      ]
    },
    {
      "metadata": {
        "trusted": true
      },
      "cell_type": "code",
      "source": "#Best Model is the one that uses Ridge Regression alongwith feature selection",
      "execution_count": null,
      "outputs": []
    }
  ],
  "metadata": {
    "kernelspec": {
      "name": "python36",
      "display_name": "Python 3.6",
      "language": "python"
    },
    "language_info": {
      "mimetype": "text/x-python",
      "nbconvert_exporter": "python",
      "name": "python",
      "pygments_lexer": "ipython3",
      "version": "3.6.6",
      "file_extension": ".py",
      "codemirror_mode": {
        "version": 3,
        "name": "ipython"
      }
    }
  },
  "nbformat": 4,
  "nbformat_minor": 2
}